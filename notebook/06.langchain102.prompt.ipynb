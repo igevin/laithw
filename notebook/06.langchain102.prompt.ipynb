{
 "cells": [
  {
   "metadata": {},
   "cell_type": "markdown",
   "source": "# Partial Variable\n",
   "id": "a26415c8ab32135b"
  },
  {
   "metadata": {},
   "cell_type": "markdown",
   "source": "## 原始用法",
   "id": "5deb767ebbddd75d"
  },
  {
   "metadata": {
    "ExecuteTime": {
     "end_time": "2024-12-28T08:45:43.739131Z",
     "start_time": "2024-12-28T08:45:39.867010Z"
    }
   },
   "cell_type": "code",
   "source": [
    "from langchain_core.prompts import ChatPromptTemplate\n",
    "from langchain_openai import ChatOpenAI\n",
    "\n",
    "msgs = [\n",
    "    (\"system\", \"你是一个有氧拳击教练，请帮我解释拳击术语，如果术语是英文，请先翻译为中文。\"\n",
    "               \"{format_instructions}\"),\n",
    "    (\"human\", \"术语：{name}\")\n",
    "]\n",
    "\n",
    "format_instructions = \"\"\"结果请按以下形式输出为 json 格式:\n",
    "\n",
    "{\n",
    "\t\"terminology\": string  // 中文术语名称\n",
    "\t\"explanation\": string  // 术语的解释\n",
    "}\n",
    "\"\"\"\n",
    "\n",
    "prompt = ChatPromptTemplate.from_messages(msgs).partial(format_instructions=format_instructions)\n",
    "\n",
    "chat_model = ChatOpenAI(model_name=\"openai/gpt-4o-mini\")\n",
    "chain = prompt | chat_model\n",
    "\n",
    "resp = chain.invoke({\"name\": \"下潜躲避\"})\n",
    "print(resp.content)\n"
   ],
   "id": "7bbeaedb5c222247",
   "outputs": [
    {
     "name": "stdout",
     "output_type": "stream",
     "text": [
      "{\n",
      "\t\"terminology\": \"下潜躲避\",\n",
      "\t\"explanation\": \"下潜躲避是一种拳击技术，指的是拳击手通过弯曲膝盖和下沉身体来躲避对手的攻击。这个动作可以帮助拳击手降低重心，从而避免被击中，同时也为反击创造机会。\"\n",
      "}\n"
     ]
    }
   ],
   "execution_count": 17
  },
  {
   "metadata": {},
   "cell_type": "markdown",
   "source": "## 配合 OutputParser 规范输出",
   "id": "de6f5ab119591094"
  },
  {
   "metadata": {
    "ExecuteTime": {
     "end_time": "2024-12-28T12:34:56.191136Z",
     "start_time": "2024-12-28T12:34:49.512532Z"
    }
   },
   "cell_type": "code",
   "source": [
    "from langchain_core.prompts import PromptTemplate\n",
    "from langchain_core.output_parsers import JsonOutputParser\n",
    "from langchain_openai import ChatOpenAI\n",
    "from pydantic import BaseModel, Field\n",
    "\n",
    "\n",
    "class Work(BaseModel):\n",
    "    title: str = Field(description=\"作品名称\")\n",
    "    description: str = Field(description=\"作品简介\")\n",
    "\n",
    "parser = JsonOutputParser(pydantic_object=Work)\n",
    "\n",
    "prompt = PromptTemplate(\n",
    "    template=\"请列举 3 部 {author} 的作品。\\n{format_instructions}\",\n",
    "    input_variables=[\"author\"],\n",
    "    partial_variables={\"format_instructions\": parser.get_format_instructions()}\n",
    ")\n",
    "\n",
    "chat = ChatOpenAI(model_name=\"openai/gpt-4o-mini\")\n",
    "chain = prompt | chat | parser\n",
    "\n",
    "resp = chain.invoke({\"author\": \"鲁迅\"})\n",
    "print(resp, \"\\n\\n\", type(resp), \"\\n\", len(resp), \"\\n\", type(resp[0]))\n"
   ],
   "id": "3e059e1819607016",
   "outputs": [
    {
     "name": "stdout",
     "output_type": "stream",
     "text": [
      "[{'title': '狂人日记', 'description': '这是鲁迅的第一篇白话文小说，通过一个精神病患者的视角，揭示了社会的黑暗与人性的扭曲。'}, {'title': '阿Q正传', 'description': '这部作品通过阿Q这一角色，讽刺了中国社会的劣根性，深刻反映了那个时代人们的精神状态。'}, {'title': '呐喊', 'description': '《呐喊》是鲁迅的短篇小说集，集中展现了社会的压迫和个人的无奈，是中国现代文学的重要作品。'}] \n",
      "\n",
      " <class 'list'> \n",
      " 3 \n",
      " <class 'dict'>\n"
     ]
    }
   ],
   "execution_count": 22
  },
  {
   "metadata": {},
   "cell_type": "markdown",
   "source": "# Few Shot Prompt Template",
   "id": "8ce17b19c58be5eb"
  },
  {
   "metadata": {
    "ExecuteTime": {
     "end_time": "2024-12-28T08:55:35.864481Z",
     "start_time": "2024-12-28T08:55:33.415727Z"
    }
   },
   "cell_type": "code",
   "source": [
    "from langchain_core.prompts import FewShotPromptTemplate, PromptTemplate\n",
    "from langchain_openai import ChatOpenAI\n",
    "\n",
    "chat = ChatOpenAI(model_name=\"openai/gpt-4o-mini\")\n",
    "\n",
    "samples = [\n",
    "    {\n",
    "        \"flower_type\": \"玫瑰\",\n",
    "        \"occasion\": \"爱情\",\n",
    "        \"ad_copy\": \"玫瑰，浪漫的象征，是你向心爱的人表达爱意的最佳选择。\"\n",
    "    },\n",
    "    {\n",
    "        \"flower_type\": \"康乃馨\",\n",
    "        \"occasion\": \"母亲节\",\n",
    "        \"ad_copy\": \"康乃馨代表着母爱的纯洁与伟大，是母亲节赠送给母亲的完美礼物。\"\n",
    "    },\n",
    "    {\n",
    "        \"flower_type\": \"百合\",\n",
    "        \"occasion\": \"庆祝\",\n",
    "        \"ad_copy\": \"百合象征着纯洁与高雅，是你庆祝特殊时刻的理想选择。\"\n",
    "    },\n",
    "    {\n",
    "        \"flower_type\": \"向日葵\",\n",
    "        \"occasion\": \"鼓励\",\n",
    "        \"ad_copy\": \"向日葵象征着坚韧和乐观，是你鼓励亲朋好友的最好方式。\"\n",
    "    }\n",
    "]\n",
    "\n",
    "template = \"鲜花类型: {flower_type}\\n场合: {occasion}\\n文案: {ad_copy}\"\n",
    "\n",
    "prompt = FewShotPromptTemplate(\n",
    "    example_prompt=PromptTemplate.from_template(template),\n",
    "    examples=samples,\n",
    "    suffix=\"鲜花类型: {flower_type}\\n场合: {occasion}\",\n",
    ")\n",
    "res = prompt.invoke({\"flower_type\": \"野玫瑰\", \"occasion\": \"爱情\"})\n",
    "print(res.to_string(), \"\\n\\n\\n\")\n",
    "\n",
    "print(chat.invoke(res).content)\n"
   ],
   "id": "c5b24ca404a5881f",
   "outputs": [
    {
     "name": "stdout",
     "output_type": "stream",
     "text": [
      "鲜花类型: 玫瑰\n",
      "场合: 爱情\n",
      "文案: 玫瑰，浪漫的象征，是你向心爱的人表达爱意的最佳选择。\n",
      "\n",
      "鲜花类型: 康乃馨\n",
      "场合: 母亲节\n",
      "文案: 康乃馨代表着母爱的纯洁与伟大，是母亲节赠送给母亲的完美礼物。\n",
      "\n",
      "鲜花类型: 百合\n",
      "场合: 庆祝\n",
      "文案: 百合象征着纯洁与高雅，是你庆祝特殊时刻的理想选择。\n",
      "\n",
      "鲜花类型: 向日葵\n",
      "场合: 鼓励\n",
      "文案: 向日葵象征着坚韧和乐观，是你鼓励亲朋好友的最好方式。\n",
      "\n",
      "鲜花类型: 野玫瑰\n",
      "场合: 爱情 \n",
      "\n",
      "\n",
      "\n",
      "文案: 野玫瑰，散发着自然的魅力与独特的个性，是向那个特别的人表达真挚爱意的别致选择。\n"
     ]
    }
   ],
   "execution_count": 20
  },
  {
   "metadata": {},
   "cell_type": "markdown",
   "source": "## 使用示例选择器",
   "id": "ab5ff270d8fa139a"
  },
  {
   "metadata": {
    "ExecuteTime": {
     "end_time": "2024-12-18T12:27:03.439858Z",
     "start_time": "2024-12-18T12:26:58.064707Z"
    }
   },
   "cell_type": "code",
   "source": [
    "from langchain_core.prompts import FewShotPromptTemplate, PromptTemplate\n",
    "from langchain.prompts.example_selector import SemanticSimilarityExampleSelector\n",
    "from langchain_qdrant import QdrantVectorStore\n",
    "from langchain_openai import ChatOpenAI\n",
    "from langchain_ollama import OllamaEmbeddings\n",
    "\n",
    "chat = ChatOpenAI(model_name=\"openai/gpt-4o-mini\")\n",
    "embedding = OllamaEmbeddings(model=\"nomic-embed-text\", base_url=\"http://localhost:11434\")\n",
    "\n",
    "samples = [\n",
    "    {\n",
    "        \"flower_type\": \"玫瑰\",\n",
    "        \"occasion\": \"爱情\",\n",
    "        \"ad_copy\": \"玫瑰，浪漫的象征，是你向心爱的人表达爱意的最佳选择。\"\n",
    "    },\n",
    "    {\n",
    "        \"flower_type\": \"康乃馨\",\n",
    "        \"occasion\": \"母亲节\",\n",
    "        \"ad_copy\": \"康乃馨代表着母爱的纯洁与伟大，是母亲节赠送给母亲的完美礼物。\"\n",
    "    },\n",
    "    {\n",
    "        \"flower_type\": \"百合\",\n",
    "        \"occasion\": \"庆祝\",\n",
    "        \"ad_copy\": \"百合象征着纯洁与高雅，是你庆祝特殊时刻的理想选择。\"\n",
    "    },\n",
    "    {\n",
    "        \"flower_type\": \"向日葵\",\n",
    "        \"occasion\": \"鼓励\",\n",
    "        \"ad_copy\": \"向日葵象征着坚韧和乐观，是你鼓励亲朋好友的最好方式。\"\n",
    "    }\n",
    "]\n",
    "\n",
    "template = \"鲜花类型: {flower_type}\\n场合: {occasion}\\n文案: {ad_copy}\"\n",
    "example_selector = SemanticSimilarityExampleSelector.from_examples(samples, embedding, QdrantVectorStore, k=1)\n",
    "\n",
    "prompt = FewShotPromptTemplate(\n",
    "    example_prompt=PromptTemplate.from_template(template),\n",
    "    example_selector=example_selector,\n",
    "    suffix=\"鲜花类型: {flower_type}\\n场合: {occasion}\",\n",
    ")\n",
    "res = prompt.invoke({\"flower_type\": \"野玫瑰\", \"occasion\": \"爱情\"})\n",
    "\n",
    "print(res.to_string(), \"\\n\\n\\n\")\n",
    "\n",
    "print(chat.invoke(res).content)"
   ],
   "id": "20ceca45dd55ff59",
   "outputs": [
    {
     "name": "stdout",
     "output_type": "stream",
     "text": [
      "鲜花类型: 玫瑰\n",
      "场合: 爱情\n",
      "文案: 玫瑰，浪漫的象征，是你向心爱的人表达爱意的最佳选择。\n",
      "\n",
      "鲜花类型: 野玫瑰\n",
      "场合: 爱情 \n",
      "\n",
      "\n",
      "\n",
      "文案: 野玫瑰，虽不如红玫瑰般夺目，却散发着自然的纯真与坚韧，寓意着真实而不拘一格的爱情。送上一束野玫瑰，让心爱的人感受到你对她独特而深沉的爱意。\n"
     ]
    }
   ],
   "execution_count": 17
  },
  {
   "metadata": {
    "ExecuteTime": {
     "end_time": "2024-12-18T14:26:31.577880Z",
     "start_time": "2024-12-18T14:25:33.679066Z"
    }
   },
   "cell_type": "code",
   "source": [
    "from langchain_huggingface import HuggingFaceEmbeddings\n",
    "\n",
    "embedding = HuggingFaceEmbeddings(model_name=\"sentence-transformers/all-mpnet-base-v2\")\n",
    "\n",
    "example_selector = SemanticSimilarityExampleSelector.from_examples(samples, embedding, QdrantVectorStore, k=1)\n",
    "\n",
    "prompt = FewShotPromptTemplate(\n",
    "    example_prompt=PromptTemplate.from_template(template),\n",
    "    example_selector=example_selector,\n",
    "    suffix=\"鲜花类型: {flower_type}\\n场合: {occasion}\",\n",
    ")\n",
    "res = prompt.invoke({\"flower_type\": \"野玫瑰\", \"occasion\": \"爱情\"})\n",
    "\n",
    "print(res.to_string(), \"\\n\\n\\n\")\n",
    "\n",
    "print(chat.invoke(res).content)"
   ],
   "id": "82a8c75db0b7127d",
   "outputs": [
    {
     "name": "stdout",
     "output_type": "stream",
     "text": [
      "鲜花类型: 康乃馨\n",
      "场合: 母亲节\n",
      "文案: 康乃馨代表着母爱的纯洁与伟大，是母亲节赠送给母亲的完美礼物。\n",
      "\n",
      "鲜花类型: 野玫瑰\n",
      "场合: 爱情 \n",
      "\n",
      "\n",
      "\n",
      "文案: 野玫瑰象征着热烈与自由，传达出真挚的爱意，是表达爱情的最佳选择。在这个特别的时刻，让野玫瑰为你的心声添上浪漫的色彩。\n"
     ]
    }
   ],
   "execution_count": 19
  }
 ],
 "metadata": {
  "kernelspec": {
   "display_name": "Python 3",
   "language": "python",
   "name": "python3"
  },
  "language_info": {
   "codemirror_mode": {
    "name": "ipython",
    "version": 2
   },
   "file_extension": ".py",
   "mimetype": "text/x-python",
   "name": "python",
   "nbconvert_exporter": "python",
   "pygments_lexer": "ipython2",
   "version": "2.7.6"
  }
 },
 "nbformat": 4,
 "nbformat_minor": 5
}
