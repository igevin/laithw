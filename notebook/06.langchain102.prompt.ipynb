{
 "cells": [
  {
   "metadata": {},
   "cell_type": "markdown",
   "source": "# 1. Partial Variable\n",
   "id": "a26415c8ab32135b"
  },
  {
   "metadata": {},
   "cell_type": "markdown",
   "source": "## 1.1 原始用法",
   "id": "5deb767ebbddd75d"
  },
  {
   "metadata": {
    "ExecuteTime": {
     "end_time": "2024-12-28T08:45:43.739131Z",
     "start_time": "2024-12-28T08:45:39.867010Z"
    }
   },
   "cell_type": "code",
   "source": [
    "from langchain_core.prompts import ChatPromptTemplate\n",
    "from langchain_openai import ChatOpenAI\n",
    "\n",
    "msgs = [\n",
    "    (\"system\", \"你是一个有氧拳击教练，请帮我解释拳击术语，如果术语是英文，请先翻译为中文。\"\n",
    "               \"{format_instructions}\"),\n",
    "    (\"human\", \"术语：{name}\")\n",
    "]\n",
    "\n",
    "format_instructions = \"\"\"结果请按以下形式输出为 json 格式:\n",
    "\n",
    "{\n",
    "\t\"terminology\": string  // 中文术语名称\n",
    "\t\"explanation\": string  // 术语的解释\n",
    "}\n",
    "\"\"\"\n",
    "\n",
    "prompt = ChatPromptTemplate.from_messages(msgs).partial(format_instructions=format_instructions)\n",
    "\n",
    "chat_model = ChatOpenAI(model_name=\"openai/gpt-4o-mini\")\n",
    "chain = prompt | chat_model\n",
    "\n",
    "resp = chain.invoke({\"name\": \"下潜躲避\"})\n",
    "print(resp.content)\n"
   ],
   "id": "7bbeaedb5c222247",
   "outputs": [
    {
     "name": "stdout",
     "output_type": "stream",
     "text": [
      "{\n",
      "\t\"terminology\": \"下潜躲避\",\n",
      "\t\"explanation\": \"下潜躲避是一种拳击技术，指的是拳击手通过弯曲膝盖和下沉身体来躲避对手的攻击。这个动作可以帮助拳击手降低重心，从而避免被击中，同时也为反击创造机会。\"\n",
      "}\n"
     ]
    }
   ],
   "execution_count": 17
  },
  {
   "metadata": {},
   "cell_type": "markdown",
   "source": "## 1.2 配合 OutputParser 规范输出",
   "id": "de6f5ab119591094"
  },
  {
   "metadata": {
    "ExecuteTime": {
     "end_time": "2024-12-28T12:34:56.191136Z",
     "start_time": "2024-12-28T12:34:49.512532Z"
    }
   },
   "cell_type": "code",
   "source": [
    "from langchain_core.prompts import PromptTemplate\n",
    "from langchain_core.output_parsers import JsonOutputParser\n",
    "from langchain_openai import ChatOpenAI\n",
    "from pydantic import BaseModel, Field\n",
    "\n",
    "\n",
    "class Work(BaseModel):\n",
    "    title: str = Field(description=\"作品名称\")\n",
    "    description: str = Field(description=\"作品简介\")\n",
    "\n",
    "\n",
    "parser = JsonOutputParser(pydantic_object=Work)\n",
    "\n",
    "prompt = PromptTemplate(\n",
    "    template=\"请列举 3 部 {author} 的作品。\\n{format_instructions}\",\n",
    "    input_variables=[\"author\"],\n",
    "    partial_variables={\"format_instructions\": parser.get_format_instructions()}\n",
    ")\n",
    "\n",
    "chat = ChatOpenAI(model_name=\"openai/gpt-4o-mini\")\n",
    "chain = prompt | chat | parser\n",
    "\n",
    "resp = chain.invoke({\"author\": \"鲁迅\"})\n",
    "print(resp, \"\\n\\n\", type(resp), \"\\n\", len(resp), \"\\n\", type(resp[0]))\n"
   ],
   "id": "3e059e1819607016",
   "outputs": [
    {
     "name": "stdout",
     "output_type": "stream",
     "text": [
      "[{'title': '狂人日记', 'description': '这是鲁迅的第一篇白话文小说，通过一个精神病患者的视角，揭示了社会的黑暗与人性的扭曲。'}, {'title': '阿Q正传', 'description': '这部作品通过阿Q这一角色，讽刺了中国社会的劣根性，深刻反映了那个时代人们的精神状态。'}, {'title': '呐喊', 'description': '《呐喊》是鲁迅的短篇小说集，集中展现了社会的压迫和个人的无奈，是中国现代文学的重要作品。'}] \n",
      "\n",
      " <class 'list'> \n",
      " 3 \n",
      " <class 'dict'>\n"
     ]
    }
   ],
   "execution_count": 22
  },
  {
   "metadata": {},
   "cell_type": "markdown",
   "source": [
    "# 2. Few Shot Prompt Template\n",
    "\n",
    "核心用法是，创建一个 `FewShotPromptTemplate` 类型的对象，完成创建后，这个 prompt 可以传给 ChatModel 或 LLM 直接使用。\n",
    "\n",
    "传入参数为：\n",
    "\n",
    "- example：few shot 的样例数据\n",
    "- example_prompt：PromptTemplate类型，要与 example 能对应上\n",
    "- prefix 和 suffix：本 prompt 的前缀和后缀，也就是说，通过上面两个参数，这个 prompt 已经有了大体内容，但还不完整，然后可以通过这两个参数把 prompt 的完整内容补齐，其中，suffix 是必传的\n",
    "\n",
    "另外还有个参数是 `example_selector`，它和 example 的作用是一样的，都是为了提供 Few Shot 样例数据，二选一即可。二者的主要区别是，如果样例数据很多，提示词了放不下，或者用户提供了很多样例数据，需要大模型根据语境动态选择一部分样例时，使用这个参数。\n",
    "\n",
    "`example_selector` 的使用，下面会单独一节说明，本节从 Fixed Example 讲起。"
   ],
   "id": "8ce17b19c58be5eb"
  },
  {
   "metadata": {},
   "cell_type": "markdown",
   "source": "## 2.1 Fixed Examples",
   "id": "f746e26cb3ce2011"
  },
  {
   "metadata": {
    "ExecuteTime": {
     "end_time": "2024-12-29T07:39:02.612302Z",
     "start_time": "2024-12-29T07:39:02.594583Z"
    }
   },
   "cell_type": "code",
   "source": [
    "from langchain_core.prompts import FewShotPromptTemplate, PromptTemplate\n",
    "from langchain_openai import ChatOpenAI\n",
    "\n",
    "chat = ChatOpenAI(model_name=\"openai/gpt-4o-mini\")\n",
    "\n",
    "samples = [\n",
    "    {\n",
    "        \"flower_type\": \"玫瑰\",\n",
    "        \"occasion\": \"爱情\",\n",
    "        \"ad_copy\": \"玫瑰，浪漫的象征，是你向心爱的人表达爱意的最佳选择。\"\n",
    "    },\n",
    "    {\n",
    "        \"flower_type\": \"康乃馨\",\n",
    "        \"occasion\": \"母亲节\",\n",
    "        \"ad_copy\": \"康乃馨代表着母爱的纯洁与伟大，是母亲节赠送给母亲的完美礼物。\"\n",
    "    },\n",
    "    {\n",
    "        \"flower_type\": \"百合\",\n",
    "        \"occasion\": \"庆祝\",\n",
    "        \"ad_copy\": \"百合象征着纯洁与高雅，是你庆祝特殊时刻的理想选择。\"\n",
    "    },\n",
    "    {\n",
    "        \"flower_type\": \"向日葵\",\n",
    "        \"occasion\": \"鼓励\",\n",
    "        \"ad_copy\": \"向日葵象征着坚韧和乐观，是你鼓励亲朋好友的最好方式。\"\n",
    "    }\n",
    "]\n",
    "\n",
    "example_template = \"鲜花类型: {flower_type}\\n场合: {occasion}\\n文案: {ad_copy}\"\n",
    "example_prompt = PromptTemplate.from_template(example_template)\n",
    "\n",
    "prompt = FewShotPromptTemplate(\n",
    "    example_prompt=example_prompt,\n",
    "    examples=samples,\n",
    "    suffix=\"鲜花类型: {flower_type}\\n场合: {occasion}\",\n",
    ")\n",
    "res = prompt.invoke({\"flower_type\": \"桂花\", \"occasion\": \"中秋\"})\n",
    "print(res.to_string(), \"\\n\\n\")\n",
    "\n",
    "# print(chat.invoke(res).content)\n"
   ],
   "id": "c5b24ca404a5881f",
   "outputs": [
    {
     "name": "stdout",
     "output_type": "stream",
     "text": [
      "鲜花类型: 玫瑰\n",
      "场合: 爱情\n",
      "文案: 玫瑰，浪漫的象征，是你向心爱的人表达爱意的最佳选择。\n",
      "\n",
      "鲜花类型: 康乃馨\n",
      "场合: 母亲节\n",
      "文案: 康乃馨代表着母爱的纯洁与伟大，是母亲节赠送给母亲的完美礼物。\n",
      "\n",
      "鲜花类型: 百合\n",
      "场合: 庆祝\n",
      "文案: 百合象征着纯洁与高雅，是你庆祝特殊时刻的理想选择。\n",
      "\n",
      "鲜花类型: 向日葵\n",
      "场合: 鼓励\n",
      "文案: 向日葵象征着坚韧和乐观，是你鼓励亲朋好友的最好方式。\n",
      "\n",
      "鲜花类型: 桂花\n",
      "场合: 中秋 \n",
      "\n",
      "\n"
     ]
    }
   ],
   "execution_count": 36
  },
  {
   "metadata": {
    "ExecuteTime": {
     "end_time": "2024-12-29T07:39:08.872886Z",
     "start_time": "2024-12-29T07:39:05.918004Z"
    }
   },
   "cell_type": "code",
   "source": "print(chat.invoke(res).content)",
   "id": "feb0509ee7b88a3c",
   "outputs": [
    {
     "name": "stdout",
     "output_type": "stream",
     "text": [
      "文案: 桂花散发着浓郁的香气，象征着团圆与美好，是中秋佳节送给亲友的温馨祝福。\n"
     ]
    }
   ],
   "execution_count": 37
  },
  {
   "metadata": {
    "ExecuteTime": {
     "end_time": "2024-12-29T07:34:12.111612Z",
     "start_time": "2024-12-29T07:34:12.108529Z"
    }
   },
   "cell_type": "code",
   "source": [
    "template = \"\"\"请根据下面的鲜花类型和场合，写一段合适的文案，用于宣传推广。\n",
    "鲜花类型：{flower_type}\n",
    "场合：{occasion}\n",
    "\"\"\"\n",
    "\n",
    "prompt2 = FewShotPromptTemplate(\n",
    "    prefix=template,\n",
    "    example_prompt=example_prompt,\n",
    "    examples=samples,\n",
    "    input_variables=[\"flower_type\", \"occasion\"],\n",
    "    suffix=\"\"\n",
    ")\n",
    "\n",
    "res = prompt2.invoke({\"flower_type\": \"桂花\", \"occasion\": \"中秋\"})\n",
    "print(res.to_string())"
   ],
   "id": "47b056433e50e1ff",
   "outputs": [
    {
     "name": "stdout",
     "output_type": "stream",
     "text": [
      "请根据下面的鲜花类型和场合，写一段合适的文案，用于宣传推广。\n",
      "鲜花类型：桂花\n",
      "场合：中秋\n",
      "\n",
      "\n",
      "鲜花类型: 玫瑰\n",
      "场合: 爱情\n",
      "文案: 玫瑰，浪漫的象征，是你向心爱的人表达爱意的最佳选择。\n",
      "\n",
      "鲜花类型: 康乃馨\n",
      "场合: 母亲节\n",
      "文案: 康乃馨代表着母爱的纯洁与伟大，是母亲节赠送给母亲的完美礼物。\n",
      "\n",
      "鲜花类型: 百合\n",
      "场合: 庆祝\n",
      "文案: 百合象征着纯洁与高雅，是你庆祝特殊时刻的理想选择。\n",
      "\n",
      "鲜花类型: 向日葵\n",
      "场合: 鼓励\n",
      "文案: 向日葵象征着坚韧和乐观，是你鼓励亲朋好友的最好方式。\n"
     ]
    }
   ],
   "execution_count": 32
  },
  {
   "metadata": {
    "ExecuteTime": {
     "end_time": "2024-12-29T07:34:18.213088Z",
     "start_time": "2024-12-29T07:34:14.690449Z"
    }
   },
   "cell_type": "code",
   "source": "print(chat.invoke(res).content)",
   "id": "fd2b68b454bd8a83",
   "outputs": [
    {
     "name": "stdout",
     "output_type": "stream",
     "text": [
      "鲜花类型：桂花  \n",
      "场合：中秋  \n",
      "文案：桂花，香气四溢，象征着团圆与美好，是中秋佳节送给亲友的心意之选。让这份浓郁的香气，伴随明月，共同传递家人间的深情厚谊，带来无尽的祝福与温馨。\n"
     ]
    }
   ],
   "execution_count": 33
  },
  {
   "metadata": {
    "ExecuteTime": {
     "end_time": "2024-12-29T07:46:24.275330Z",
     "start_time": "2024-12-29T07:46:21.170021Z"
    }
   },
   "cell_type": "code",
   "source": [
    "template = \"\"\"请根据下面的鲜花类型和场合，写一段合适的文案，用于宣传推广。\n",
    "鲜花类型：{flower_type}\n",
    "场合：{occasion}\n",
    "\"\"\"\n",
    "\n",
    "prompt3 = FewShotPromptTemplate(\n",
    "    example_prompt=example_prompt,\n",
    "    examples=samples,\n",
    "    prefix=template,\n",
    "    suffix=\"输出要求：只要输出文案即可\"\n",
    ")\n",
    "\n",
    "res = prompt3.invoke({\"flower_type\": \"桂花\", \"occasion\": \"中秋\"})\n",
    "print(res.to_string(), \"\\n\\n\\n\")\n",
    "print(chat.invoke(res).content)"
   ],
   "id": "8d4963b2f856afb",
   "outputs": [
    {
     "name": "stdout",
     "output_type": "stream",
     "text": [
      "请根据下面的鲜花类型和场合，写一段合适的文案，用于宣传推广。\n",
      "鲜花类型：桂花\n",
      "场合：中秋\n",
      "\n",
      "\n",
      "鲜花类型: 玫瑰\n",
      "场合: 爱情\n",
      "文案: 玫瑰，浪漫的象征，是你向心爱的人表达爱意的最佳选择。\n",
      "\n",
      "鲜花类型: 康乃馨\n",
      "场合: 母亲节\n",
      "文案: 康乃馨代表着母爱的纯洁与伟大，是母亲节赠送给母亲的完美礼物。\n",
      "\n",
      "鲜花类型: 百合\n",
      "场合: 庆祝\n",
      "文案: 百合象征着纯洁与高雅，是你庆祝特殊时刻的理想选择。\n",
      "\n",
      "鲜花类型: 向日葵\n",
      "场合: 鼓励\n",
      "文案: 向日葵象征着坚韧和乐观，是你鼓励亲朋好友的最好方式。\n",
      "\n",
      "输出要求：只要输出文案即可 \n",
      "\n",
      "\n",
      "\n",
      "桂花，馨香四溢，象征着团圆与美好，是中秋佳节送给亲友的绝佳选择。让这份芬芳伴随月光，传递你对家人和朋友的思念与祝福，共享团圆的温暖时刻。\n"
     ]
    }
   ],
   "execution_count": 47
  },
  {
   "metadata": {
    "ExecuteTime": {
     "end_time": "2024-12-29T07:46:53.736218Z",
     "start_time": "2024-12-29T07:46:50.235302Z"
    }
   },
   "cell_type": "code",
   "source": [
    "template = \"\"\"请根据下面的鲜花类型和场合，写一段合适的文案，用于宣传推广。\n",
    "鲜花类型：{flower}\n",
    "场合：{case}\n",
    "\"\"\"\n",
    "\n",
    "prompt4 = FewShotPromptTemplate(\n",
    "    example_prompt=example_prompt,\n",
    "    examples=samples,\n",
    "    input_variables=[\"flower\", \"case\"],\n",
    "    suffix=template\n",
    ")\n",
    "\n",
    "res = prompt4.invoke({\"flower\": \"桂花\", \"case\": \"中秋\"})\n",
    "print(res.to_string(), \"\\n\\n\\n\")\n",
    "print(chat.invoke(res).content)"
   ],
   "id": "849be783a5af454b",
   "outputs": [
    {
     "name": "stdout",
     "output_type": "stream",
     "text": [
      "鲜花类型: 玫瑰\n",
      "场合: 爱情\n",
      "文案: 玫瑰，浪漫的象征，是你向心爱的人表达爱意的最佳选择。\n",
      "\n",
      "鲜花类型: 康乃馨\n",
      "场合: 母亲节\n",
      "文案: 康乃馨代表着母爱的纯洁与伟大，是母亲节赠送给母亲的完美礼物。\n",
      "\n",
      "鲜花类型: 百合\n",
      "场合: 庆祝\n",
      "文案: 百合象征着纯洁与高雅，是你庆祝特殊时刻的理想选择。\n",
      "\n",
      "鲜花类型: 向日葵\n",
      "场合: 鼓励\n",
      "文案: 向日葵象征着坚韧和乐观，是你鼓励亲朋好友的最好方式。\n",
      "\n",
      "请根据下面的鲜花类型和场合，写一段合适的文案，用于宣传推广。\n",
      "鲜花类型：桂花\n",
      "场合：中秋\n",
      " \n",
      "\n",
      "\n",
      "\n",
      "鲜花类型: 桂花  \n",
      "场合: 中秋  \n",
      "文案: 桂花，象征着团圆与思念，是中秋佳节传递情感的最佳选择。在这个象征着丰收与团聚的时刻，送上一束桂花，表达对亲人和朋友的祝福，让浓郁的桂香伴随明月，共同庆祝美好的团圆时光。\n"
     ]
    }
   ],
   "execution_count": 48
  },
  {
   "metadata": {},
   "cell_type": "markdown",
   "source": "## 2.2 使用示例选择器",
   "id": "ab5ff270d8fa139a"
  },
  {
   "metadata": {
    "ExecuteTime": {
     "end_time": "2024-12-18T12:27:03.439858Z",
     "start_time": "2024-12-18T12:26:58.064707Z"
    }
   },
   "cell_type": "code",
   "source": [
    "from langchain_core.prompts import FewShotPromptTemplate, PromptTemplate\n",
    "from langchain.prompts.example_selector import SemanticSimilarityExampleSelector\n",
    "from langchain_qdrant import QdrantVectorStore\n",
    "from langchain_openai import ChatOpenAI\n",
    "from langchain_ollama import OllamaEmbeddings\n",
    "\n",
    "chat = ChatOpenAI(model_name=\"openai/gpt-4o-mini\")\n",
    "embedding = OllamaEmbeddings(model=\"nomic-embed-text\", base_url=\"http://localhost:11434\")\n",
    "\n",
    "samples = [\n",
    "    {\n",
    "        \"flower_type\": \"玫瑰\",\n",
    "        \"occasion\": \"爱情\",\n",
    "        \"ad_copy\": \"玫瑰，浪漫的象征，是你向心爱的人表达爱意的最佳选择。\"\n",
    "    },\n",
    "    {\n",
    "        \"flower_type\": \"康乃馨\",\n",
    "        \"occasion\": \"母亲节\",\n",
    "        \"ad_copy\": \"康乃馨代表着母爱的纯洁与伟大，是母亲节赠送给母亲的完美礼物。\"\n",
    "    },\n",
    "    {\n",
    "        \"flower_type\": \"百合\",\n",
    "        \"occasion\": \"庆祝\",\n",
    "        \"ad_copy\": \"百合象征着纯洁与高雅，是你庆祝特殊时刻的理想选择。\"\n",
    "    },\n",
    "    {\n",
    "        \"flower_type\": \"向日葵\",\n",
    "        \"occasion\": \"鼓励\",\n",
    "        \"ad_copy\": \"向日葵象征着坚韧和乐观，是你鼓励亲朋好友的最好方式。\"\n",
    "    }\n",
    "]\n",
    "\n",
    "template = \"鲜花类型: {flower_type}\\n场合: {occasion}\\n文案: {ad_copy}\"\n",
    "example_selector = SemanticSimilarityExampleSelector.from_examples(samples, embedding, QdrantVectorStore, k=1)\n",
    "\n",
    "prompt = FewShotPromptTemplate(\n",
    "    example_prompt=PromptTemplate.from_template(template),\n",
    "    example_selector=example_selector,\n",
    "    suffix=\"鲜花类型: {flower_type}\\n场合: {occasion}\",\n",
    ")\n",
    "res = prompt.invoke({\"flower_type\": \"野玫瑰\", \"occasion\": \"爱情\"})\n",
    "\n",
    "print(res.to_string(), \"\\n\\n\\n\")\n",
    "\n",
    "print(chat.invoke(res).content)"
   ],
   "id": "20ceca45dd55ff59",
   "outputs": [
    {
     "name": "stdout",
     "output_type": "stream",
     "text": [
      "鲜花类型: 玫瑰\n",
      "场合: 爱情\n",
      "文案: 玫瑰，浪漫的象征，是你向心爱的人表达爱意的最佳选择。\n",
      "\n",
      "鲜花类型: 野玫瑰\n",
      "场合: 爱情 \n",
      "\n",
      "\n",
      "\n",
      "文案: 野玫瑰，虽不如红玫瑰般夺目，却散发着自然的纯真与坚韧，寓意着真实而不拘一格的爱情。送上一束野玫瑰，让心爱的人感受到你对她独特而深沉的爱意。\n"
     ]
    }
   ],
   "execution_count": 17
  },
  {
   "metadata": {
    "ExecuteTime": {
     "end_time": "2024-12-18T14:26:31.577880Z",
     "start_time": "2024-12-18T14:25:33.679066Z"
    }
   },
   "cell_type": "code",
   "source": [
    "from langchain_huggingface import HuggingFaceEmbeddings\n",
    "\n",
    "embedding = HuggingFaceEmbeddings(model_name=\"sentence-transformers/all-mpnet-base-v2\")\n",
    "\n",
    "example_selector = SemanticSimilarityExampleSelector.from_examples(samples, embedding, QdrantVectorStore, k=1)\n",
    "\n",
    "prompt = FewShotPromptTemplate(\n",
    "    example_prompt=PromptTemplate.from_template(template),\n",
    "    example_selector=example_selector,\n",
    "    suffix=\"鲜花类型: {flower_type}\\n场合: {occasion}\",\n",
    ")\n",
    "res = prompt.invoke({\"flower_type\": \"野玫瑰\", \"occasion\": \"爱情\"})\n",
    "\n",
    "print(res.to_string(), \"\\n\\n\\n\")\n",
    "\n",
    "print(chat.invoke(res).content)"
   ],
   "id": "82a8c75db0b7127d",
   "outputs": [
    {
     "name": "stdout",
     "output_type": "stream",
     "text": [
      "鲜花类型: 康乃馨\n",
      "场合: 母亲节\n",
      "文案: 康乃馨代表着母爱的纯洁与伟大，是母亲节赠送给母亲的完美礼物。\n",
      "\n",
      "鲜花类型: 野玫瑰\n",
      "场合: 爱情 \n",
      "\n",
      "\n",
      "\n",
      "文案: 野玫瑰象征着热烈与自由，传达出真挚的爱意，是表达爱情的最佳选择。在这个特别的时刻，让野玫瑰为你的心声添上浪漫的色彩。\n"
     ]
    }
   ],
   "execution_count": 19
  },
  {
   "metadata": {},
   "cell_type": "markdown",
   "source": [
    "# 3. Few Shot ChatMessage Prompt Template\n",
    "\n",
    "把 Few Shot 用于对话，需要使用 `FewShotChatMessagePromptTemplate`，其使用思路上与 `FewShotPromptTemplate` 是类似的，但具体调用起来相反。主要区别包括：\n",
    "\n",
    "1. 传递给大模型的，还是 `ChatPromptTemplate`，该模板仅提供了一种新类型的 Message（与 AIMessage，HumanMessage 等是对等的），其的作用，仅相当 `FewShotPromptTemplate` 中 `example_prompt` 的值\n",
    "2. 该模板会也会生成类似下面这种聊天对话记录形式的样本，插入到聊天对话中去\n",
    "```python\n",
    "[\n",
    "    HumanMessage(content=\"\"),\n",
    "    AIMessage(content=\"\"),\n",
    "    HumanMessage(content=\"\"),\n",
    "    AIMessage(content=\"\"),\n",
    "    ...\n",
    "]\n",
    "```"
   ],
   "id": "8af88339b2ebb605"
  },
  {
   "metadata": {},
   "cell_type": "markdown",
   "source": "## 3.1 Fixed Examples",
   "id": "f3666400f977c13c"
  },
  {
   "metadata": {
    "ExecuteTime": {
     "end_time": "2024-12-30T07:41:42.459830Z",
     "start_time": "2024-12-30T07:41:41.061162Z"
    }
   },
   "cell_type": "code",
   "source": [
    "from langchain_core.prompts import ChatPromptTemplate, FewShotChatMessagePromptTemplate\n",
    "\n",
    "examples = [\n",
    "    {\"input\": \"2 🦜 2\", \"output\": \"4\"},\n",
    "    {\"input\": \"2 🦜 3\", \"output\": \"5\"},\n",
    "]\n",
    "\n",
    "few_shot_prompt = FewShotChatMessagePromptTemplate(\n",
    "    examples=examples,\n",
    "    example_prompt=ChatPromptTemplate.from_messages(\n",
    "        [\n",
    "            (\"human\", \"{input}\"),\n",
    "            (\"ai\", \"{output}\"),\n",
    "        ]\n",
    "    )\n",
    ")\n",
    "\n",
    "print(few_shot_prompt.invoke({}).to_messages(), \"\\n\\n\")\n",
    "\n",
    "final_prompt = ChatPromptTemplate.from_messages(\n",
    "    [\n",
    "        (\"system\", \"You are a wondrous wizard of math.\"),\n",
    "        few_shot_prompt,\n",
    "        (\"human\", \"{inp}\"),\n",
    "    ]\n",
    ")\n",
    "\n",
    "res = final_prompt.invoke({\"inp\": \"21 🦜 32\"})\n",
    "print(res.to_messages(), \"\\n\\n\")\n",
    "\n",
    "from langchain_openai import ChatOpenAI\n",
    "\n",
    "chat = ChatOpenAI(model_name=\"openai/gpt-4o-mini\")\n",
    "\n",
    "resp = chat.invoke(res)\n",
    "print(resp.content)\n"
   ],
   "id": "eb645041b6b7126d",
   "outputs": [
    {
     "name": "stdout",
     "output_type": "stream",
     "text": [
      "[HumanMessage(content='2 🦜 2', additional_kwargs={}, response_metadata={}), AIMessage(content='4', additional_kwargs={}, response_metadata={}), HumanMessage(content='2 🦜 3', additional_kwargs={}, response_metadata={}), AIMessage(content='5', additional_kwargs={}, response_metadata={})] \n",
      "\n",
      "\n",
      "[SystemMessage(content='You are a wondrous wizard of math.', additional_kwargs={}, response_metadata={}), HumanMessage(content='2 🦜 2', additional_kwargs={}, response_metadata={}), AIMessage(content='4', additional_kwargs={}, response_metadata={}), HumanMessage(content='2 🦜 3', additional_kwargs={}, response_metadata={}), AIMessage(content='5', additional_kwargs={}, response_metadata={}), HumanMessage(content='21 🦜 32', additional_kwargs={}, response_metadata={})] \n",
      "\n",
      "\n",
      "53\n"
     ]
    }
   ],
   "execution_count": 4
  },
  {
   "metadata": {},
   "cell_type": "markdown",
   "source": [
    "## 3.2 Dynamic FewShot\n",
    "\n",
    "也是用到 `example_selector`，与前面用法一致。"
   ],
   "id": "987d32860b0ec976"
  },
  {
   "metadata": {
    "ExecuteTime": {
     "end_time": "2024-12-30T08:14:59.661893Z",
     "start_time": "2024-12-30T08:14:53.519201Z"
    }
   },
   "cell_type": "code",
   "source": [
    "from langchain_core.prompts import FewShotChatMessagePromptTemplate, ChatPromptTemplate\n",
    "from langchain.prompts.example_selector import SemanticSimilarityExampleSelector\n",
    "from langchain_qdrant import QdrantVectorStore\n",
    "from langchain_huggingface import HuggingFaceEmbeddings\n",
    "\n",
    "examples = [\n",
    "    {\"input\": \"2 🦜 2\", \"output\": \"4\"},\n",
    "    {\"input\": \"2 🦜 3\", \"output\": \"5\"},\n",
    "    {\"input\": \"2 🦜 4\", \"output\": \"6\"},\n",
    "    {\"input\": \"What did the cow say to the moon?\", \"output\": \"nothing at all\"},\n",
    "    {\n",
    "        \"input\": \"Write me a poem about the moon\",\n",
    "        \"output\": \"One for the moon, and one for me, who are we to talk about the moon?\",\n",
    "    },\n",
    "]\n",
    "\n",
    "embedding = HuggingFaceEmbeddings(model_name=\"sentence-transformers/all-mpnet-base-v2\")\n",
    "example_selector = SemanticSimilarityExampleSelector.from_examples(examples, embedding, QdrantVectorStore, k=2,\n",
    "                                                                   location=\":memory:\"  # **vectorstore_cls_kwargs\n",
    "                                                                   )\n",
    "\n",
    "res = example_selector.select_examples({\"input\": \"dog\"})\n",
    "print(res, \"\\n\\n\")\n",
    "\n",
    "few_shot_prompt = FewShotChatMessagePromptTemplate(\n",
    "    # The input variables select the values to pass to the example_selector\n",
    "    # input_variables=[\"input\"],\n",
    "    example_selector=example_selector,\n",
    "    example_prompt=ChatPromptTemplate.from_messages([\n",
    "        (\"human\", \"{input}\"),\n",
    "        (\"ai\", \"{output}\"),\n",
    "    ]),\n",
    ")\n",
    "\n",
    "print(few_shot_prompt.invoke({\"input\":\"What's 3 🦜 3?\"}).to_messages(), \"\\n\\n\")\n",
    "\n",
    "final_prompt = ChatPromptTemplate.from_messages(\n",
    "    [\n",
    "        (\"system\", \"You are a wondrous wizard of math.\"),\n",
    "        few_shot_prompt,\n",
    "        (\"human\", \"{inp}\"),\n",
    "    ]\n",
    ")\n",
    "\n",
    "res = final_prompt.invoke({\"inp\": \"21 🦜 32\"})\n",
    "print(res.to_messages(), \"\\n\\n\")\n",
    "\n",
    "from langchain_openai import ChatOpenAI\n",
    "\n",
    "chat = ChatOpenAI(model_name=\"openai/gpt-4o-mini\")\n",
    "\n",
    "resp = chat.invoke(res)\n",
    "print(resp.content)\n"
   ],
   "id": "86dc8a6ea4d258a3",
   "outputs": [
    {
     "name": "stdout",
     "output_type": "stream",
     "text": [
      "[{'input': 'What did the cow say to the moon?', 'output': 'nothing at all', '_id': 'ca1c219c634d439fb8c1aa05b05aafd8', '_collection_name': '7464f0f8117f4128acf03a6d1ba400cb'}, {'input': '2 🦜 4', 'output': '6', '_id': 'aa3c49aaf56a4a32a9438328103bb63a', '_collection_name': '7464f0f8117f4128acf03a6d1ba400cb'}] \n",
      "\n",
      "\n",
      "[HumanMessage(content='2 🦜 4', additional_kwargs={}, response_metadata={}), AIMessage(content='6', additional_kwargs={}, response_metadata={}), HumanMessage(content='2 🦜 3', additional_kwargs={}, response_metadata={}), AIMessage(content='5', additional_kwargs={}, response_metadata={})] \n",
      "\n",
      "\n",
      "[SystemMessage(content='You are a wondrous wizard of math.', additional_kwargs={}, response_metadata={}), HumanMessage(content='2 🦜 3', additional_kwargs={}, response_metadata={}), AIMessage(content='5', additional_kwargs={}, response_metadata={}), HumanMessage(content='2 🦜 4', additional_kwargs={}, response_metadata={}), AIMessage(content='6', additional_kwargs={}, response_metadata={}), HumanMessage(content='21 🦜 32', additional_kwargs={}, response_metadata={})] \n",
      "\n",
      "\n",
      "53\n"
     ]
    }
   ],
   "execution_count": 24
  },
  {
   "metadata": {},
   "cell_type": "code",
   "outputs": [],
   "execution_count": null,
   "source": "",
   "id": "3eedc08838a71688"
  }
 ],
 "metadata": {
  "kernelspec": {
   "display_name": "Python 3",
   "language": "python",
   "name": "python3"
  },
  "language_info": {
   "codemirror_mode": {
    "name": "ipython",
    "version": 2
   },
   "file_extension": ".py",
   "mimetype": "text/x-python",
   "name": "python",
   "nbconvert_exporter": "python",
   "pygments_lexer": "ipython2",
   "version": "2.7.6"
  }
 },
 "nbformat": 4,
 "nbformat_minor": 5
}
