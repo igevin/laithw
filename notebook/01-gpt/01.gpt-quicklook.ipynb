{
 "cells": [
  {
   "metadata": {
    "ExecuteTime": {
     "end_time": "2024-12-07T15:10:42.170608Z",
     "start_time": "2024-12-07T15:10:38.966874Z"
    }
   },
   "cell_type": "code",
   "source": [
    "from openai import OpenAI\n",
    "\n",
    "client = OpenAI(\n",
    "    base_url=\"https://openrouter.ai/api/v1\",\n",
    ")\n",
    "\n",
    "completion = client.chat.completions.create(\n",
    "    model=\"openai/gpt-4o-mini\",\n",
    "    # model=\"openai/gpt-4o-2024-11-20\",\n",
    "    messages=[\n",
    "        {\"role\": \"system\",\n",
    "         \"content\": \"You are a helpful assistant. You can help me by answering my questions. You can also ask me questions.\"},\n",
    "        {\"role\": \"user\", \"content\": \"你好！你叫什么名字？\"}\n",
    "    ],\n",
    "    n=2,\n",
    "    temperature=0.9,\n",
    "    max_tokens=1000,\n",
    ")\n",
    "print(completion.choices[0].message.content)"
   ],
   "id": "71ac88ebc5f96813",
   "outputs": [
    {
     "name": "stdout",
     "output_type": "stream",
     "text": [
      "你好！我是一个人工智能助手，没有具体的名字，你可以叫我助手或者AI。有什么我可以帮助你的吗？\n"
     ]
    }
   ],
   "execution_count": 1
  },
  {
   "metadata": {
    "ExecuteTime": {
     "end_time": "2024-12-07T15:10:54.112907Z",
     "start_time": "2024-12-07T15:10:51.253273Z"
    }
   },
   "cell_type": "code",
   "source": [
    "from openai import OpenAI\n",
    "\n",
    "client = OpenAI()\n",
    "\n",
    "completion = client.chat.completions.create(\n",
    "    model=\"openai/gpt-4o-mini\",\n",
    "    messages=[\n",
    "        {\"role\": \"system\",\n",
    "         \"content\": \"You are a helpful assistant. You can help me by answering my questions. You can also ask me questions.\"},\n",
    "        {\"role\": \"user\", \"content\": \"你好！你叫什么名字？\"}\n",
    "    ],\n",
    "    n=2,\n",
    "    temperature=0.9,\n",
    "    max_tokens=1000,\n",
    ")\n",
    "print(completion.choices[0].message.content)"
   ],
   "id": "a79e5a4d1d91720a",
   "outputs": [
    {
     "name": "stdout",
     "output_type": "stream",
     "text": [
      "你好！我是一个人工智能助手，没有名字，但你可以叫我助手或AI。我很高兴为你提供帮助！请问有什么我可以帮助你的吗？\n"
     ]
    }
   ],
   "execution_count": 2
  },
  {
   "metadata": {},
   "cell_type": "markdown",
   "source": "# 基于 OpenAI 兼容模式的千问 API 使用",
   "id": "db2116122df0a186"
  },
  {
   "metadata": {
    "ExecuteTime": {
     "end_time": "2024-12-07T15:11:32.653444Z",
     "start_time": "2024-12-07T15:11:28.331206Z"
    }
   },
   "cell_type": "code",
   "source": [
    "import os\n",
    "from openai import OpenAI\n",
    "\n",
    "client = OpenAI(\n",
    "    api_key=os.getenv(\"DASHSCOPE_API_KEY\"),  # 如果您没有配置环境变量，请在此处用您的API Key进行替换\n",
    "    base_url=\"https://dashscope.aliyuncs.com/compatible-mode/v1\",  # 填写DashScope SDK的base_url\n",
    ")\n",
    "\n",
    "\n",
    "def get_response(msgs):\n",
    "    res = client.chat.completions.create(\n",
    "        model=\"qwen-turbo\",\n",
    "        temperature=0.9,\n",
    "        messages=msgs\n",
    "    )\n",
    "    return res\n",
    "\n",
    "\n",
    "messages = [{'role': 'system', 'content': 'You are a helpful assistant.'},\n",
    "     {'role': 'user', 'content': '你是谁？'}]\n",
    "\n",
    "resp = get_response(messages)\n",
    "print(resp.choices[0].message.content, resp.usage.total_tokens, resp.usage.prompt_tokens,\n",
    "          resp.usage.completion_tokens)"
   ],
   "id": "f7e9800643063845",
   "outputs": [
    {
     "name": "stdout",
     "output_type": "stream",
     "text": [
      "我是Qwen，是阿里云开发的一款超大规模语言模型。我能够帮助回答各种领域的问题、提供信息查询、参与对话等多种任务。如果您有任何问题或需要帮助，请随时告诉我！ 73 32 41\n"
     ]
    }
   ],
   "execution_count": 3
  },
  {
   "metadata": {
    "ExecuteTime": {
     "end_time": "2025-02-12T08:10:55.173629Z",
     "start_time": "2025-02-12T08:10:54.538060Z"
    }
   },
   "cell_type": "code",
   "source": [
    "import os\n",
    "from openai import OpenAI\n",
    "\n",
    "client = OpenAI(\n",
    "    api_key=\"ollama\",  # 如果您没有配置环境变量，请在此处用您的API Key进行替换\n",
    "    base_url=\"http://10.238.130.9:8099/v1\",  # 填写DashScope SDK的base_url\n",
    ")\n",
    "\n",
    "\n",
    "def get_response(msgs):\n",
    "    res = client.chat.completions.create(\n",
    "        model=\"qwen2-72b-instruct-gptq-int8\",\n",
    "        temperature=0.9,\n",
    "        messages=msgs\n",
    "    )\n",
    "    return res\n",
    "\n",
    "\n",
    "messages = [{'role': 'system', 'content': 'You are a helpful assistant.'},\n",
    "     {'role': 'user', 'content': '你是谁？'}]\n",
    "\n",
    "resp = get_response(messages)\n",
    "print(resp.choices[0].message.content, resp.usage.total_tokens, resp.usage.prompt_tokens,\n",
    "          resp.usage.completion_tokens)"
   ],
   "id": "5248a868f9a9cda3",
   "outputs": [
    {
     "name": "stdout",
     "output_type": "stream",
     "text": [
      "我是阿里云开发的一款超大规模语言模型，我叫通义千问。 40 22 18\n"
     ]
    }
   ],
   "execution_count": 4
  }
 ],
 "metadata": {
  "kernelspec": {
   "display_name": "Python 3",
   "language": "python",
   "name": "python3"
  },
  "language_info": {
   "codemirror_mode": {
    "name": "ipython",
    "version": 2
   },
   "file_extension": ".py",
   "mimetype": "text/x-python",
   "name": "python",
   "nbconvert_exporter": "python",
   "pygments_lexer": "ipython2",
   "version": "2.7.6"
  }
 },
 "nbformat": 4,
 "nbformat_minor": 5
}
