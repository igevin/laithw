{
 "cells": [
  {
   "metadata": {},
   "cell_type": "markdown",
   "source": "# 运行、安装和使用",
   "id": "a1562be7cc229187"
  },
  {
   "metadata": {
    "collapsed": true
   },
   "cell_type": "code",
   "outputs": [],
   "execution_count": null,
   "source": [
    "#!docker run -p 6333:6333 -p 6334:6334 \\\n",
    "#     -v $(pwd)/qdrant_storage:/qdrant/storage:z \\\n",
    "#     qdrant/qdrant"
   ],
   "id": "initial_id"
  },
  {
   "metadata": {},
   "cell_type": "code",
   "outputs": [],
   "execution_count": null,
   "source": "#!pip install qdrant-client[fastembed]",
   "id": "1e73ef22b3f78f2a"
  },
  {
   "metadata": {},
   "cell_type": "markdown",
   "source": [
    "## Web UI\n",
    "\n",
    "可以通过 http://127.0.0.1:6333/dashboard 访问向量库\n"
   ],
   "id": "4886e77cae992e4a"
  },
  {
   "metadata": {},
   "cell_type": "markdown",
   "source": "# Quick Start",
   "id": "96d392117b7b678d"
  },
  {
   "metadata": {
    "ExecuteTime": {
     "end_time": "2025-01-10T06:42:54.141652Z",
     "start_time": "2025-01-10T06:42:54.089553Z"
    }
   },
   "cell_type": "code",
   "source": [
    "from qdrant_client import QdrantClient\n",
    "client = QdrantClient(url='http://localhost:6333')\n",
    "\n",
    "collections = client.get_collections()\n",
    "print(collections.collections, \"\\n\\n\")\n",
    "for collection in collections.collections:\n",
    "    print(collection.name)\n",
    "\n",
    "print(\"\\n\\n\")\n",
    "collection = client.get_collection(\"test\")\n",
    "print(collection)"
   ],
   "id": "f61cbfa0b6d0ebcb",
   "outputs": [
    {
     "name": "stdout",
     "output_type": "stream",
     "text": [
      "[CollectionDescription(name='8b53928b64a34ebd8ebb2538324b5a76'), CollectionDescription(name='b20eb62d49bd4ee594c138339ad8cff3'), CollectionDescription(name='6e5340d16bd94445a7d4b5b942163b02'), CollectionDescription(name='test'), CollectionDescription(name='f158438fcf6e42d8b75ce8de59e5ac99'), CollectionDescription(name='ebf6f83ea303426d82589c018118ae10'), CollectionDescription(name='d455259452114442a17e746e05578106'), CollectionDescription(name='719e13cf321c4942a8a2fe3ba658ab14'), CollectionDescription(name='fba23eea8c0c4f7c87d28764851deb18')] \n",
      "\n",
      "\n",
      "8b53928b64a34ebd8ebb2538324b5a76\n",
      "b20eb62d49bd4ee594c138339ad8cff3\n",
      "6e5340d16bd94445a7d4b5b942163b02\n",
      "test\n",
      "f158438fcf6e42d8b75ce8de59e5ac99\n",
      "ebf6f83ea303426d82589c018118ae10\n",
      "d455259452114442a17e746e05578106\n",
      "719e13cf321c4942a8a2fe3ba658ab14\n",
      "fba23eea8c0c4f7c87d28764851deb18\n",
      "\n",
      "\n",
      "\n",
      "status=<CollectionStatus.GREEN: 'green'> optimizer_status=<OptimizersStatusOneOf.OK: 'ok'> vectors_count=None indexed_vectors_count=0 points_count=30 segments_count=8 config=CollectionConfig(params=CollectionParams(vectors=VectorParams(size=768, distance=<Distance.COSINE: 'Cosine'>, hnsw_config=None, quantization_config=None, on_disk=None, datatype=None, multivector_config=None), shard_number=1, sharding_method=None, replication_factor=1, write_consistency_factor=1, read_fan_out_factor=None, on_disk_payload=True, sparse_vectors=None), hnsw_config=HnswConfig(m=16, ef_construct=100, full_scan_threshold=10000, max_indexing_threads=0, on_disk=False, payload_m=None), optimizer_config=OptimizersConfig(deleted_threshold=0.2, vacuum_min_vector_number=1000, default_segment_number=0, max_segment_size=None, memmap_threshold=None, indexing_threshold=20000, flush_interval_sec=5, max_optimization_threads=None), wal_config=WalConfig(wal_capacity_mb=32, wal_segments_ahead=0), quantization_config=None) payload_schema={}\n"
     ]
    }
   ],
   "execution_count": 10
  },
  {
   "metadata": {
    "ExecuteTime": {
     "end_time": "2025-01-10T06:48:32.320863Z",
     "start_time": "2025-01-10T06:48:32.202904Z"
    }
   },
   "cell_type": "code",
   "source": [
    "from qdrant_client.models import Distance, VectorParams\n",
    "client.create_collection(\"test_collection\",\n",
    "                         vectors_config=VectorParams(size=4, distance=Distance.DOT))"
   ],
   "id": "8ea7e995ee1a1a2a",
   "outputs": [
    {
     "data": {
      "text/plain": [
       "True"
      ]
     },
     "execution_count": 14,
     "metadata": {},
     "output_type": "execute_result"
    }
   ],
   "execution_count": 14
  },
  {
   "metadata": {
    "ExecuteTime": {
     "end_time": "2025-01-10T06:48:28.537501Z",
     "start_time": "2025-01-10T06:48:28.509526Z"
    }
   },
   "cell_type": "code",
   "source": "# client.delete_collection(\"test_collection\")",
   "id": "d7f34e5f4a928679",
   "outputs": [
    {
     "data": {
      "text/plain": [
       "True"
      ]
     },
     "execution_count": 13,
     "metadata": {},
     "output_type": "execute_result"
    }
   ],
   "execution_count": 13
  },
  {
   "metadata": {
    "ExecuteTime": {
     "end_time": "2025-01-10T06:51:11.199388Z",
     "start_time": "2025-01-10T06:51:11.118256Z"
    }
   },
   "cell_type": "code",
   "source": [
    "from qdrant_client.models import PointStruct\n",
    "operation_info = client.upsert(\n",
    "    collection_name=\"test_collection\",\n",
    "    wait=True,\n",
    "    points=[\n",
    "        PointStruct(id=1, vector=[0.05, 0.61, 0.76, 0.74], payload={\"city\": \"Berlin\"}),\n",
    "        PointStruct(id=2, vector=[0.19, 0.81, 0.75, 0.11], payload={\"city\": \"London\"}),\n",
    "        PointStruct(id=3, vector=[0.36, 0.55, 0.47, 0.94], payload={\"city\": \"Moscow\"}),\n",
    "        PointStruct(id=4, vector=[0.18, 0.01, 0.85, 0.80], payload={\"city\": \"New York\"}),\n",
    "        PointStruct(id=5, vector=[0.24, 0.18, 0.22, 0.44], payload={\"city\": \"Beijing\"}),\n",
    "        PointStruct(id=6, vector=[0.35, 0.08, 0.11, 0.44], payload={\"city\": \"Mumbai\"}),\n",
    "    ]\n",
    ")\n",
    "print(operation_info)"
   ],
   "id": "3295a4e6c53832f9",
   "outputs": [
    {
     "name": "stdout",
     "output_type": "stream",
     "text": [
      "operation_id=0 status=<UpdateStatus.COMPLETED: 'completed'>\n"
     ]
    }
   ],
   "execution_count": 16
  },
  {
   "metadata": {
    "ExecuteTime": {
     "end_time": "2025-01-10T07:00:01.074914Z",
     "start_time": "2025-01-10T07:00:01.012104Z"
    }
   },
   "cell_type": "code",
   "source": [
    "search_result = client.query_points(collection_name=\"test_collection\",\n",
    "                                    query=[0.2, 0.1, 0.9, 0.7],\n",
    "                                    with_payload=True,\n",
    "                                    limit=3).points\n",
    "print(search_result)"
   ],
   "id": "33bc1a8b65844e4c",
   "outputs": [
    {
     "name": "stdout",
     "output_type": "stream",
     "text": [
      "[ScoredPoint(id=4, version=0, score=1.362, payload={'city': 'New York'}, vector=None, shard_key=None, order_value=None), ScoredPoint(id=1, version=0, score=1.273, payload={'city': 'Berlin'}, vector=None, shard_key=None, order_value=None), ScoredPoint(id=3, version=0, score=1.208, payload={'city': 'Moscow'}, vector=None, shard_key=None, order_value=None)]\n"
     ]
    }
   ],
   "execution_count": 17
  },
  {
   "metadata": {
    "ExecuteTime": {
     "end_time": "2025-01-10T07:04:01.738241Z",
     "start_time": "2025-01-10T07:04:01.717600Z"
    }
   },
   "cell_type": "code",
   "source": [
    "from qdrant_client.models import Filter, FieldCondition, MatchValue\n",
    "\n",
    "search_result = client.query_points(collection_name=\"test_collection\",\n",
    "                                    query=[0.2, 0.1, 0.9, 0.7],\n",
    "                                    query_filter=Filter(\n",
    "                                        must=[FieldCondition(key=\"city\", match=MatchValue(value=\"London\"))],\n",
    "                                    )).points\n",
    "print(search_result)"
   ],
   "id": "85fc8ed7f3da16fa",
   "outputs": [
    {
     "name": "stdout",
     "output_type": "stream",
     "text": [
      "[ScoredPoint(id=2, version=0, score=0.871, payload={'city': 'London'}, vector=None, shard_key=None, order_value=None)]\n"
     ]
    }
   ],
   "execution_count": 19
  },
  {
   "metadata": {
    "ExecuteTime": {
     "end_time": "2025-01-10T07:23:08.369724Z",
     "start_time": "2025-01-10T07:23:08.307285Z"
    }
   },
   "cell_type": "code",
   "source": [
    "from qdrant_client.models import PointStruct\n",
    "operation_info = client.upsert(\n",
    "    collection_name=\"test_collection\",\n",
    "    wait=True,\n",
    "    points=[\n",
    "        PointStruct(id=7, vector=[0.19, 0.81, 0.75, 0.65], payload={\"meta\": {\"city\": \"London\"}}),\n",
    "    ]\n",
    ")\n",
    "print(operation_info)"
   ],
   "id": "5261b532396c82f8",
   "outputs": [
    {
     "name": "stdout",
     "output_type": "stream",
     "text": [
      "operation_id=1 status=<UpdateStatus.COMPLETED: 'completed'>\n"
     ]
    }
   ],
   "execution_count": 20
  },
  {
   "metadata": {
    "ExecuteTime": {
     "end_time": "2025-01-10T07:27:04.164770Z",
     "start_time": "2025-01-10T07:27:04.152614Z"
    }
   },
   "cell_type": "code",
   "source": [
    "search_result = client.query_points(collection_name=\"test_collection\",\n",
    "                                    query=[0.2, 0.6, 0.9, 0.7],\n",
    "                                    with_payload=True,\n",
    "                                    with_vectors=True,\n",
    "                                    limit=3).points\n",
    "for point in search_result:\n",
    "    print(point)"
   ],
   "id": "6e964939ff90488e",
   "outputs": [
    {
     "name": "stdout",
     "output_type": "stream",
     "text": [
      "id=7 version=1 score=1.654 payload={'meta': {'city': 'London'}} vector=[0.19, 0.81, 0.75, 0.65] shard_key=None order_value=None\n",
      "id=1 version=0 score=1.578 payload={'city': 'Berlin'} vector=[0.05, 0.61, 0.76, 0.74] shard_key=None order_value=None\n",
      "id=3 version=0 score=1.483 payload={'city': 'Moscow'} vector=[0.36, 0.55, 0.47, 0.94] shard_key=None order_value=None\n"
     ]
    }
   ],
   "execution_count": 26
  },
  {
   "metadata": {
    "ExecuteTime": {
     "end_time": "2025-01-10T07:33:43.580104Z",
     "start_time": "2025-01-10T07:33:43.538345Z"
    }
   },
   "cell_type": "code",
   "source": [
    "search_result = client.query_points(collection_name=\"test_collection\",\n",
    "                                    query=[0.2, 0.6, 0.9, 0.7],\n",
    "                                    with_payload=True,\n",
    "                                    with_vectors=True,\n",
    "                                    query_filter=Filter(\n",
    "                                        must=[FieldCondition(key=\"meta.city\", match=MatchValue(value=\"London\"))],\n",
    "                                    ),\n",
    "                                    limit=3).points\n",
    "for point in search_result:\n",
    "    print(point)"
   ],
   "id": "d3e4e7c4a1158669",
   "outputs": [
    {
     "name": "stdout",
     "output_type": "stream",
     "text": [
      "id=7 version=1 score=1.654 payload={'meta': {'city': 'London'}} vector=[0.19, 0.81, 0.75, 0.65] shard_key=None order_value=None\n"
     ]
    }
   ],
   "execution_count": 29
  }
 ],
 "metadata": {
  "kernelspec": {
   "display_name": "Python 3",
   "language": "python",
   "name": "python3"
  },
  "language_info": {
   "codemirror_mode": {
    "name": "ipython",
    "version": 2
   },
   "file_extension": ".py",
   "mimetype": "text/x-python",
   "name": "python",
   "nbconvert_exporter": "python",
   "pygments_lexer": "ipython2",
   "version": "2.7.6"
  }
 },
 "nbformat": 4,
 "nbformat_minor": 5
}
