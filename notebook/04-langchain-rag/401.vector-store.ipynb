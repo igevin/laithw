{
 "cells": [
  {
   "metadata": {},
   "cell_type": "markdown",
   "source": "# Qdrant",
   "id": "21b9042595ada50f"
  },
  {
   "metadata": {
    "collapsed": true,
    "ExecuteTime": {
     "end_time": "2025-01-10T08:57:55.073636Z",
     "start_time": "2025-01-10T08:57:53.280800Z"
    }
   },
   "cell_type": "code",
   "source": [
    "from langchain_qdrant import QdrantVectorStore\n",
    "from qdrant_client import QdrantClient\n",
    "from qdrant_client.http.models import VectorParams, Distance\n",
    "\n",
    "from langchain_ollama import OllamaEmbeddings\n",
    "\n",
    "from langchain_community.document_loaders import CSVLoader\n",
    "\n",
    "embeddings = OllamaEmbeddings(model=\"nomic-embed-text\", base_url=\"http://localhost:11434\")\n",
    "\n",
    "# client = QdrantClient(\":memory:\")\n",
    "client = QdrantClient(\"http://localhost:6333\")\n",
    "collection_name = \"mlb_teams_2012-0\"\n",
    "if not client.collection_exists(collection_name):\n",
    "    client.create_collection(collection_name, vectors_config=VectorParams(size=768, distance=Distance.COSINE))\n",
    "vector_store = QdrantVectorStore(\n",
    "    client=client,\n",
    "    collection_name=collection_name,\n",
    "    embedding=embeddings,\n",
    ")\n",
    "\n",
    "\n",
    "def load_data():\n",
    "    file_path = \"./data/mlb_teams_2012.csv\"\n",
    "    loader = CSVLoader(file_path,\n",
    "                       source_column=\"Team\",\n",
    "                       metadata_columns=(\"Team\", \"Payroll (millions)\", \"Wins\"),\n",
    "                       content_columns=(\"Team\", \"Payroll (millions)\", \"Wins\"),\n",
    "                       )\n",
    "    return loader.load()\n",
    "\n",
    "\n",
    "documents = load_data()\n",
    "ids = vector_store.add_documents(documents)\n",
    "print(ids)"
   ],
   "id": "initial_id",
   "outputs": [
    {
     "name": "stdout",
     "output_type": "stream",
     "text": [
      "['210e5d611f8a446a8c52d37621cce8be', '310ff8f4772541f2ac178020f63ebdc9', 'fd93f092263f4d8e9c8971233b5f2e81', '786cdec59d56461285c5209aea0a750a', '7032bf23a05c48e5806eea9ab1b0c93e', 'daa24d6a58d24e5c919862fa85cee988', 'ebc7502a5d044e85ba9539e18d351936', '72fb39a5211548838639bdbb36f82da7', '0ed1c87ef4274d86b4d969c09ac1816a', '94972c766bd54a7e89caaf1e166748e7', '9f8598bbf0cc49c0a9acc122611cfc5b', 'c1efa75d7af04dae978ae71e188ec2f1', '9178aeda8b7141bcb512d1ea9d3b988b', '3d20b1b879f24ea683b2705f8087ae9a', '23052ce8f5bd41c88e391f08d47c76c9', 'dbac6374b05545368de22150d04939a0', '74668385ef0446908bd0b42b4c7805d2', '1dfdd98d73ef4099bfb66d04059c8607', '80190fd4fdd94a4ab83fd7023ecaebae', '1f76238f624047ceb899042bcd0986c9', 'af6e46c72fd944ffa8f7f90b56f736d5', 'dd434eedd6a04ac69956df4e3ef6bd4f', 'ce2ab0458573491aba12d5d522492b02', '59664876ba7f4de8ba937a5c58d73bb8', 'a3d78f2e55a14e019dc15802398c16ce', '52157bd86a4143c781b510da6c621d16', '1fbe602972c340daa48b803496406d4d', '5bc07dca364c4a93bd529b1751483723', '134c8fc68ccf463a8b919cb6ee20180c', '0879eae7259e4ec5a0d1846294823cdf']\n"
     ]
    }
   ],
   "execution_count": 1
  },
  {
   "metadata": {
    "ExecuteTime": {
     "end_time": "2025-01-06T06:44:40.845803Z",
     "start_time": "2025-01-06T06:44:40.830068Z"
    }
   },
   "cell_type": "code",
   "source": [
    "from pprint import pprint\n",
    "# client = QdrantClient(\"http://localhost:6333\")\n",
    "# client = QdrantClient(host=\"localhost\", port=6333)\n",
    "client = QdrantClient(host=\"localhost\", grpc_port=6334)\n",
    "collection_info = client.get_collection(collection_name)\n",
    "pprint(collection_info)\n",
    "\n",
    "# ids = vector_store.add_documents(documents)\n",
    "# collection_info = client.get_collection(collection_name)\n",
    "# print(collection_info)"
   ],
   "id": "c71d46b3dfbd579b",
   "outputs": [
    {
     "name": "stdout",
     "output_type": "stream",
     "text": [
      "CollectionInfo(status=<CollectionStatus.GREEN: 'green'>, optimizer_status=<OptimizersStatusOneOf.OK: 'ok'>, vectors_count=None, indexed_vectors_count=0, points_count=30, segments_count=8, config=CollectionConfig(params=CollectionParams(vectors=VectorParams(size=768, distance=<Distance.COSINE: 'Cosine'>, hnsw_config=None, quantization_config=None, on_disk=None, datatype=None, multivector_config=None), shard_number=1, sharding_method=None, replication_factor=1, write_consistency_factor=1, read_fan_out_factor=None, on_disk_payload=True, sparse_vectors=None), hnsw_config=HnswConfig(m=16, ef_construct=100, full_scan_threshold=10000, max_indexing_threads=0, on_disk=False, payload_m=None), optimizer_config=OptimizersConfig(deleted_threshold=0.2, vacuum_min_vector_number=1000, default_segment_number=0, max_segment_size=None, memmap_threshold=None, indexing_threshold=20000, flush_interval_sec=5, max_optimization_threads=None), wal_config=WalConfig(wal_capacity_mb=32, wal_segments_ahead=0), quantization_config=None), payload_schema={})\n"
     ]
    }
   ],
   "execution_count": 3
  },
  {
   "metadata": {
    "ExecuteTime": {
     "end_time": "2025-01-10T08:58:14.350783Z",
     "start_time": "2025-01-10T08:58:14.262533Z"
    }
   },
   "cell_type": "code",
   "source": [
    "from qdrant_client.models import Filter, FieldCondition, MatchValue\n",
    "\n",
    "res = vector_store.similarity_search(\"\",\n",
    "                                     k=100,\n",
    "                                     filter=Filter(\n",
    "                                         must=[FieldCondition(key=\"metadata.Team\", match=MatchValue(value=\"Rockies\"))],\n",
    "                                     )\n",
    "                                     )\n",
    "print(len(res), res, sep=\"\\n\")"
   ],
   "id": "dabf4f81453b23f",
   "outputs": [
    {
     "name": "stdout",
     "output_type": "stream",
     "text": [
      "1\n",
      "[Document(metadata={'Payroll (millions)': '       78.06', 'Team': 'Rockies', 'Wins': ' 64', 'row': 27, 'source': 'Rockies', '_id': '5bc07dca-364c-4a93-bd52-9b1751483723', '_collection_name': 'mlb_teams_2012-0'}, page_content='Team: Rockies\\nPayroll (millions): 78.06\\nWins: 64')]\n"
     ]
    }
   ],
   "execution_count": 2
  }
 ],
 "metadata": {
  "kernelspec": {
   "display_name": "Python 3",
   "language": "python",
   "name": "python3"
  },
  "language_info": {
   "codemirror_mode": {
    "name": "ipython",
    "version": 2
   },
   "file_extension": ".py",
   "mimetype": "text/x-python",
   "name": "python",
   "nbconvert_exporter": "python",
   "pygments_lexer": "ipython2",
   "version": "2.7.6"
  }
 },
 "nbformat": 4,
 "nbformat_minor": 5
}
