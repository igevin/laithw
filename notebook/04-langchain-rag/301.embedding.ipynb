{
 "cells": [
  {
   "metadata": {},
   "cell_type": "markdown",
   "source": "# HuggingFaceEmbeddings",
   "id": "b9844867f6322e0f"
  },
  {
   "metadata": {
    "ExecuteTime": {
     "end_time": "2025-01-06T03:05:27.403742Z",
     "start_time": "2025-01-06T03:05:23.051635Z"
    }
   },
   "cell_type": "code",
   "source": [
    "from langchain_huggingface import HuggingFaceEmbeddings\n",
    "\n",
    "embeddings = HuggingFaceEmbeddings(model_name=\"sentence-transformers/all-mpnet-base-v2\")\n",
    "\n",
    "query_result = embeddings.embed_query(\"This is a query test\")\n",
    "print(query_result[0], len(query_result), sep='\\n')\n",
    "\n",
    "doc_result = embeddings.embed_documents([\"test A\", \"test B\"])\n",
    "print(len(doc_result), doc_result[0][0], len(doc_result[0]), sep='\\t')"
   ],
   "id": "ffdd4424244b4740",
   "outputs": [
    {
     "name": "stdout",
     "output_type": "stream",
     "text": [
      "0.012231425382196903\n",
      "768\n",
      "2\t-0.00014217749412637204\t768\n"
     ]
    }
   ],
   "execution_count": 2
  },
  {
   "metadata": {},
   "cell_type": "markdown",
   "source": [
    "# XinferenceEmbeddings\n",
    "\n",
    "```bash\n",
    "pip install xinference\n",
    "```\n",
    "\n",
    "**Reference:**\n",
    "\n",
    "https://python.langchain.com/docs/integrations/text_embedding/xinference/\n"
   ],
   "id": "4efec57efc45dd1c"
  },
  {
   "metadata": {
    "ExecuteTime": {
     "end_time": "2025-01-03T08:50:39.448380Z",
     "start_time": "2025-01-03T08:50:39.230541Z"
    }
   },
   "cell_type": "code",
   "source": [
    "from langchain_community.embeddings import XinferenceEmbeddings\n",
    "\n",
    "embeddings = XinferenceEmbeddings(server_url=\"http://10.238.130.9:9998\",\n",
    "                                  model_uid=\"bge-large-zh-v1.5\")\n",
    "\n",
    "query_result = embeddings.embed_query(\"This is a query test\")\n",
    "print(query_result[0], len(query_result), sep='\\n')\n",
    "\n",
    "doc_result = embeddings.embed_documents([\"test A\", \"test B\"])\n",
    "print(len(doc_result), doc_result[0][0], len(doc_result[0]), sep='\\t')\n",
    "\n"
   ],
   "id": "3371cab145870951",
   "outputs": [
    {
     "name": "stdout",
     "output_type": "stream",
     "text": [
      "0.005230752285569906\n",
      "1024\n",
      "\n",
      "2\t-0.004770809784531593\t1024\n",
      "\n"
     ]
    }
   ],
   "execution_count": 8
  },
  {
   "metadata": {},
   "cell_type": "markdown",
   "source": "# OllamaEmbeddings",
   "id": "3069b8deaf035958"
  },
  {
   "metadata": {
    "ExecuteTime": {
     "end_time": "2025-01-06T03:08:36.367376Z",
     "start_time": "2025-01-06T03:08:35.925667Z"
    }
   },
   "cell_type": "code",
   "source": [
    "from langchain_ollama import OllamaEmbeddings\n",
    "\n",
    "embedding = OllamaEmbeddings(model=\"nomic-embed-text\", base_url=\"http://localhost:11434\")\n",
    "\n",
    "query_result = embeddings.embed_query(\"This is a query test\")\n",
    "print(query_result[0], len(query_result), sep='\\t')\n",
    "\n",
    "doc_result = embeddings.embed_documents([\"test A\", \"test B\"])\n",
    "print(len(doc_result), doc_result[0][0], len(doc_result[0]), sep='\\t')"
   ],
   "id": "77fb23e11d59da4d",
   "outputs": [
    {
     "name": "stdout",
     "output_type": "stream",
     "text": [
      "0.012231425382196903\t768\n",
      "2\t-0.00014217749412637204\t768\n"
     ]
    }
   ],
   "execution_count": 3
  }
 ],
 "metadata": {
  "kernelspec": {
   "display_name": "Python 3",
   "language": "python",
   "name": "python3"
  },
  "language_info": {
   "codemirror_mode": {
    "name": "ipython",
    "version": 2
   },
   "file_extension": ".py",
   "mimetype": "text/x-python",
   "name": "python",
   "nbconvert_exporter": "python",
   "pygments_lexer": "ipython2",
   "version": "2.7.6"
  }
 },
 "nbformat": 4,
 "nbformat_minor": 5
}
