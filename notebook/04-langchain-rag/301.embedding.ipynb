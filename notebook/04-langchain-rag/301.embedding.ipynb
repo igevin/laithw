{
 "cells": [
  {
   "metadata": {},
   "cell_type": "markdown",
   "source": [
    "# XinferenceEmbeddings\n",
    "\n",
    "```bash\n",
    "pip install xinference\n",
    "```\n",
    "\n",
    "**Reference:**\n",
    "\n",
    "https://python.langchain.com/docs/integrations/text_embedding/xinference/\n"
   ],
   "id": "4efec57efc45dd1c"
  },
  {
   "metadata": {
    "ExecuteTime": {
     "end_time": "2025-01-03T08:50:39.448380Z",
     "start_time": "2025-01-03T08:50:39.230541Z"
    }
   },
   "cell_type": "code",
   "source": [
    "from langchain_community.embeddings import XinferenceEmbeddings\n",
    "\n",
    "embeddings = XinferenceEmbeddings(server_url=\"http://10.238.130.9:9998\",\n",
    "                                  model_uid=\"bge-large-zh-v1.5\")\n",
    "\n",
    "query_result = embeddings.embed_query(\"This is a query test\")\n",
    "print(query_result[0], len(query_result), sep='\\n')\n",
    "\n",
    "doc_result = embeddings.embed_documents([\"test A\", \"test B\"])\n",
    "print(len(doc_result), doc_result[0][0], len(doc_result[0]), sep='\\t')\n",
    "\n"
   ],
   "id": "3371cab145870951",
   "outputs": [
    {
     "name": "stdout",
     "output_type": "stream",
     "text": [
      "0.005230752285569906\n",
      "1024\n",
      "\n",
      "2\t-0.004770809784531593\t1024\n",
      "\n"
     ]
    }
   ],
   "execution_count": 8
  }
 ],
 "metadata": {
  "kernelspec": {
   "display_name": "Python 3",
   "language": "python",
   "name": "python3"
  },
  "language_info": {
   "codemirror_mode": {
    "name": "ipython",
    "version": 2
   },
   "file_extension": ".py",
   "mimetype": "text/x-python",
   "name": "python",
   "nbconvert_exporter": "python",
   "pygments_lexer": "ipython2",
   "version": "2.7.6"
  }
 },
 "nbformat": 4,
 "nbformat_minor": 5
}
