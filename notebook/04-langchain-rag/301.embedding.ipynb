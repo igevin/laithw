{
 "cells": [
  {
   "metadata": {},
   "cell_type": "code",
   "outputs": [],
   "execution_count": null,
   "source": [
    "from langchain_openai import OpenAIEmbeddings\n",
    "\n",
    "embeddings = OpenAIEmbeddings(openai_api_base='https://api.openai.com/v1/embeddings', model=\"\")"
   ],
   "id": "fff46be7b78785"
  },
  {
   "metadata": {},
   "cell_type": "markdown",
   "source": "# HuggingFaceEmbeddings",
   "id": "b9844867f6322e0f"
  },
  {
   "metadata": {
    "ExecuteTime": {
     "end_time": "2025-01-06T03:19:12.925402Z",
     "start_time": "2025-01-06T03:19:05.420290Z"
    }
   },
   "cell_type": "code",
   "outputs": [
    {
     "name": "stdout",
     "output_type": "stream",
     "text": [
      "0.012231425382196903\n",
      "768\n",
      "2\t-0.00014217749412637204\t768\n"
     ]
    }
   ],
   "execution_count": 4,
   "source": [
    "from langchain_huggingface import HuggingFaceEmbeddings\n",
    "\n",
    "embeddings = HuggingFaceEmbeddings(model_name=\"sentence-transformers/all-mpnet-base-v2\")\n",
    "\n",
    "query_result = embeddings.embed_query(\"This is a query test\")\n",
    "print(query_result[0], len(query_result), sep='\\n')\n",
    "\n",
    "doc_result = embeddings.embed_documents([\"test A\", \"test B\"])\n",
    "print(len(doc_result), doc_result[0][0], len(doc_result[0]), sep='\\t')"
   ],
   "id": "ffdd4424244b4740"
  },
  {
   "metadata": {},
   "cell_type": "markdown",
   "source": [
    "# XinferenceEmbeddings\n",
    "\n",
    "```bash\n",
    "pip install xinference\n",
    "```\n",
    "\n",
    "**Reference:**\n",
    "\n",
    "https://python.langchain.com/docs/integrations/text_embedding/xinference/\n"
   ],
   "id": "4efec57efc45dd1c"
  },
  {
   "metadata": {
    "ExecuteTime": {
     "end_time": "2025-01-06T03:19:00.672806Z",
     "start_time": "2025-01-06T03:19:00.447403Z"
    }
   },
   "cell_type": "code",
   "source": [
    "from langchain_community.embeddings import XinferenceEmbeddings\n",
    "\n",
    "embeddings = XinferenceEmbeddings(server_url=\"http://10.238.130.9:9998\",\n",
    "                                  model_uid=\"bge-large-zh-v1.5\")\n",
    "\n",
    "query_result = embeddings.embed_query(\"This is a query test\")\n",
    "print(query_result[0], len(query_result), sep='\\n')\n",
    "\n",
    "doc_result = embeddings.embed_documents([\"test A\", \"test B\"])\n",
    "print(len(doc_result), doc_result[0][0], len(doc_result[0]), sep='\\t')\n",
    "\n"
   ],
   "id": "3371cab145870951",
   "outputs": [
    {
     "name": "stdout",
     "output_type": "stream",
     "text": [
      "0.005230752285569906\n",
      "1024\n",
      "2\t-0.004770809784531593\t1024\n"
     ]
    }
   ],
   "execution_count": 3
  },
  {
   "metadata": {},
   "cell_type": "markdown",
   "source": "# OllamaEmbeddings",
   "id": "3069b8deaf035958"
  },
  {
   "metadata": {
    "ExecuteTime": {
     "end_time": "2025-01-06T03:18:54.746342Z",
     "start_time": "2025-01-06T03:18:54.208480Z"
    }
   },
   "cell_type": "code",
   "source": [
    "from langchain_ollama import OllamaEmbeddings\n",
    "\n",
    "embeddings = OllamaEmbeddings(model=\"nomic-embed-text\", base_url=\"http://localhost:11434\")\n",
    "\n",
    "query_result = embeddings.embed_query(\"This is a query test\")\n",
    "print(query_result[0], len(query_result), sep='\\t')\n",
    "\n",
    "doc_result = embeddings.embed_documents([\"test A\", \"test B\"])\n",
    "print(len(doc_result), doc_result[0][0], len(doc_result[0]), sep='\\t')"
   ],
   "id": "77fb23e11d59da4d",
   "outputs": [
    {
     "name": "stdout",
     "output_type": "stream",
     "text": [
      "0.03273938\t768\n",
      "2\t0.021577857\t768\n"
     ]
    }
   ],
   "execution_count": 1
  }
 ],
 "metadata": {
  "kernelspec": {
   "display_name": "Python 3",
   "language": "python",
   "name": "python3"
  },
  "language_info": {
   "codemirror_mode": {
    "name": "ipython",
    "version": 2
   },
   "file_extension": ".py",
   "mimetype": "text/x-python",
   "name": "python",
   "nbconvert_exporter": "python",
   "pygments_lexer": "ipython2",
   "version": "2.7.6"
  }
 },
 "nbformat": 4,
 "nbformat_minor": 5
}
