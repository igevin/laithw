{
 "cells": [
  {
   "cell_type": "code",
   "id": "initial_id",
   "metadata": {
    "collapsed": true,
    "ExecuteTime": {
     "end_time": "2025-01-07T06:06:23.721988Z",
     "start_time": "2025-01-07T06:06:23.718184Z"
    }
   },
   "source": "#!pip install jq",
   "outputs": [],
   "execution_count": 1
  },
  {
   "metadata": {
    "ExecuteTime": {
     "end_time": "2025-01-07T06:06:23.732174Z",
     "start_time": "2025-01-07T06:06:23.728615Z"
    }
   },
   "cell_type": "code",
   "source": [
    "import json\n",
    "from pathlib import Path\n",
    "from pprint import pprint\n",
    "\n",
    "file_path = \"./data/facebook_chat.json\"\n",
    "data = json.loads(Path(file_path).read_text())\n",
    "pprint(data)\n",
    "\n",
    "# with open(file_path, \"r\") as f:\n",
    "#     data = json.load(f)\n",
    "#\n",
    "# print(data)\n"
   ],
   "id": "5e9794900f8caf23",
   "outputs": [
    {
     "name": "stdout",
     "output_type": "stream",
     "text": [
      "{'image': {'creation_timestamp': 1675549016, 'uri': 'image_of_the_chat.jpg'},\n",
      " 'is_still_participant': True,\n",
      " 'joinable_mode': {'link': '', 'mode': 1},\n",
      " 'magic_words': [],\n",
      " 'messages': [{'content': 'Bye!',\n",
      "               'sender_name': 'User 2',\n",
      "               'timestamp_ms': 1675597571851},\n",
      "              {'content': 'Oh no worries! Bye',\n",
      "               'sender_name': 'User 1',\n",
      "               'timestamp_ms': 1675597435669},\n",
      "              {'content': 'No Im sorry it was my mistake, the blue one is not '\n",
      "                          'for sale',\n",
      "               'sender_name': 'User 2',\n",
      "               'timestamp_ms': 1675596277579},\n",
      "              {'content': 'I thought you were selling the blue one!',\n",
      "               'sender_name': 'User 1',\n",
      "               'timestamp_ms': 1675595140251},\n",
      "              {'content': 'Im not interested in this bag. Im interested in the '\n",
      "                          'blue one!',\n",
      "               'sender_name': 'User 1',\n",
      "               'timestamp_ms': 1675595109305},\n",
      "              {'content': 'Here is $129',\n",
      "               'sender_name': 'User 2',\n",
      "               'timestamp_ms': 1675595068468},\n",
      "              {'photos': [{'creation_timestamp': 1675595059,\n",
      "                           'uri': 'url_of_some_picture.jpg'}],\n",
      "               'sender_name': 'User 2',\n",
      "               'timestamp_ms': 1675595060730},\n",
      "              {'content': 'Online is at least $100',\n",
      "               'sender_name': 'User 2',\n",
      "               'timestamp_ms': 1675595045152},\n",
      "              {'content': 'How much do you want?',\n",
      "               'sender_name': 'User 1',\n",
      "               'timestamp_ms': 1675594799696},\n",
      "              {'content': 'Goodmorning! $50 is too low.',\n",
      "               'sender_name': 'User 2',\n",
      "               'timestamp_ms': 1675577876645},\n",
      "              {'content': 'Hi! Im interested in your bag. Im offering $50. Let '\n",
      "                          'me know if you are interested. Thanks!',\n",
      "               'sender_name': 'User 1',\n",
      "               'timestamp_ms': 1675549022673}],\n",
      " 'participants': [{'name': 'User 1'}, {'name': 'User 2'}],\n",
      " 'thread_path': 'inbox/User 1 and User 2 chat',\n",
      " 'title': 'User 1 and User 2 chat'}\n"
     ]
    }
   ],
   "execution_count": 2
  },
  {
   "metadata": {
    "ExecuteTime": {
     "end_time": "2025-01-07T06:06:24.244584Z",
     "start_time": "2025-01-07T06:06:23.851534Z"
    }
   },
   "cell_type": "code",
   "source": [
    "from langchain_community.document_loaders import JSONLoader\n",
    "from pprint import pprint\n",
    "\n",
    "file_path = \"./data/facebook_chat.json\"\n",
    "# 方法1：把 .messages[].content 中信息放到 document 中\n",
    "loader = JSONLoader(file_path=file_path, jq_schema=\".messages[].content\", text_content=False)\n",
    "documents = loader.load()\n",
    "print(len(documents))\n",
    "pprint(documents)\n",
    "\n",
    "# 方法2：把 .messages[].content 中信息放到 document 中\n",
    "loader = JSONLoader(file_path=file_path, jq_schema=\".messages[]\", text_content=False,\n",
    "                    content_key=\".content\",\n",
    "                    is_content_key_jq_parsable=True, )\n",
    "documents = loader.load()\n",
    "print(len(documents))\n",
    "pprint(documents)\n",
    "\n",
    "# 不符合预期的写法\n",
    "loader = JSONLoader(file_path=file_path, jq_schema=\".\", text_content=False,\n",
    "                    content_key=\".messages[].content\",\n",
    "                    is_content_key_jq_parsable=True, )\n",
    "documents = loader.load()\n",
    "print(len(documents))\n",
    "pprint(documents)\n",
    "\n",
    "# 把整个 messages 中全部数据，以 json 格式写到 document 中\n",
    "loader = JSONLoader(file_path=file_path, jq_schema=\".messages[]\", text_content=False)\n",
    "documents = loader.load()\n",
    "print(len(documents))\n",
    "pprint(documents)\n",
    "\n",
    "# 整条 messages 列表变成了一条数据，不符合预期\n",
    "loader = JSONLoader(file_path=file_path, jq_schema=\".messages\", text_content=False)\n",
    "documents = loader.load()\n",
    "print(len(documents))\n",
    "pprint(documents)\n",
    "\n",
    "# 简单粗暴把全部数据放作为一个 document 信息内容\n",
    "loader = JSONLoader(file_path=file_path, jq_schema=\".\", text_content=False)\n",
    "documents = loader.load()\n",
    "print(len(documents))\n",
    "pprint(documents)"
   ],
   "id": "9f3fa049f7788096",
   "outputs": [
    {
     "name": "stdout",
     "output_type": "stream",
     "text": [
      "11\n",
      "[Document(metadata={'source': '/Users/gevin/projects/pycharm/laithw/notebook/04-langchain-rag/data/facebook_chat.json', 'seq_num': 1}, page_content='Bye!'),\n",
      " Document(metadata={'source': '/Users/gevin/projects/pycharm/laithw/notebook/04-langchain-rag/data/facebook_chat.json', 'seq_num': 2}, page_content='Oh no worries! Bye'),\n",
      " Document(metadata={'source': '/Users/gevin/projects/pycharm/laithw/notebook/04-langchain-rag/data/facebook_chat.json', 'seq_num': 3}, page_content='No Im sorry it was my mistake, the blue one is not for sale'),\n",
      " Document(metadata={'source': '/Users/gevin/projects/pycharm/laithw/notebook/04-langchain-rag/data/facebook_chat.json', 'seq_num': 4}, page_content='I thought you were selling the blue one!'),\n",
      " Document(metadata={'source': '/Users/gevin/projects/pycharm/laithw/notebook/04-langchain-rag/data/facebook_chat.json', 'seq_num': 5}, page_content='Im not interested in this bag. Im interested in the blue one!'),\n",
      " Document(metadata={'source': '/Users/gevin/projects/pycharm/laithw/notebook/04-langchain-rag/data/facebook_chat.json', 'seq_num': 6}, page_content='Here is $129'),\n",
      " Document(metadata={'source': '/Users/gevin/projects/pycharm/laithw/notebook/04-langchain-rag/data/facebook_chat.json', 'seq_num': 7}, page_content=''),\n",
      " Document(metadata={'source': '/Users/gevin/projects/pycharm/laithw/notebook/04-langchain-rag/data/facebook_chat.json', 'seq_num': 8}, page_content='Online is at least $100'),\n",
      " Document(metadata={'source': '/Users/gevin/projects/pycharm/laithw/notebook/04-langchain-rag/data/facebook_chat.json', 'seq_num': 9}, page_content='How much do you want?'),\n",
      " Document(metadata={'source': '/Users/gevin/projects/pycharm/laithw/notebook/04-langchain-rag/data/facebook_chat.json', 'seq_num': 10}, page_content='Goodmorning! $50 is too low.'),\n",
      " Document(metadata={'source': '/Users/gevin/projects/pycharm/laithw/notebook/04-langchain-rag/data/facebook_chat.json', 'seq_num': 11}, page_content='Hi! Im interested in your bag. Im offering $50. Let me know if you are interested. Thanks!')]\n",
      "11\n",
      "[Document(metadata={'source': '/Users/gevin/projects/pycharm/laithw/notebook/04-langchain-rag/data/facebook_chat.json', 'seq_num': 1}, page_content='Bye!'),\n",
      " Document(metadata={'source': '/Users/gevin/projects/pycharm/laithw/notebook/04-langchain-rag/data/facebook_chat.json', 'seq_num': 2}, page_content='Oh no worries! Bye'),\n",
      " Document(metadata={'source': '/Users/gevin/projects/pycharm/laithw/notebook/04-langchain-rag/data/facebook_chat.json', 'seq_num': 3}, page_content='No Im sorry it was my mistake, the blue one is not for sale'),\n",
      " Document(metadata={'source': '/Users/gevin/projects/pycharm/laithw/notebook/04-langchain-rag/data/facebook_chat.json', 'seq_num': 4}, page_content='I thought you were selling the blue one!'),\n",
      " Document(metadata={'source': '/Users/gevin/projects/pycharm/laithw/notebook/04-langchain-rag/data/facebook_chat.json', 'seq_num': 5}, page_content='Im not interested in this bag. Im interested in the blue one!'),\n",
      " Document(metadata={'source': '/Users/gevin/projects/pycharm/laithw/notebook/04-langchain-rag/data/facebook_chat.json', 'seq_num': 6}, page_content='Here is $129'),\n",
      " Document(metadata={'source': '/Users/gevin/projects/pycharm/laithw/notebook/04-langchain-rag/data/facebook_chat.json', 'seq_num': 7}, page_content=''),\n",
      " Document(metadata={'source': '/Users/gevin/projects/pycharm/laithw/notebook/04-langchain-rag/data/facebook_chat.json', 'seq_num': 8}, page_content='Online is at least $100'),\n",
      " Document(metadata={'source': '/Users/gevin/projects/pycharm/laithw/notebook/04-langchain-rag/data/facebook_chat.json', 'seq_num': 9}, page_content='How much do you want?'),\n",
      " Document(metadata={'source': '/Users/gevin/projects/pycharm/laithw/notebook/04-langchain-rag/data/facebook_chat.json', 'seq_num': 10}, page_content='Goodmorning! $50 is too low.'),\n",
      " Document(metadata={'source': '/Users/gevin/projects/pycharm/laithw/notebook/04-langchain-rag/data/facebook_chat.json', 'seq_num': 11}, page_content='Hi! Im interested in your bag. Im offering $50. Let me know if you are interested. Thanks!')]\n",
      "1\n",
      "[Document(metadata={'source': '/Users/gevin/projects/pycharm/laithw/notebook/04-langchain-rag/data/facebook_chat.json', 'seq_num': 1}, page_content='Bye!')]\n",
      "11\n",
      "[Document(metadata={'source': '/Users/gevin/projects/pycharm/laithw/notebook/04-langchain-rag/data/facebook_chat.json', 'seq_num': 1}, page_content='{\"sender_name\": \"User 2\", \"timestamp_ms\": 1675597571851, \"content\": \"Bye!\"}'),\n",
      " Document(metadata={'source': '/Users/gevin/projects/pycharm/laithw/notebook/04-langchain-rag/data/facebook_chat.json', 'seq_num': 2}, page_content='{\"sender_name\": \"User 1\", \"timestamp_ms\": 1675597435669, \"content\": \"Oh no worries! Bye\"}'),\n",
      " Document(metadata={'source': '/Users/gevin/projects/pycharm/laithw/notebook/04-langchain-rag/data/facebook_chat.json', 'seq_num': 3}, page_content='{\"sender_name\": \"User 2\", \"timestamp_ms\": 1675596277579, \"content\": \"No Im sorry it was my mistake, the blue one is not for sale\"}'),\n",
      " Document(metadata={'source': '/Users/gevin/projects/pycharm/laithw/notebook/04-langchain-rag/data/facebook_chat.json', 'seq_num': 4}, page_content='{\"sender_name\": \"User 1\", \"timestamp_ms\": 1675595140251, \"content\": \"I thought you were selling the blue one!\"}'),\n",
      " Document(metadata={'source': '/Users/gevin/projects/pycharm/laithw/notebook/04-langchain-rag/data/facebook_chat.json', 'seq_num': 5}, page_content='{\"sender_name\": \"User 1\", \"timestamp_ms\": 1675595109305, \"content\": \"Im not interested in this bag. Im interested in the blue one!\"}'),\n",
      " Document(metadata={'source': '/Users/gevin/projects/pycharm/laithw/notebook/04-langchain-rag/data/facebook_chat.json', 'seq_num': 6}, page_content='{\"sender_name\": \"User 2\", \"timestamp_ms\": 1675595068468, \"content\": \"Here is $129\"}'),\n",
      " Document(metadata={'source': '/Users/gevin/projects/pycharm/laithw/notebook/04-langchain-rag/data/facebook_chat.json', 'seq_num': 7}, page_content='{\"sender_name\": \"User 2\", \"timestamp_ms\": 1675595060730, \"photos\": [{\"uri\": \"url_of_some_picture.jpg\", \"creation_timestamp\": 1675595059}]}'),\n",
      " Document(metadata={'source': '/Users/gevin/projects/pycharm/laithw/notebook/04-langchain-rag/data/facebook_chat.json', 'seq_num': 8}, page_content='{\"sender_name\": \"User 2\", \"timestamp_ms\": 1675595045152, \"content\": \"Online is at least $100\"}'),\n",
      " Document(metadata={'source': '/Users/gevin/projects/pycharm/laithw/notebook/04-langchain-rag/data/facebook_chat.json', 'seq_num': 9}, page_content='{\"sender_name\": \"User 1\", \"timestamp_ms\": 1675594799696, \"content\": \"How much do you want?\"}'),\n",
      " Document(metadata={'source': '/Users/gevin/projects/pycharm/laithw/notebook/04-langchain-rag/data/facebook_chat.json', 'seq_num': 10}, page_content='{\"sender_name\": \"User 2\", \"timestamp_ms\": 1675577876645, \"content\": \"Goodmorning! $50 is too low.\"}'),\n",
      " Document(metadata={'source': '/Users/gevin/projects/pycharm/laithw/notebook/04-langchain-rag/data/facebook_chat.json', 'seq_num': 11}, page_content='{\"sender_name\": \"User 1\", \"timestamp_ms\": 1675549022673, \"content\": \"Hi! Im interested in your bag. Im offering $50. Let me know if you are interested. Thanks!\"}')]\n",
      "1\n",
      "[Document(metadata={'source': '/Users/gevin/projects/pycharm/laithw/notebook/04-langchain-rag/data/facebook_chat.json', 'seq_num': 1}, page_content=\"[{'sender_name': 'User 2', 'timestamp_ms': 1675597571851, 'content': 'Bye!'}, {'sender_name': 'User 1', 'timestamp_ms': 1675597435669, 'content': 'Oh no worries! Bye'}, {'sender_name': 'User 2', 'timestamp_ms': 1675596277579, 'content': 'No Im sorry it was my mistake, the blue one is not for sale'}, {'sender_name': 'User 1', 'timestamp_ms': 1675595140251, 'content': 'I thought you were selling the blue one!'}, {'sender_name': 'User 1', 'timestamp_ms': 1675595109305, 'content': 'Im not interested in this bag. Im interested in the blue one!'}, {'sender_name': 'User 2', 'timestamp_ms': 1675595068468, 'content': 'Here is $129'}, {'sender_name': 'User 2', 'timestamp_ms': 1675595060730, 'photos': [{'uri': 'url_of_some_picture.jpg', 'creation_timestamp': 1675595059}]}, {'sender_name': 'User 2', 'timestamp_ms': 1675595045152, 'content': 'Online is at least $100'}, {'sender_name': 'User 1', 'timestamp_ms': 1675594799696, 'content': 'How much do you want?'}, {'sender_name': 'User 2', 'timestamp_ms': 1675577876645, 'content': 'Goodmorning! $50 is too low.'}, {'sender_name': 'User 1', 'timestamp_ms': 1675549022673, 'content': 'Hi! Im interested in your bag. Im offering $50. Let me know if you are interested. Thanks!'}]\")]\n",
      "1\n",
      "[Document(metadata={'source': '/Users/gevin/projects/pycharm/laithw/notebook/04-langchain-rag/data/facebook_chat.json', 'seq_num': 1}, page_content='{\"participants\": [{\"name\": \"User 1\"}, {\"name\": \"User 2\"}], \"messages\": [{\"sender_name\": \"User 2\", \"timestamp_ms\": 1675597571851, \"content\": \"Bye!\"}, {\"sender_name\": \"User 1\", \"timestamp_ms\": 1675597435669, \"content\": \"Oh no worries! Bye\"}, {\"sender_name\": \"User 2\", \"timestamp_ms\": 1675596277579, \"content\": \"No Im sorry it was my mistake, the blue one is not for sale\"}, {\"sender_name\": \"User 1\", \"timestamp_ms\": 1675595140251, \"content\": \"I thought you were selling the blue one!\"}, {\"sender_name\": \"User 1\", \"timestamp_ms\": 1675595109305, \"content\": \"Im not interested in this bag. Im interested in the blue one!\"}, {\"sender_name\": \"User 2\", \"timestamp_ms\": 1675595068468, \"content\": \"Here is $129\"}, {\"sender_name\": \"User 2\", \"timestamp_ms\": 1675595060730, \"photos\": [{\"uri\": \"url_of_some_picture.jpg\", \"creation_timestamp\": 1675595059}]}, {\"sender_name\": \"User 2\", \"timestamp_ms\": 1675595045152, \"content\": \"Online is at least $100\"}, {\"sender_name\": \"User 1\", \"timestamp_ms\": 1675594799696, \"content\": \"How much do you want?\"}, {\"sender_name\": \"User 2\", \"timestamp_ms\": 1675577876645, \"content\": \"Goodmorning! $50 is too low.\"}, {\"sender_name\": \"User 1\", \"timestamp_ms\": 1675549022673, \"content\": \"Hi! Im interested in your bag. Im offering $50. Let me know if you are interested. Thanks!\"}], \"title\": \"User 1 and User 2 chat\", \"is_still_participant\": true, \"thread_path\": \"inbox/User 1 and User 2 chat\", \"magic_words\": [], \"image\": {\"uri\": \"image_of_the_chat.jpg\", \"creation_timestamp\": 1675549016}, \"joinable_mode\": {\"mode\": 1, \"link\": \"\"}}')]\n"
     ]
    }
   ],
   "execution_count": 3
  },
  {
   "metadata": {
    "ExecuteTime": {
     "end_time": "2025-01-07T06:06:24.267333Z",
     "start_time": "2025-01-07T06:06:24.249033Z"
    }
   },
   "cell_type": "code",
   "source": [
    "# collect meta data\n",
    "# 配合上面方法2，把更多信息写到 metadata 中，以及如何修改默认的 meta 数据\n",
    "\n",
    "from langchain_community.document_loaders import JSONLoader\n",
    "from pprint import pprint\n",
    "\n",
    "\n",
    "def metadata_func(record: dict, metadata: dict) -> dict:\n",
    "    metadata[\"sender_name\"] = record.get(\"sender_name\")\n",
    "    metadata[\"timestamp_ms\"] = record.get(\"timestamp_ms\")\n",
    "\n",
    "    if \"source\" in metadata:\n",
    "        source = metadata[\"source\"].split(\"/\")\n",
    "        # source = source[source.index(\"data\"):]\n",
    "        source = source[-1:]\n",
    "        metadata[\"source\"] = \"/\".join(source)\n",
    "\n",
    "    return metadata\n",
    "\n",
    "\n",
    "file_path = \"./data/facebook_chat.json\"\n",
    "loader = JSONLoader(\n",
    "    file_path=file_path,\n",
    "    jq_schema='.messages[]',\n",
    "    text_content=False,\n",
    "    content_key=\".content\",\n",
    "    is_content_key_jq_parsable=True,\n",
    "    metadata_func=metadata_func\n",
    ")\n",
    "\n",
    "documents = loader.load()\n",
    "print(len(documents))\n",
    "pprint(documents)\n"
   ],
   "id": "971803c73a834166",
   "outputs": [
    {
     "name": "stdout",
     "output_type": "stream",
     "text": [
      "11\n",
      "[Document(metadata={'source': 'facebook_chat.json', 'seq_num': 1, 'sender_name': 'User 2', 'timestamp_ms': 1675597571851}, page_content='Bye!'),\n",
      " Document(metadata={'source': 'facebook_chat.json', 'seq_num': 2, 'sender_name': 'User 1', 'timestamp_ms': 1675597435669}, page_content='Oh no worries! Bye'),\n",
      " Document(metadata={'source': 'facebook_chat.json', 'seq_num': 3, 'sender_name': 'User 2', 'timestamp_ms': 1675596277579}, page_content='No Im sorry it was my mistake, the blue one is not for sale'),\n",
      " Document(metadata={'source': 'facebook_chat.json', 'seq_num': 4, 'sender_name': 'User 1', 'timestamp_ms': 1675595140251}, page_content='I thought you were selling the blue one!'),\n",
      " Document(metadata={'source': 'facebook_chat.json', 'seq_num': 5, 'sender_name': 'User 1', 'timestamp_ms': 1675595109305}, page_content='Im not interested in this bag. Im interested in the blue one!'),\n",
      " Document(metadata={'source': 'facebook_chat.json', 'seq_num': 6, 'sender_name': 'User 2', 'timestamp_ms': 1675595068468}, page_content='Here is $129'),\n",
      " Document(metadata={'source': 'facebook_chat.json', 'seq_num': 7, 'sender_name': 'User 2', 'timestamp_ms': 1675595060730}, page_content=''),\n",
      " Document(metadata={'source': 'facebook_chat.json', 'seq_num': 8, 'sender_name': 'User 2', 'timestamp_ms': 1675595045152}, page_content='Online is at least $100'),\n",
      " Document(metadata={'source': 'facebook_chat.json', 'seq_num': 9, 'sender_name': 'User 1', 'timestamp_ms': 1675594799696}, page_content='How much do you want?'),\n",
      " Document(metadata={'source': 'facebook_chat.json', 'seq_num': 10, 'sender_name': 'User 2', 'timestamp_ms': 1675577876645}, page_content='Goodmorning! $50 is too low.'),\n",
      " Document(metadata={'source': 'facebook_chat.json', 'seq_num': 11, 'sender_name': 'User 1', 'timestamp_ms': 1675549022673}, page_content='Hi! Im interested in your bag. Im offering $50. Let me know if you are interested. Thanks!')]\n"
     ]
    }
   ],
   "execution_count": 4
  }
 ],
 "metadata": {
  "kernelspec": {
   "display_name": "Python 3",
   "language": "python",
   "name": "python3"
  },
  "language_info": {
   "codemirror_mode": {
    "name": "ipython",
    "version": 2
   },
   "file_extension": ".py",
   "mimetype": "text/x-python",
   "name": "python",
   "nbconvert_exporter": "python",
   "pygments_lexer": "ipython2",
   "version": "2.7.6"
  }
 },
 "nbformat": 4,
 "nbformat_minor": 5
}
