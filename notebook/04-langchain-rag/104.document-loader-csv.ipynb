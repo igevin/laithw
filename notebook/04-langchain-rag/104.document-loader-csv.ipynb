{
 "cells": [
  {
   "cell_type": "code",
   "id": "initial_id",
   "metadata": {
    "collapsed": true,
    "ExecuteTime": {
     "end_time": "2025-01-06T03:42:27.285192Z",
     "start_time": "2025-01-06T03:42:27.281726Z"
    }
   },
   "source": [
    "from langchain_community.document_loaders import CSVLoader\n",
    "from pprint import pprint\n",
    "\n",
    "file_path = \"./data/mlb_teams_2012.csv\"\n",
    "loader = CSVLoader(file_path)\n",
    "data = loader.load()\n",
    "pprint(data[:3])\n",
    "\n",
    "print(\"\\n\")\n",
    "\n",
    "loader = CSVLoader(file_path, source_column=\"Team\")\n",
    "data = loader.load()\n",
    "pprint(data[:3])"
   ],
   "outputs": [
    {
     "name": "stdout",
     "output_type": "stream",
     "text": [
      "[Document(metadata={'source': './data/mlb_teams_2012.csv', 'row': 0}, page_content='Team: Nationals\\n\"Payroll (millions)\": 81.34\\n\"Wins\": 98'),\n",
      " Document(metadata={'source': './data/mlb_teams_2012.csv', 'row': 1}, page_content='Team: Reds\\n\"Payroll (millions)\": 82.20\\n\"Wins\": 97'),\n",
      " Document(metadata={'source': './data/mlb_teams_2012.csv', 'row': 2}, page_content='Team: Yankees\\n\"Payroll (millions)\": 197.96\\n\"Wins\": 95')]\n",
      "\n",
      "\n",
      "[Document(metadata={'source': 'Nationals', 'row': 0}, page_content='Team: Nationals\\n\"Payroll (millions)\": 81.34\\n\"Wins\": 98'),\n",
      " Document(metadata={'source': 'Reds', 'row': 1}, page_content='Team: Reds\\n\"Payroll (millions)\": 82.20\\n\"Wins\": 97'),\n",
      " Document(metadata={'source': 'Yankees', 'row': 2}, page_content='Team: Yankees\\n\"Payroll (millions)\": 197.96\\n\"Wins\": 95')]\n"
     ]
    }
   ],
   "execution_count": 13
  }
 ],
 "metadata": {
  "kernelspec": {
   "display_name": "Python 3",
   "language": "python",
   "name": "python3"
  },
  "language_info": {
   "codemirror_mode": {
    "name": "ipython",
    "version": 2
   },
   "file_extension": ".py",
   "mimetype": "text/x-python",
   "name": "python",
   "nbconvert_exporter": "python",
   "pygments_lexer": "ipython2",
   "version": "2.7.6"
  }
 },
 "nbformat": 4,
 "nbformat_minor": 5
}
