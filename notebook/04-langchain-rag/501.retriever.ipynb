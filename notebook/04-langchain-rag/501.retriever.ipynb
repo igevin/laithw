{
 "cells": [
  {
   "metadata": {},
   "cell_type": "markdown",
   "source": "# 准备数据",
   "id": "9bffb65ff31d4f49"
  },
  {
   "metadata": {
    "collapsed": true,
    "ExecuteTime": {
     "end_time": "2025-01-16T14:30:03.708220Z",
     "start_time": "2025-01-16T14:30:03.083808Z"
    }
   },
   "cell_type": "code",
   "source": [
    "from langchain_qdrant import QdrantVectorStore\n",
    "from qdrant_client import QdrantClient\n",
    "# from qdrant_client.http.models import VectorParams, Distance\n",
    "from qdrant_client.models import VectorParams, Distance\n",
    "\n",
    "from langchain_ollama import OllamaEmbeddings\n",
    "\n",
    "from langchain_community.document_loaders import CSVLoader\n",
    "\n",
    "embeddings = OllamaEmbeddings(model=\"nomic-embed-text\", base_url=\"http://localhost:11434\")\n",
    "\n",
    "# client = QdrantClient(\":memory:\")\n",
    "client = QdrantClient(\"http://localhost:6333\")\n",
    "collection_name = \"mlb_teams_2012\"\n",
    "if not client.collection_exists(collection_name):\n",
    "    client.create_collection(collection_name, vectors_config=VectorParams(size=768, distance=Distance.COSINE))\n",
    "vector_store = QdrantVectorStore(\n",
    "    client=client,\n",
    "    collection_name=collection_name,\n",
    "    embedding=embeddings,\n",
    ")\n",
    "\n",
    "\n",
    "def load_data():\n",
    "    file_path = \"./data/mlb_teams_2012.csv\"\n",
    "    loader = CSVLoader(file_path,\n",
    "                       source_column=\"Team\",\n",
    "                       metadata_columns=(\"Team\", \"Payroll (millions)\", \"Wins\"),\n",
    "                       content_columns=(\"Team\", \"Payroll (millions)\", \"Wins\"),\n",
    "                       )\n",
    "    return loader.load()\n",
    "\n",
    "\n",
    "documents = load_data()\n",
    "ids = vector_store.add_documents(documents)\n",
    "print(ids)"
   ],
   "id": "initial_id",
   "outputs": [
    {
     "name": "stdout",
     "output_type": "stream",
     "text": [
      "['87a0cb5ee364426da1517674a3cc5942', '887f7674220e4e1a9c1d330f10060052', 'a39d82f9ca2b41739b76b2d6bc9eeba6', 'ab8afe7b10424d638c4ee16811c4760d', 'a3e8f42e9105428c80c148c579a6a2e8', 'f6210a6095ac48788e97cced2ca75cc3', '215695f171344732991e406ddbdfcac8', '65233e29927d4eeca594bf256e123037', '66e391ae8cdf47ba8326b03293d1f314', '7cea7031e12844c2ac9e16cbc8e87316', 'de3d064d337446a09962120455546d32', '8b6ecd9b091e46ce9d5a2602d933a8c1', '291a39d654fa4a0895217554a1381174', 'e462bcaa1d474750921cb826bcd5405a', 'd43e6fb687144fe9861c9ea4699a53f6', '45e81736b2a3466282e4a6d28d69d168', 'd6a03e1247a64fefaab905313440fcd5', 'd98a3dbddcd749748dc213d442c24738', 'a4de0700282d44ca9fbd41c7069ffd23', '11dc9411bae74e83944d99488c6a4def', '2f42b7c7cd584603bf96c050fd743ff5', '0ca975f1f74b4cd5875c07114b3260c7', '01b3584adee7444ba8d094909c613466', '58de0906f880494aad3eb6c13b3663cc', '134c81a2cecf4884b0b91716dcdf4f89', '7d8aec3ecd2a41a285b2e048ced32666', 'd0cd95a30c3244c1ba377cd062dd23e8', '9ba240d67a2a40fbaf80de4dd28fb051', '8a12a305ffa642da9034259c1d3182cb', '9b3b28f68a2e4e4096364a4a8634db86']\n"
     ]
    }
   ],
   "execution_count": 5
  },
  {
   "metadata": {
    "ExecuteTime": {
     "end_time": "2025-01-16T14:32:16.959477Z",
     "start_time": "2025-01-16T14:32:16.850130Z"
    }
   },
   "cell_type": "code",
   "source": [
    "from qdrant_client.models import Filter, FieldCondition, MatchValue\n",
    "\n",
    "client = QdrantClient(\"http://localhost:6333\")\n",
    "collection_name = \"mlb_teams_2012\"\n",
    "if not client.collection_exists(collection_name):\n",
    "    client.create_collection(collection_name, vectors_config=VectorParams(size=768, distance=Distance.COSINE))\n",
    "vector_store = QdrantVectorStore(\n",
    "    client=client,\n",
    "    collection_name=collection_name,\n",
    "    embedding=embeddings,\n",
    ")\n",
    "\n",
    "res = vector_store.similarity_search(\"\",\n",
    "                                     k=5,\n",
    "                                     filter=Filter(\n",
    "                                         must=[FieldCondition(key=\"metadata.Team\", match=MatchValue(value=\"Rockies\"))],\n",
    "                                     )\n",
    "                                     )\n",
    "print(len(res), res, sep=\"\\n\")\n",
    "res = vector_store.similarity_search_with_score(\"\",\n",
    "                                     k=5,\n",
    "                                     filter=Filter(\n",
    "                                         must=[FieldCondition(key=\"metadata.Team\", match=MatchValue(value=\"Rockies\"))],\n",
    "                                     )\n",
    "                                     )\n",
    "print(len(res), res, sep=\"\\n\")"
   ],
   "id": "a5662a285b733814",
   "outputs": [
    {
     "name": "stdout",
     "output_type": "stream",
     "text": [
      "1\n",
      "[Document(metadata={'source': 'Rockies', 'row': 27, 'Team': 'Rockies', 'Payroll (millions)': '       78.06', 'Wins': ' 64', '_id': '9ba240d6-7a2a-40fb-af80-de4dd28fb051', '_collection_name': 'mlb_teams_2012'}, page_content='Team: Rockies\\nPayroll (millions): 78.06\\nWins: 64')]\n",
      "1\n",
      "[(Document(metadata={'source': 'Rockies', 'row': 27, 'Team': 'Rockies', 'Payroll (millions)': '       78.06', 'Wins': ' 64', '_id': '9ba240d6-7a2a-40fb-af80-de4dd28fb051', '_collection_name': 'mlb_teams_2012'}, page_content='Team: Rockies\\nPayroll (millions): 78.06\\nWins: 64'), 0.55020905)]\n"
     ]
    }
   ],
   "execution_count": 9
  },
  {
   "metadata": {
    "ExecuteTime": {
     "end_time": "2025-01-16T14:32:40.879986Z",
     "start_time": "2025-01-16T14:32:40.816937Z"
    }
   },
   "cell_type": "code",
   "source": [
    "retriever = vector_store.as_retriever(search_type=\"similarity\", search_kwargs={\n",
    "    \"k\": 100,\n",
    "    \"filter\": Filter(\n",
    "        must=[FieldCondition(key=\"metadata.Team\", match=MatchValue(value=\"Rockies\"))],\n",
    "    )\n",
    "})\n",
    "res = retriever.invoke(\"\")\n",
    "print(len(res), res, sep=\"\\n\")\n",
    "print(retriever.search_kwargs)"
   ],
   "id": "7be1ecceeee37097",
   "outputs": [
    {
     "name": "stdout",
     "output_type": "stream",
     "text": [
      "1\n",
      "[Document(metadata={'source': 'Rockies', 'row': 27, 'Team': 'Rockies', 'Payroll (millions)': '       78.06', 'Wins': ' 64', '_id': '9ba240d6-7a2a-40fb-af80-de4dd28fb051', '_collection_name': 'mlb_teams_2012'}, page_content='Team: Rockies\\nPayroll (millions): 78.06\\nWins: 64')]\n",
      "{'k': 100, 'filter': Filter(should=None, min_should=None, must=[FieldCondition(key='metadata.Team', match=MatchValue(value='Rockies'), range=None, geo_bounding_box=None, geo_radius=None, geo_polygon=None, values_count=None)], must_not=None)}\n"
     ]
    }
   ],
   "execution_count": 10
  },
  {
   "metadata": {
    "ExecuteTime": {
     "end_time": "2025-01-16T14:37:19.956380Z",
     "start_time": "2025-01-16T14:37:19.872012Z"
    }
   },
   "cell_type": "code",
   "source": [
    "retriever = vector_store.as_retriever()\n",
    "\n",
    "retriever.search_kwargs={\n",
    "    \"k\": 100,\n",
    "    \"filter\": Filter(\n",
    "        must=[FieldCondition(key=\"metadata.Team\", match=MatchValue(value=\"Rockies\"))],\n",
    "    )\n",
    "}\n",
    "\n",
    "retriever2 = retriever.bind(search_kwargs={\"k\":1})\n",
    "print(retriever2.search_kwargs)\n",
    "\n",
    "\n",
    "\n",
    "res = retriever.invoke(\"\")\n",
    "print(len(res), res, sep=\"\\n\")"
   ],
   "id": "60d44afddac588d1",
   "outputs": [
    {
     "name": "stdout",
     "output_type": "stream",
     "text": [
      "{'k': 100, 'filter': Filter(should=None, min_should=None, must=[FieldCondition(key='metadata.Team', match=MatchValue(value='Rockies'), range=None, geo_bounding_box=None, geo_radius=None, geo_polygon=None, values_count=None)], must_not=None)}\n",
      "1\n",
      "[Document(metadata={'source': 'Rockies', 'row': 27, 'Team': 'Rockies', 'Payroll (millions)': '       78.06', 'Wins': ' 64', '_id': '9ba240d6-7a2a-40fb-af80-de4dd28fb051', '_collection_name': 'mlb_teams_2012'}, page_content='Team: Rockies\\nPayroll (millions): 78.06\\nWins: 64')]\n"
     ]
    }
   ],
   "execution_count": 13
  }
 ],
 "metadata": {
  "kernelspec": {
   "display_name": "Python 3",
   "language": "python",
   "name": "python3"
  },
  "language_info": {
   "codemirror_mode": {
    "name": "ipython",
    "version": 2
   },
   "file_extension": ".py",
   "mimetype": "text/x-python",
   "name": "python",
   "nbconvert_exporter": "python",
   "pygments_lexer": "ipython2",
   "version": "2.7.6"
  }
 },
 "nbformat": 4,
 "nbformat_minor": 5
}
