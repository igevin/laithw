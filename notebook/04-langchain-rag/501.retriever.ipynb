{
 "cells": [
  {
   "metadata": {},
   "cell_type": "markdown",
   "source": "# 准备数据",
   "id": "9bffb65ff31d4f49"
  },
  {
   "metadata": {
    "collapsed": true,
    "ExecuteTime": {
     "end_time": "2025-01-10T08:33:23.408459Z",
     "start_time": "2025-01-10T08:33:22.308986Z"
    }
   },
   "cell_type": "code",
   "source": [
    "from langchain_qdrant import QdrantVectorStore\n",
    "from qdrant_client import QdrantClient\n",
    "# from qdrant_client.http.models import VectorParams, Distance\n",
    "from qdrant_client.models import VectorParams, Distance\n",
    "\n",
    "from langchain_ollama import OllamaEmbeddings\n",
    "\n",
    "from langchain_community.document_loaders import CSVLoader\n",
    "\n",
    "embeddings = OllamaEmbeddings(model=\"nomic-embed-text\", base_url=\"http://localhost:11434\")\n",
    "\n",
    "# client = QdrantClient(\":memory:\")\n",
    "client = QdrantClient(\"http://localhost:6333\")\n",
    "collection_name = \"mlb_teams_2012\"\n",
    "if not client.collection_exists(collection_name):\n",
    "    client.create_collection(collection_name, vectors_config=VectorParams(size=768, distance=Distance.COSINE))\n",
    "vector_store = QdrantVectorStore(\n",
    "    client=client,\n",
    "    collection_name=collection_name,\n",
    "    embedding=embeddings,\n",
    ")\n",
    "\n",
    "\n",
    "def load_data():\n",
    "    file_path = \"./data/mlb_teams_2012.csv\"\n",
    "    loader = CSVLoader(file_path,\n",
    "                       source_column=\"Team\",\n",
    "                       metadata_columns=(\"Team\", \"Payroll (millions)\", \"Wins\"),\n",
    "                       content_columns=(\"Team\", \"Payroll (millions)\", \"Wins\"),\n",
    "                       )\n",
    "    return loader.load()\n",
    "\n",
    "\n",
    "documents = load_data()\n",
    "ids = vector_store.add_documents(documents)\n",
    "print(ids)"
   ],
   "id": "initial_id",
   "outputs": [
    {
     "name": "stdout",
     "output_type": "stream",
     "text": [
      "['67c98d0ff09f4c2cba3035333e5fbb25', 'e60cd782555f41b698e82fb7262345ad', 'e4341965dba440468a4484ff84d2bc52', '1b5a340cd07b46f983c2d354d0a1ba1f', '354c63578dad4c188e60c84febda2eeb', 'a890e2877b4d465e8a3bb533a4cc601f', '79019492743643b883ea4ea8acffd8b9', '9b072fa8cd724e3aac20f37247d1ef26', '93b72feab61e4f1fa5bbc8fe26352ace', '1361766cce5b4387a03bb61a162ba80a', '490e7e35c05748c5b7c85c7112361f5b', '14ab7a6387524922ba95d953df7ebead', 'f52411b3bb5540aeacd9a01391384510', 'b640b9fe71fe4e6686163250ca7884bf', '962faeafe8554dfe93c21ed4126d7ae8', '54cace1e1b0b4a18a54e989b8657cf95', 'f2f80a2a43b54a3cbbe36d7e12816854', 'e3e37bba76984611a7fef4f5966882b7', '2fa17794ef99414da2e30d7b83a40deb', 'ac497c946ff84d7da7a9846e49253cf2', '16e0e6232d384cab901862b96bea1ead', 'a1b09c8952fd4b87aa93125fc5afff6e', '5106ff1fce0c4ff4be5f8e23bc7e8f90', '375aee5157fa4e0cb97ce5026965ebd6', '8653266a1b654c0b8844c29eab0420b7', '571a1a2b0c8c4c26b7e110fd451b00b5', '23610d43fdf1478eb2fe6132f092c670', '033cea96fd1e41758bc600e3c82a9a04', '2afaeb87755744a59ccc3634d332dcd8', '39316f899e7c4363ae1b74159dec96a6']\n"
     ]
    }
   ],
   "execution_count": 24
  },
  {
   "metadata": {
    "ExecuteTime": {
     "end_time": "2025-01-10T08:55:40.129017Z",
     "start_time": "2025-01-10T08:55:40.061925Z"
    }
   },
   "cell_type": "code",
   "source": [
    "from qdrant_client.models import Filter, FieldCondition, MatchValue\n",
    "\n",
    "res = vector_store.similarity_search(\"\",\n",
    "                                     k=100,\n",
    "                                     filter=Filter(\n",
    "                                         must=[FieldCondition(key=\"metadata.Team\", match=MatchValue(value=\"Rockies\"))],\n",
    "                                     )\n",
    "                                     )\n",
    "print(len(res), res, sep=\"\\n\")"
   ],
   "id": "a5662a285b733814",
   "outputs": [
    {
     "name": "stdout",
     "output_type": "stream",
     "text": [
      "1\n",
      "[Document(metadata={'Payroll (millions)': '       78.06', 'Team': 'Rockies', 'Wins': ' 64', 'row': 27, 'source': 'Rockies', '_id': '033cea96-fd1e-4175-8bc6-00e3c82a9a04', '_collection_name': 'mlb_teams_2012'}, page_content='Team: Rockies\\nPayroll (millions): 78.06\\nWins: 64')]\n"
     ]
    }
   ],
   "execution_count": 36
  },
  {
   "metadata": {
    "ExecuteTime": {
     "end_time": "2025-01-10T09:07:39.097215Z",
     "start_time": "2025-01-10T09:07:38.913741Z"
    }
   },
   "cell_type": "code",
   "source": [
    "retriever = vector_store.as_retriever(search_type=\"similarity\", search_kwargs={\n",
    "    \"k\": 100,\n",
    "    \"filter\": Filter(\n",
    "        must=[FieldCondition(key=\"metadata.Team\", match=MatchValue(value=\"Rockies\"))],\n",
    "    )\n",
    "})\n",
    "res = retriever.invoke(\"\")\n",
    "print(len(res), res, sep=\"\\n\")\n",
    "print(retriever.search_kwargs)"
   ],
   "id": "7be1ecceeee37097",
   "outputs": [
    {
     "name": "stdout",
     "output_type": "stream",
     "text": [
      "1\n",
      "[Document(metadata={'Payroll (millions)': '       78.06', 'Team': 'Rockies', 'Wins': ' 64', 'row': 27, 'source': 'Rockies', '_id': '033cea96-fd1e-4175-8bc6-00e3c82a9a04', '_collection_name': 'mlb_teams_2012'}, page_content='Team: Rockies\\nPayroll (millions): 78.06\\nWins: 64')]\n",
      "{'k': 100, 'filter': Filter(should=None, min_should=None, must=[FieldCondition(key='metadata.Team', match=MatchValue(value='Rockies'), range=None, geo_bounding_box=None, geo_radius=None, geo_polygon=None, values_count=None)], must_not=None)}\n"
     ]
    }
   ],
   "execution_count": 46
  },
  {
   "metadata": {
    "ExecuteTime": {
     "end_time": "2025-01-10T09:20:06.305136Z",
     "start_time": "2025-01-10T09:20:06.165420Z"
    }
   },
   "cell_type": "code",
   "source": [
    "retriever = vector_store.as_retriever()\n",
    "\n",
    "retriever.search_kwargs={\n",
    "    \"k\": 100,\n",
    "    \"filter\": Filter(\n",
    "        must=[FieldCondition(key=\"metadata.Team\", match=MatchValue(value=\"Rockies\"))],\n",
    "    )\n",
    "}\n",
    "\n",
    "# retriever2 = retriever.bind(search_kwargs={\"k\":1})\n",
    "# print(retriever2.search_kwargs)\n",
    "\n",
    "\n",
    "res = retriever.invoke(\"\")\n",
    "print(len(res), res, sep=\"\\n\")"
   ],
   "id": "60d44afddac588d1",
   "outputs": [
    {
     "name": "stdout",
     "output_type": "stream",
     "text": [
      "1\n",
      "[Document(metadata={'Payroll (millions)': '       78.06', 'Team': 'Rockies', 'Wins': ' 64', 'row': 27, 'source': 'Rockies', '_id': '033cea96-fd1e-4175-8bc6-00e3c82a9a04', '_collection_name': 'mlb_teams_2012'}, page_content='Team: Rockies\\nPayroll (millions): 78.06\\nWins: 64')]\n"
     ]
    }
   ],
   "execution_count": 53
  }
 ],
 "metadata": {
  "kernelspec": {
   "display_name": "Python 3",
   "language": "python",
   "name": "python3"
  },
  "language_info": {
   "codemirror_mode": {
    "name": "ipython",
    "version": 2
   },
   "file_extension": ".py",
   "mimetype": "text/x-python",
   "name": "python",
   "nbconvert_exporter": "python",
   "pygments_lexer": "ipython2",
   "version": "2.7.6"
  }
 },
 "nbformat": 4,
 "nbformat_minor": 5
}
