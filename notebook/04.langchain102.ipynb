{
 "cells": [
  {
   "metadata": {},
   "cell_type": "markdown",
   "source": [
    "# ModelIO\n",
    "\n",
    "- Format: PromptTemplate\n",
    "- Predict: ChatModel/LLM\n",
    "- Parse: OutputParser"
   ],
   "id": "dbfa086c54461ff4"
  },
  {
   "metadata": {},
   "cell_type": "markdown",
   "source": [
    "## Quick Start\n",
    "\n",
    "核心是，三个抽象通过 `｜` 连成一个链，如：\n",
    "```\n",
    "chain = prompt | llm | parser\n",
    "res = chain.invoke()\n",
    "```\n",
    "\n",
    "通过 `invoke()` 方法调用 chain 时，前一步的输出会成为后面的输入，res 的结果，为最后一步的输出。"
   ],
   "id": "749f246bf0d89b0d"
  },
  {
   "metadata": {
    "ExecuteTime": {
     "end_time": "2024-12-11T02:54:59.121448Z",
     "start_time": "2024-12-11T02:54:44.831106Z"
    }
   },
   "cell_type": "code",
   "source": [
    "from langchain_core.prompts import PromptTemplate\n",
    "from langchain_core.output_parsers import StrOutputParser\n",
    "from langchain_openai import ChatOpenAI\n",
    "\n",
    "template = \"拳击术语解释：{name}\"\n",
    "prompt = PromptTemplate.from_template(template)\n",
    "\n",
    "llm = ChatOpenAI(model_name=\"openai/gpt-4o-mini\")\n",
    "\n",
    "\n",
    "chain = prompt | llm\n",
    "# res = chain.invoke({\"name\": \"左勾拳\"})\n",
    "res = chain.invoke(input={\"name\": \"左勾拳\"})\n",
    "# 返回结果为 `llm.invoke()` 的结果，即AIMessage\n",
    "print(res.content, \"\\n\", type(res), \"\\n\\n\")\n",
    "\n",
    "parser = StrOutputParser()\n",
    "# 完整的 chain 由 prompt, llm, parser 三部分构成，通过管道符 | 连接\n",
    "# 返回结果为 parser 的结果，如下，StrOutputParser返回字符串\n",
    "chain = prompt | llm | parser\n",
    "res = chain.invoke({\"name\": \"上勾拳\"})\n",
    "print(res, \"\\n\", type(res))\n"
   ],
   "id": "cab3af4f509b863",
   "outputs": [
    {
     "name": "stdout",
     "output_type": "stream",
     "text": [
      "左勾拳（Left Hook）是拳击中的一种基本攻击技法，主要由左手发出。它通常是在对手距离较近时使用，旨在攻击对手的头部或身体侧面。左勾拳的特点是：\n",
      "\n",
      "1. **发力方式**：左勾拳的力量主要来源于肩部的旋转和腰部的转动，而不仅仅是手臂的力量。通过身体的整体协调，可以产生更强的打击力度。\n",
      "\n",
      "2. **攻击角度**：左勾拳通常是以弯曲的手臂从侧面发出，拳头的轨迹呈弧形，目的是从侧面打击对手，避开对方的防守。\n",
      "\n",
      "3. **使用时机**：左勾拳常用于对手出拳后或在较短距离内进行反击，尤其是在对手的头部或侧面暴露时。\n",
      "\n",
      "4. **防御与反击**：施展左勾拳时，拳手的另一只手要保持在防守位置，以保护自己免受对手反击。\n",
      "\n",
      "左勾拳是拳击手需要掌握的重要技术之一，能够有效地增加攻击的多样性和威胁性。 \n",
      " <class 'langchain_core.messages.ai.AIMessage'> \n",
      "\n",
      "\n",
      "上勾拳（Uppercut）是一种拳击技术，主要用于近距离攻击对手的下巴或面部。它的特点是拳头从下向上挥出，通常是由膝盖和臀部的力量驱动，伴随着身体的旋转和重心的转移。\n",
      "\n",
      "上勾拳的主要用途包括：\n",
      "\n",
      "1. **打击对手的下巴**：上勾拳可以有效地打击对手的下巴，使其失去平衡或造成明显的伤害。\n",
      "2. **反击**：在对手靠近时，上勾拳可以作为有效的反击手段，特别是在对手进行直拳或侧击时。\n",
      "3. **突破防守**：如果对手的手臂过于高或封堵了侧面，上勾拳可以穿过对手的防守。\n",
      "\n",
      "施展上勾拳时，拳击手需要注意保持稳定的姿势，以确保力量的有效传递，同时避免暴露自己。上勾拳是一项需要技巧和时机的技术，通常与其他拳击组合技配合使用。 \n",
      " <class 'str'>\n"
     ]
    }
   ],
   "execution_count": 12
  },
  {
   "metadata": {},
   "cell_type": "markdown",
   "source": "### PromptTemplate",
   "id": "3b5a9d764b542692"
  },
  {
   "metadata": {
    "ExecuteTime": {
     "end_time": "2024-12-11T02:42:04.357398Z",
     "start_time": "2024-12-11T02:42:04.353794Z"
    }
   },
   "cell_type": "code",
   "source": [
    "from langchain_core.prompts import PromptTemplate\n",
    "\n",
    "template = \"拳击术语解释：{name}\"\n",
    "prompt = PromptTemplate.from_template(template)\n",
    "res =prompt.format(name=\"左勾拳\")\n",
    "print(res, \"\\n\", type(res), \"\\n\\n\")\n",
    "\n",
    "res = prompt.invoke({\"name\": \"左勾拳\"})\n",
    "print(res, \"\\n\", type(res), \"\\n\\n\")\n",
    "print(res.to_messages(), \"\\n\", type(res.to_messages()))"
   ],
   "id": "47751939793b68a9",
   "outputs": [
    {
     "name": "stdout",
     "output_type": "stream",
     "text": [
      "拳击术语解释：左勾拳 \n",
      " <class 'str'> \n",
      "\n",
      "\n",
      "text='拳击术语解释：左勾拳' \n",
      " <class 'langchain_core.prompt_values.StringPromptValue'> \n",
      "\n",
      "\n",
      "[HumanMessage(content='拳击术语解释：左勾拳', additional_kwargs={}, response_metadata={})] \n",
      " <class 'list'>\n"
     ]
    }
   ],
   "execution_count": 6
  },
  {
   "metadata": {
    "ExecuteTime": {
     "end_time": "2024-12-11T03:18:08.862078Z",
     "start_time": "2024-12-11T03:18:08.858923Z"
    }
   },
   "cell_type": "code",
   "source": [
    "from langchain_core.prompts import PromptTemplate\n",
    "template = \"\"\"您是一位专业的鲜花店文案撰写员。\n",
    "对于售价为 {price} 元的 {flower_name} ，您能提供一个吸引人的简短描述吗？\n",
    "\"\"\"\n",
    "\n",
    "prompt = PromptTemplate(\n",
    "    input_variables=[\"price\", \"flower_name\"],\n",
    "    template=template\n",
    ")\n",
    "print(prompt)\n",
    "\n",
    "prompt = PromptTemplate.from_template(template)\n",
    "print(prompt)"
   ],
   "id": "fa6471272ba4db65",
   "outputs": [
    {
     "name": "stdout",
     "output_type": "stream",
     "text": [
      "input_variables=['flower_name', 'price'] input_types={} partial_variables={} template='您是一位专业的鲜花店文案撰写员。\\n对于售价为 {price} 元的 {flower_name} ，您能提供一个吸引人的简短描述吗？\\n'\n",
      "input_variables=['flower_name', 'price'] input_types={} partial_variables={} template='您是一位专业的鲜花店文案撰写员。\\n对于售价为 {price} 元的 {flower_name} ，您能提供一个吸引人的简短描述吗？\\n'\n"
     ]
    }
   ],
   "execution_count": 18
  },
  {
   "metadata": {},
   "cell_type": "code",
   "outputs": [],
   "execution_count": null,
   "source": "## ChatModel/LLM",
   "id": "1114c551d5cbab24"
  },
  {
   "metadata": {},
   "cell_type": "code",
   "outputs": [],
   "execution_count": null,
   "source": "",
   "id": "d2ee209c62091a3e"
  },
  {
   "metadata": {},
   "cell_type": "code",
   "outputs": [],
   "execution_count": null,
   "source": "## OutputParser",
   "id": "571c0876d91fe5cf"
  }
 ],
 "metadata": {
  "kernelspec": {
   "display_name": "Python 3",
   "language": "python",
   "name": "python3"
  },
  "language_info": {
   "codemirror_mode": {
    "name": "ipython",
    "version": 2
   },
   "file_extension": ".py",
   "mimetype": "text/x-python",
   "name": "python",
   "nbconvert_exporter": "python",
   "pygments_lexer": "ipython2",
   "version": "2.7.6"
  }
 },
 "nbformat": 4,
 "nbformat_minor": 5
}
