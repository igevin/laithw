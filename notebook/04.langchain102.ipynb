{
 "cells": [
  {
   "metadata": {},
   "cell_type": "markdown",
   "source": [
    "# ModelIO\n",
    "\n",
    "- Format: PromptTemplate\n",
    "- Predict: ChatModel/LLM\n",
    "- Parse: OutputParser"
   ],
   "id": "dbfa086c54461ff4"
  },
  {
   "metadata": {},
   "cell_type": "markdown",
   "source": [
    "## Quick Start\n",
    "\n",
    "核心是，三个抽象通过 `｜` 连成一个链，如：\n",
    "```\n",
    "chain = prompt | llm | parser\n",
    "res = chain.invoke()\n",
    "```\n",
    "\n",
    "通过 `invoke()` 方法调用 chain 时，前一步的输出会成为后面的输入，res 的结果，为最后一步的输出。"
   ],
   "id": "749f246bf0d89b0d"
  },
  {
   "metadata": {
    "ExecuteTime": {
     "end_time": "2024-12-11T02:54:59.121448Z",
     "start_time": "2024-12-11T02:54:44.831106Z"
    }
   },
   "cell_type": "code",
   "source": [
    "from langchain_core.prompts import PromptTemplate\n",
    "from langchain_core.output_parsers import StrOutputParser\n",
    "from langchain_openai import ChatOpenAI\n",
    "\n",
    "template = \"拳击术语解释：{name}\"\n",
    "prompt = PromptTemplate.from_template(template)\n",
    "\n",
    "llm = ChatOpenAI(model_name=\"openai/gpt-4o-mini\")\n",
    "\n",
    "chain = prompt | llm\n",
    "# res = chain.invoke({\"name\": \"左勾拳\"})\n",
    "res = chain.invoke(input={\"name\": \"左勾拳\"})\n",
    "# 返回结果为 `llm.invoke()` 的结果，即AIMessage\n",
    "print(res.content, \"\\n\", type(res), \"\\n\\n\")\n",
    "\n",
    "parser = StrOutputParser()\n",
    "# 完整的 chain 由 prompt, llm, parser 三部分构成，通过管道符 | 连接\n",
    "# 返回结果为 parser 的结果，如下，StrOutputParser返回字符串\n",
    "chain = prompt | llm | parser\n",
    "res = chain.invoke({\"name\": \"上勾拳\"})\n",
    "print(res, \"\\n\", type(res))\n"
   ],
   "id": "cab3af4f509b863",
   "outputs": [
    {
     "name": "stdout",
     "output_type": "stream",
     "text": [
      "左勾拳（Left Hook）是拳击中的一种基本攻击技法，主要由左手发出。它通常是在对手距离较近时使用，旨在攻击对手的头部或身体侧面。左勾拳的特点是：\n",
      "\n",
      "1. **发力方式**：左勾拳的力量主要来源于肩部的旋转和腰部的转动，而不仅仅是手臂的力量。通过身体的整体协调，可以产生更强的打击力度。\n",
      "\n",
      "2. **攻击角度**：左勾拳通常是以弯曲的手臂从侧面发出，拳头的轨迹呈弧形，目的是从侧面打击对手，避开对方的防守。\n",
      "\n",
      "3. **使用时机**：左勾拳常用于对手出拳后或在较短距离内进行反击，尤其是在对手的头部或侧面暴露时。\n",
      "\n",
      "4. **防御与反击**：施展左勾拳时，拳手的另一只手要保持在防守位置，以保护自己免受对手反击。\n",
      "\n",
      "左勾拳是拳击手需要掌握的重要技术之一，能够有效地增加攻击的多样性和威胁性。 \n",
      " <class 'langchain_core.messages.ai.AIMessage'> \n",
      "\n",
      "\n",
      "上勾拳（Uppercut）是一种拳击技术，主要用于近距离攻击对手的下巴或面部。它的特点是拳头从下向上挥出，通常是由膝盖和臀部的力量驱动，伴随着身体的旋转和重心的转移。\n",
      "\n",
      "上勾拳的主要用途包括：\n",
      "\n",
      "1. **打击对手的下巴**：上勾拳可以有效地打击对手的下巴，使其失去平衡或造成明显的伤害。\n",
      "2. **反击**：在对手靠近时，上勾拳可以作为有效的反击手段，特别是在对手进行直拳或侧击时。\n",
      "3. **突破防守**：如果对手的手臂过于高或封堵了侧面，上勾拳可以穿过对手的防守。\n",
      "\n",
      "施展上勾拳时，拳击手需要注意保持稳定的姿势，以确保力量的有效传递，同时避免暴露自己。上勾拳是一项需要技巧和时机的技术，通常与其他拳击组合技配合使用。 \n",
      " <class 'str'>\n"
     ]
    }
   ],
   "execution_count": 12
  },
  {
   "metadata": {},
   "cell_type": "markdown",
   "source": "### PromptTemplate",
   "id": "3b5a9d764b542692"
  },
  {
   "metadata": {
    "ExecuteTime": {
     "end_time": "2024-12-11T02:42:04.357398Z",
     "start_time": "2024-12-11T02:42:04.353794Z"
    }
   },
   "cell_type": "code",
   "source": [
    "from langchain_core.prompts import PromptTemplate\n",
    "\n",
    "template = \"拳击术语解释：{name}\"\n",
    "prompt = PromptTemplate.from_template(template)\n",
    "\n",
    "# 输出生成的文本\n",
    "res = prompt.format(name=\"左勾拳\")\n",
    "print(res, \"\\n\", type(res), \"\\n\\n\")\n",
    "\n",
    "# 输出PromptValue 对象\n",
    "res = prompt.invoke({\"name\": \"左勾拳\"})\n",
    "print(res, \"\\n\", type(res), \"\\n\\n\")\n",
    "print(res.to_messages(), \"\\n\", type(res.to_messages()))"
   ],
   "id": "47751939793b68a9",
   "outputs": [
    {
     "name": "stdout",
     "output_type": "stream",
     "text": [
      "拳击术语解释：左勾拳 \n",
      " <class 'str'> \n",
      "\n",
      "\n",
      "text='拳击术语解释：左勾拳' \n",
      " <class 'langchain_core.prompt_values.StringPromptValue'> \n",
      "\n",
      "\n",
      "[HumanMessage(content='拳击术语解释：左勾拳', additional_kwargs={}, response_metadata={})] \n",
      " <class 'list'>\n"
     ]
    }
   ],
   "execution_count": 6
  },
  {
   "metadata": {
    "ExecuteTime": {
     "end_time": "2024-12-11T03:18:08.862078Z",
     "start_time": "2024-12-11T03:18:08.858923Z"
    }
   },
   "cell_type": "code",
   "source": [
    "from langchain_core.prompts import PromptTemplate\n",
    "\n",
    "template = \"\"\"您是一位专业的鲜花店文案撰写员。\n",
    "对于售价为 {price} 元的 {flower_name} ，您能提供一个吸引人的简短描述吗？\n",
    "\"\"\"\n",
    "\n",
    "prompt = PromptTemplate(\n",
    "    input_variables=[\"price\", \"flower_name\"],\n",
    "    template=template\n",
    ")\n",
    "print(prompt)\n",
    "\n",
    "prompt = PromptTemplate.from_template(template)\n",
    "print(prompt)"
   ],
   "id": "fa6471272ba4db65",
   "outputs": [
    {
     "name": "stdout",
     "output_type": "stream",
     "text": [
      "input_variables=['flower_name', 'price'] input_types={} partial_variables={} template='您是一位专业的鲜花店文案撰写员。\\n对于售价为 {price} 元的 {flower_name} ，您能提供一个吸引人的简短描述吗？\\n'\n",
      "input_variables=['flower_name', 'price'] input_types={} partial_variables={} template='您是一位专业的鲜花店文案撰写员。\\n对于售价为 {price} 元的 {flower_name} ，您能提供一个吸引人的简短描述吗？\\n'\n"
     ]
    }
   ],
   "execution_count": 18
  },
  {
   "metadata": {
    "ExecuteTime": {
     "end_time": "2024-12-11T06:30:48.626721Z",
     "start_time": "2024-12-11T06:30:48.620366Z"
    }
   },
   "cell_type": "code",
   "source": [
    "from langchain_core.prompts import ChatPromptTemplate\n",
    "\n",
    "template = ChatPromptTemplate([\n",
    "    (\"system\", \"You are a helpful AI bot. Your name is {name}.\"),\n",
    "    (\"human\", \"Hello, how are you doing?\"),\n",
    "    (\"ai\", \"I'm doing well, thanks!\"),\n",
    "    (\"human\", \"{user_input}\"),\n",
    "])\n",
    "\n",
    "prompt = template.invoke(\n",
    "    {\n",
    "        \"name\": \"Bob\",\n",
    "        \"user_input\": \"What is your name?\"\n",
    "    }\n",
    ")\n",
    "\n",
    "print(prompt, \"\\n\", prompt.to_messages(), \"\\n\", type(prompt), \"\\n\\n\")\n",
    "\n",
    "template = ChatPromptTemplate([\n",
    "    (\"system\", \"You are a helpful AI bot.\"),\n",
    "    # Means the template will receive an optional list of messages under\n",
    "    # the \"conversation\" key\n",
    "    (\"placeholder\", \"{conversation}\")\n",
    "    # Equivalently:\n",
    "    # MessagesPlaceholder(variable_name=\"conversation\", optional=True)\n",
    "])\n",
    "\n",
    "prompt = template.invoke(\n",
    "    {\n",
    "        \"conversation\": [\n",
    "            (\"human\", \"Hi!\"),\n",
    "            (\"ai\", \"How can I assist you today?\"),\n",
    "            (\"human\", \"Can you make me an ice cream sundae?\"),\n",
    "            (\"ai\", \"No.\")\n",
    "        ]\n",
    "    }\n",
    ")\n",
    "\n",
    "print(prompt, \"\\n\", prompt.to_messages(), \"\\n\", type(prompt))\n"
   ],
   "id": "ab4df2e5f786554b",
   "outputs": [
    {
     "name": "stdout",
     "output_type": "stream",
     "text": [
      "messages=[SystemMessage(content='You are a helpful AI bot. Your name is Bob.', additional_kwargs={}, response_metadata={}), HumanMessage(content='Hello, how are you doing?', additional_kwargs={}, response_metadata={}), AIMessage(content=\"I'm doing well, thanks!\", additional_kwargs={}, response_metadata={}), HumanMessage(content='What is your name?', additional_kwargs={}, response_metadata={})] \n",
      " [SystemMessage(content='You are a helpful AI bot. Your name is Bob.', additional_kwargs={}, response_metadata={}), HumanMessage(content='Hello, how are you doing?', additional_kwargs={}, response_metadata={}), AIMessage(content=\"I'm doing well, thanks!\", additional_kwargs={}, response_metadata={}), HumanMessage(content='What is your name?', additional_kwargs={}, response_metadata={})] \n",
      " <class 'langchain_core.prompt_values.ChatPromptValue'> \n",
      "\n",
      "\n",
      "messages=[SystemMessage(content='You are a helpful AI bot.', additional_kwargs={}, response_metadata={}), HumanMessage(content='Hi!', additional_kwargs={}, response_metadata={}), AIMessage(content='How can I assist you today?', additional_kwargs={}, response_metadata={}), HumanMessage(content='Can you make me an ice cream sundae?', additional_kwargs={}, response_metadata={}), AIMessage(content='No.', additional_kwargs={}, response_metadata={})] \n",
      " [SystemMessage(content='You are a helpful AI bot.', additional_kwargs={}, response_metadata={}), HumanMessage(content='Hi!', additional_kwargs={}, response_metadata={}), AIMessage(content='How can I assist you today?', additional_kwargs={}, response_metadata={}), HumanMessage(content='Can you make me an ice cream sundae?', additional_kwargs={}, response_metadata={}), AIMessage(content='No.', additional_kwargs={}, response_metadata={})] \n",
      " <class 'langchain_core.prompt_values.ChatPromptValue'>\n"
     ]
    }
   ],
   "execution_count": 23
  },
  {
   "metadata": {
    "ExecuteTime": {
     "end_time": "2024-12-11T06:45:25.486078Z",
     "start_time": "2024-12-11T06:45:25.480102Z"
    }
   },
   "cell_type": "code",
   "source": [
    "from langchain_core.prompts import ChatPromptTemplate\n",
    "\n",
    "messages = [\n",
    "    (\"system\", \"You are a helpful AI bot. Your name is {name}.\"),\n",
    "    (\"human\", \"Hello, how are you doing?\"),\n",
    "    (\"ai\", \"I'm doing well, thanks!\"),\n",
    "    (\"human\", \"{user_input}\")\n",
    "]\n",
    "\n",
    "template = ChatPromptTemplate.from_messages(messages)\n",
    "prompt = template.invoke({\"name\": \"Bob\", \"user_input\": \"What is your name?\"})\n",
    "print(prompt.to_messages(), \"\\n\", type(prompt), \"\\n\\n\")\n",
    "\n",
    "messages = [\n",
    "    (\"system\", \"You are a helpful AI bot.\"),\n",
    "    (\"human\", \"Hello, how are you doing?\"),\n",
    "    (\"ai\", \"I'm doing well, thanks!\"),\n",
    "    (\"human\", \"What's your name?\")\n",
    "]\n",
    "\n",
    "template = ChatPromptTemplate.from_messages(messages)\n",
    "prompt = template.invoke({})\n",
    "print(prompt.to_messages(), \"\\n\", type(prompt), \"\\n\\n\")\n",
    "\n"
   ],
   "id": "a4163388a6c52c55",
   "outputs": [
    {
     "name": "stdout",
     "output_type": "stream",
     "text": [
      "[SystemMessage(content='You are a helpful AI bot. Your name is Bob.', additional_kwargs={}, response_metadata={}), HumanMessage(content='Hello, how are you doing?', additional_kwargs={}, response_metadata={}), AIMessage(content=\"I'm doing well, thanks!\", additional_kwargs={}, response_metadata={}), HumanMessage(content='What is your name?', additional_kwargs={}, response_metadata={})] \n",
      " <class 'langchain_core.prompt_values.ChatPromptValue'> \n",
      "\n",
      "\n",
      "[SystemMessage(content='You are a helpful AI bot.', additional_kwargs={}, response_metadata={}), HumanMessage(content='Hello, how are you doing?', additional_kwargs={}, response_metadata={}), AIMessage(content=\"I'm doing well, thanks!\", additional_kwargs={}, response_metadata={}), HumanMessage(content=\"What's your name?\", additional_kwargs={}, response_metadata={})] \n",
      " <class 'langchain_core.prompt_values.ChatPromptValue'> \n",
      "\n",
      "\n"
     ]
    }
   ],
   "execution_count": 31
  },
  {
   "metadata": {
    "ExecuteTime": {
     "end_time": "2024-12-11T06:58:14.317001Z",
     "start_time": "2024-12-11T06:58:14.312440Z"
    }
   },
   "cell_type": "code",
   "source": [
    "from langchain_core.prompts import ChatPromptTemplate\n",
    "from langchain_core.messages import HumanMessage, SystemMessage\n",
    "\n",
    "prompt_template = ChatPromptTemplate.from_messages(\n",
    "    [\n",
    "        (\"system\", \"你是一个优秀的翻译专家，非常擅长把中文翻译为{language}\"),\n",
    "       (\"user\", \"{text}\")\n",
    "    ]\n",
    ")\n",
    "prompt = prompt_template.invoke({\"language\": \"英文\", \"text\": \"欢迎使用 Langchain 进行大模型开发\"})\n",
    "print(prompt.to_messages(), \"\\n\", type(prompt), \"\\n\")\n",
    "print(prompt_template.format(language=\"英文\", text=\"欢迎使用 Langchain 进行大模型开发\"), \"\\n\\n\")\n",
    "\n",
    "\n",
    "prompt_template = ChatPromptTemplate.from_messages(\n",
    "    [\n",
    "        SystemMessage(content=\"你是一个优秀的翻译专家，非常擅长把中文翻译为英文\"),\n",
    "        (\"user\", \"{text}\")\n",
    "    ]\n",
    ")\n",
    "prompt = prompt_template.invoke({\"text\": \"欢迎使用 Langchain 进行大模型开发\"})\n",
    "print(prompt.to_messages(), \"\\n\", type(prompt), \"\\n\")\n",
    "print(prompt_template.format(text=\"欢迎使用 Langchain 进行大模型开发\"))"
   ],
   "id": "7cc3568d208eb9f6",
   "outputs": [
    {
     "name": "stdout",
     "output_type": "stream",
     "text": [
      "[SystemMessage(content='你是一个优秀的翻译专家，非常擅长把中文翻译为英文', additional_kwargs={}, response_metadata={}), HumanMessage(content='欢迎使用 Langchain 进行大模型开发', additional_kwargs={}, response_metadata={})] \n",
      " <class 'langchain_core.prompt_values.ChatPromptValue'> \n",
      "\n",
      "System: 你是一个优秀的翻译专家，非常擅长把中文翻译为英文\n",
      "Human: 欢迎使用 Langchain 进行大模型开发 \n",
      "\n",
      "\n",
      "[SystemMessage(content='你是一个优秀的翻译专家，非常擅长把中文翻译为英文', additional_kwargs={}, response_metadata={}), HumanMessage(content='欢迎使用 Langchain 进行大模型开发', additional_kwargs={}, response_metadata={})] \n",
      " <class 'langchain_core.prompt_values.ChatPromptValue'> \n",
      "\n",
      "System: 你是一个优秀的翻译专家，非常擅长把中文翻译为英文\n",
      "Human: 欢迎使用 Langchain 进行大模型开发\n"
     ]
    }
   ],
   "execution_count": 42
  },
  {
   "metadata": {},
   "cell_type": "markdown",
   "source": "## ChatModel/LLM",
   "id": "f76f6b13f88fcb8e"
  },
  {
   "metadata": {
    "ExecuteTime": {
     "end_time": "2024-12-11T07:37:16.936156Z",
     "start_time": "2024-12-11T07:37:05.324971Z"
    }
   },
   "cell_type": "code",
   "source": [
    "from langchain_core.prompts import PromptTemplate\n",
    "from langchain_openai import ChatOpenAI\n",
    "\n",
    "template = \"拳击术语解释：{name}\"\n",
    "prompt = PromptTemplate.from_template(template)\n",
    "\n",
    "# 生成文本消息\n",
    "msg = prompt.format(name=\"交叉拳\")\n",
    "# 创建 PromptValue 对象\n",
    "prompt_value = prompt.invoke({\"name\": \"直拳\"})\n",
    "\n",
    "chat = ChatOpenAI(model_name=\"openai/gpt-4o-mini\")\n",
    "\n",
    "# 文本消息方式调用\n",
    "res = chat.invoke(msg)\n",
    "print(res.content)\n",
    "\n",
    "# prompt value 方式调用\n",
    "res = chat.invoke(prompt_value)\n",
    "print(res.content)\n",
    "\n",
    "# 链式调用\n",
    "chain = prompt | chat\n",
    "res = chain.invoke({\"name\": \"刺拳\"})\n",
    "print(res.content)"
   ],
   "id": "d2ee209c62091a3e",
   "outputs": [
    {
     "name": "stdout",
     "output_type": "stream",
     "text": [
      "交叉拳（Cross）是拳击中的一种基本攻击技术，通常指的是使用主手（对于右手拳击手而言是右手，对于左手拳击手而言是左手）从一侧横向打向对手的拳头。交叉拳的特点是力量大、速度快，通常在对手出拳或防守时的空档中使用。\n",
      "\n",
      "交叉拳的发力方式一般是通过转动身体、肩膀和臀部来增加力量，同时配合脚步移动使得攻击更加灵活和具有威胁性。交叉拳的有效性在于它能够突破对方的防守，直接击中对手的面部或身体部位。\n",
      "\n",
      "在训练中，拳击手通常会练习交叉拳的发力、准确性以及与其他拳击技术的结合使用，以提高整体的攻击能力和战术水平。\n",
      "直拳是拳击中一种基本的击打方式，通常用前手（主手或非主手）直接向对手的面部或身体发出攻击。直拳的特点是打击轨迹笔直，速度快，力量集中。由于其出拳方式简单有效，直拳被广泛应用于拳击比赛和训练中。\n",
      "\n",
      "直拳的主要优点包括：\n",
      "\n",
      "1. **速度快**：由于出拳轨迹短，直拳可以迅速击中目标。\n",
      "2. **易于控制**：直拳的发力方式相对简单，拳手可以较好地控制出拳的力量和方向。\n",
      "3. **防守能力**：在出拳的同时，拳击手可以保持防守姿势，减少被反击的风险。\n",
      "\n",
      "直拳可以分为左直拳（通常是右手主拳手的前手）和右直拳（主拳手的后手），根据拳手的站位和主手的不同而有所区别。\n",
      "刺拳（Jab）是拳击中一种基础且重要的攻击技法。它通常是用前手（即左手对于右手拳击手，右手对于左手拳击手）快速、直线地向对手的面部或身体发出的拳头。刺拳的主要特点包括：\n",
      "\n",
      "1. **速度**：刺拳速度快，能够快速出击并撤回，给对手造成压力。\n",
      "2. **距离控制**：刺拳可以用来保持与对手的距离，帮助拳手评估对手的反应。\n",
      "3. **突破防守**：刺拳可以用来打破对手的防守，创造出进攻的机会。\n",
      "4. **组合进攻**：刺拳通常作为组合拳的开端，之后可以接上其他更有力的攻击。\n",
      "\n",
      "在比赛中，刺拳不仅用于进攻，还可以用来消耗对手的体力和寻找进攻的机会，是拳手必备的基本技能之一。\n"
     ]
    }
   ],
   "execution_count": 56
  },
  {
   "metadata": {
    "ExecuteTime": {
     "end_time": "2024-12-11T08:03:36.213505Z",
     "start_time": "2024-12-11T08:03:25.853427Z"
    }
   },
   "cell_type": "code",
   "source": [
    "from langchain_core.prompts import ChatPromptTemplate\n",
    "from langchain_openai import ChatOpenAI\n",
    "\n",
    "msgs = [\n",
    "    (\"system\", \"你是一个有氧拳击教练\"),\n",
    "    (\"human\", \"请帮我解释拳击术语，如果术语是英文，请顺便翻译：{name}\")\n",
    "]\n",
    "\n",
    "prompt = ChatPromptTemplate.from_messages(msgs)\n",
    "chat = ChatOpenAI(model_name=\"openai/gpt-4o-mini\")\n",
    "\n",
    "# print(prompt.format(name=\"duck\"))\n",
    "# print(prompt.format_messages(name=\"duck\"))\n",
    "\n",
    "res = chat.invoke(prompt.format_messages(name=\"duck\"))\n",
    "print(res.content, \"\\n\")\n",
    "\n",
    "res = chat.invoke(prompt.invoke({\"name\": \"Slip\"}))\n",
    "print(res.content, \"\\n\")\n",
    "\n",
    "chain = prompt | chat\n",
    "res = chain.invoke({\"name\": \"weave\"})\n",
    "print(res.content, \"\\n\")\n"
   ],
   "id": "bad65e492a3fd6f7",
   "outputs": [
    {
     "name": "stdout",
     "output_type": "stream",
     "text": [
      "在拳击中，“duck”指的是一种躲避对手攻击的技巧，具体来说就是将头部向下和向前移动，以避开即将来的拳头。这个动作通常是在对手出拳的瞬间进行，可以帮助拳击手避免被击中，同时也为反击提供机会。\n",
      "\n",
      "简而言之，“duck”就是“低头躲避”的意思。 \n",
      "\n",
      "“Slip”是拳击中的一个术语，中文翻译为“侧滑”。它指的是一种防守技巧，拳击手通过快速移动头部和身体来躲避对手的拳击，而不是直接用手臂挡住。通过侧滑，拳击手可以保持灵活性，并为反击创造机会。这种技巧需要良好的平衡和时机掌握，以避免被击中，同时保持攻击的准备状态。 \n",
      "\n",
      "“weave”在拳击中指的是一种躲避攻击的技巧，中文翻译为“摇摆”或“扭动”。这种技巧通常用于躲避对手的直拳或钩拳，通过身体的灵活移动来避免被击中。拳击手在进行“weave”时，会通过弯曲膝盖和扭动身体，向一侧或另一侧移动头部，从而使攻击者的拳头擦过他们的身体。这个技巧可以帮助拳击手保持防守的同时准备反击。 \n",
      "\n"
     ]
    }
   ],
   "execution_count": 64
  },
  {
   "metadata": {},
   "cell_type": "code",
   "outputs": [],
   "execution_count": null,
   "source": "## OutputParser",
   "id": "571c0876d91fe5cf"
  }
 ],
 "metadata": {
  "kernelspec": {
   "display_name": "Python 3",
   "language": "python",
   "name": "python3"
  },
  "language_info": {
   "codemirror_mode": {
    "name": "ipython",
    "version": 2
   },
   "file_extension": ".py",
   "mimetype": "text/x-python",
   "name": "python",
   "nbconvert_exporter": "python",
   "pygments_lexer": "ipython2",
   "version": "2.7.6"
  }
 },
 "nbformat": 4,
 "nbformat_minor": 5
}
