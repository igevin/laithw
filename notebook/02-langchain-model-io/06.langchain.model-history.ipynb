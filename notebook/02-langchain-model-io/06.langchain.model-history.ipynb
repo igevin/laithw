{
 "cells": [
  {
   "metadata": {},
   "cell_type": "markdown",
   "source": "# 1. 原始方法",
   "id": "391c58beaad1b490"
  },
  {
   "metadata": {
    "ExecuteTime": {
     "end_time": "2024-12-23T07:49:20.695159Z",
     "start_time": "2024-12-23T07:49:18.072871Z"
    }
   },
   "cell_type": "code",
   "source": [
    "from langchain_core.prompts import ChatPromptTemplate\n",
    "from langchain_openai import ChatOpenAI\n",
    "from langchain_core.output_parsers import StrOutputParser\n",
    "\n",
    "template = ChatPromptTemplate([\n",
    "    (\"system\", \"\"\"The following is a friendly conversation between a human and an AI. The AI is talkative and provides lots of specific details from its context. If the AI does not know the answer to a question, it truthfully says it does not know.\n",
    "\n",
    "Current conversation: \"\"\"),\n",
    "    (\"placeholder\", \"{history}\"),\n",
    "    (\"user\", \"{input}\"),\n",
    "    (\"ai\", \"\")\n",
    "])\n",
    "\n",
    "chat = ChatOpenAI(model_name=\"openai/gpt-4o-mini\")\n",
    "chain = template | chat | StrOutputParser()\n",
    "\n",
    "resp = chain.invoke({\n",
    "    \"history\": [\n",
    "        (\"human\", \"我周五晚上要去看电影\"),\n",
    "    ],\n",
    "    \"input\": \"我周五要去做什么\"\n",
    "})\n",
    "\n",
    "print(resp)\n"
   ],
   "id": "9cad851667da133d",
   "outputs": [
    {
     "name": "stdout",
     "output_type": "stream",
     "text": [
      "你提到你周五晚上要去看电影，所以可以推测你周五会去电影院享受一部电影！你已经决定看哪部电影了吗？或者你是跟朋友一起去吗？\n"
     ]
    }
   ],
   "execution_count": 4
  },
  {
   "metadata": {},
   "cell_type": "markdown",
   "source": [
    "# 通过 ConversationChain 实现\n",
    "\n",
    "**注：**\n",
    "\n",
    "**该方式是以前的调用方法，目前已经非废弃，只是为了保证 Langchain 的向下兼容，依然提供。**\n",
    "\n",
    "**现在推荐通过 `RunnableWithMessageHistory` 来实现**"
   ],
   "id": "4ffc87359ce2227f"
  },
  {
   "metadata": {
    "ExecuteTime": {
     "end_time": "2024-12-23T13:20:11.728768Z",
     "start_time": "2024-12-23T13:20:04.319604Z"
    }
   },
   "cell_type": "code",
   "source": [
    "# Deprecated\n",
    "from langchain.chains.conversation.base import ConversationChain\n",
    "from langchain_openai import ChatOpenAI\n",
    "\n",
    "llm = ChatOpenAI(model_name=\"openai/gpt-4o-mini\")\n",
    "conversation = ConversationChain(llm=llm)\n",
    "resp = conversation.invoke({\"input\": \"我周五晚上要去看电影\"})\n",
    "print(resp.get(\"response\"), \"\\n\\n\", conversation.memory, \"\\n\\n\\n\")\n",
    "resp = conversation.invoke({\"input\": \"我周五晚上要做什么？\"})\n",
    "print(resp.get(\"response\"), \"\\n\\n\", conversation.memory)\n",
    "\n"
   ],
   "id": "541c7b70cb5819ab",
   "outputs": [
    {
     "name": "stdout",
     "output_type": "stream",
     "text": [
      "那听起来很不错！你打算看哪部电影呢？最近有很多新片上映，比如《沙丘：第二部》和《黑豹：瓦坎达永存》。如果你喜欢科幻或者超级英雄电影，这些都是不错的选择！或者，你更喜欢其他类型的电影，比如喜剧或爱情片？ \n",
      "\n",
      " chat_memory=InMemoryChatMessageHistory(messages=[HumanMessage(content='我周五晚上要去看电影', additional_kwargs={}, response_metadata={}), AIMessage(content='那听起来很不错！你打算看哪部电影呢？最近有很多新片上映，比如《沙丘：第二部》和《黑豹：瓦坎达永存》。如果你喜欢科幻或者超级英雄电影，这些都是不错的选择！或者，你更喜欢其他类型的电影，比如喜剧或爱情片？', additional_kwargs={}, response_metadata={})]) \n",
      "\n",
      "\n",
      "\n",
      "你周五晚上计划去看电影，所以可以期待一个愉快的夜晚！看完电影后，你可能会想去吃点东西或者和朋友聊聊电影的情节和角色。你有没有想过看完电影后要去哪里？有些人喜欢去咖啡馆或餐厅放松一下。你有什么特别的计划吗？ \n",
      "\n",
      " chat_memory=InMemoryChatMessageHistory(messages=[HumanMessage(content='我周五晚上要去看电影', additional_kwargs={}, response_metadata={}), AIMessage(content='那听起来很不错！你打算看哪部电影呢？最近有很多新片上映，比如《沙丘：第二部》和《黑豹：瓦坎达永存》。如果你喜欢科幻或者超级英雄电影，这些都是不错的选择！或者，你更喜欢其他类型的电影，比如喜剧或爱情片？', additional_kwargs={}, response_metadata={}), HumanMessage(content='我周五晚上要做什么？', additional_kwargs={}, response_metadata={}), AIMessage(content='你周五晚上计划去看电影，所以可以期待一个愉快的夜晚！看完电影后，你可能会想去吃点东西或者和朋友聊聊电影的情节和角色。你有没有想过看完电影后要去哪里？有些人喜欢去咖啡馆或餐厅放松一下。你有什么特别的计划吗？', additional_kwargs={}, response_metadata={})])\n"
     ]
    }
   ],
   "execution_count": 15
  },
  {
   "metadata": {},
   "cell_type": "markdown",
   "source": "# 通过 `RunnableWithMessageHistory` 来实现",
   "id": "9f669902b6a82c07"
  },
  {
   "metadata": {
    "ExecuteTime": {
     "end_time": "2024-12-24T06:48:33.014493Z",
     "start_time": "2024-12-24T06:48:29.499160Z"
    }
   },
   "cell_type": "code",
   "source": [
    "from langchain_core.chat_history import BaseChatMessageHistory, InMemoryChatMessageHistory\n",
    "from langchain_core.runnables import RunnableWithMessageHistory\n",
    "from langchain_openai import ChatOpenAI\n",
    "\n",
    "chat_model = ChatOpenAI(model_name=\"openai/gpt-4o-mini\")\n",
    "\n",
    "store = {}\n",
    "\n",
    "\n",
    "def get_session_with_history(session_id: str) -> BaseChatMessageHistory:\n",
    "    return store.setdefault(session_id, InMemoryChatMessageHistory())\n",
    "\n",
    "\n",
    "chat_with_message_history = RunnableWithMessageHistory(chat_model,\n",
    "                                                       get_session_with_history)\n",
    "\n",
    "config = {\"configurable\": {\"session_id\": \"example1\"}}\n",
    "\n",
    "resp = chat_with_message_history.invoke(input=\"我周五晚上准备去看电影\", config=config)\n",
    "print(resp.content, \"\\n\")\n",
    "resp = chat_with_message_history.invoke(input=\"我之前说我周五晚上准备去干什么\", config=config)\n",
    "print(resp.content)"
   ],
   "id": "f8a60375098e59b7",
   "outputs": [
    {
     "name": "stdout",
     "output_type": "stream",
     "text": [
      "听起来很不错！你打算看什么电影呢？或者你已经有了想看的片子吗？ \n",
      "\n",
      "你提到过你准备去看电影。你有没有决定好要看的电影或者影院呢？\n"
     ]
    }
   ],
   "execution_count": 32
  },
  {
   "metadata": {},
   "cell_type": "markdown",
   "source": "# 配合 ChatPromptTemplate 使用",
   "id": "62e1ee49fef382f3"
  },
  {
   "metadata": {
    "ExecuteTime": {
     "end_time": "2024-12-25T12:52:33.448751Z",
     "start_time": "2024-12-25T12:52:28.067472Z"
    }
   },
   "cell_type": "code",
   "source": [
    "from langchain_core.chat_history import InMemoryChatMessageHistory\n",
    "from langchain_core.prompts import ChatPromptTemplate\n",
    "from langchain_core.runnables import RunnableWithMessageHistory\n",
    "from langchain_openai import ChatOpenAI\n",
    "\n",
    "prompt = ChatPromptTemplate.from_messages([\n",
    "    (\"system\", \"You are a helpful assistant. Answer all questions to the best of your ability.\",),\n",
    "    (\"placeholder\", \"{history}\"),\n",
    "    (\"human\", \"{user_input}\",)\n",
    "])\n",
    "\n",
    "chat_model = ChatOpenAI(model_name=\"openai/gpt-4o-mini\")\n",
    "\n",
    "store = {}\n",
    "\n",
    "chat_with_message_history = RunnableWithMessageHistory(\n",
    "    prompt | chat_model,\n",
    "    lambda session_id: store.setdefault(session_id, InMemoryChatMessageHistory()),\n",
    "    # input_messages_key=\"user_input\",\n",
    "    # history_messages_key=\"chat_history\",\n",
    ")\n",
    "config = {\"configurable\": {\"session_id\": \"example3\"}}\n",
    "resp = chat_with_message_history.invoke(input={\"user_input\": \"我周五晚上准备去看电影\"}, config=config)\n",
    "print(resp.content, \"\\n\")\n",
    "resp = chat_with_message_history.invoke(input={\"user_input\": \"我之前说我周五晚上准备去干什么\"}, config=config)\n",
    "print(resp.content)"
   ],
   "id": "5c79afe2ce411647",
   "outputs": [
    {
     "name": "stdout",
     "output_type": "stream",
     "text": [
      "听起来不错！你打算看哪部电影呢？ \n",
      "\n",
      "看起来你之前提到过你周五晚上计划去看电影。你决定好要看哪部电影了吗？\n"
     ]
    }
   ],
   "execution_count": 58
  },
  {
   "metadata": {
    "ExecuteTime": {
     "end_time": "2024-12-25T12:43:27.151968Z",
     "start_time": "2024-12-25T12:43:21.762642Z"
    }
   },
   "cell_type": "code",
   "source": [
    "from langchain_core.chat_history import InMemoryChatMessageHistory\n",
    "from langchain_core.prompts import ChatPromptTemplate\n",
    "from langchain_core.runnables import RunnableWithMessageHistory\n",
    "from langchain_core.messages import HumanMessage\n",
    "from langchain_openai import ChatOpenAI\n",
    "\n",
    "prompt = ChatPromptTemplate.from_messages([\n",
    "    (\"system\", \"You are a helpful assistant. Answer all questions to the best of your ability.\",),\n",
    "    (\"placeholder\", \"{messages1}\"),\n",
    "])\n",
    "\n",
    "chat_model = ChatOpenAI(model_name=\"openai/gpt-4o-mini\")\n",
    "\n",
    "store = {}\n",
    "\n",
    "chat_with_message_history = RunnableWithMessageHistory(\n",
    "    prompt | chat_model,\n",
    "    lambda session_id: store.setdefault(session_id, InMemoryChatMessageHistory()),\n",
    "    input_messages_key=\"messages1\", # ChatPromptTemplate 传入的是对话列表 list，这里需要声明 key\n",
    ")\n",
    "config = {\"configurable\": {\"session_id\": \"example3\"}}\n",
    "resp = chat_with_message_history.invoke(input={\"messages1\": [HumanMessage(content=\"我周五晚上准备去看电影\")]}, config=config)\n",
    "print(resp.content, \"\\n\")\n",
    "# resp = chat_with_message_history.invoke(input={\"messages\": [HumanMessage(content=\"我之前说我周五晚上准备去干什么\")]}, config=config)\n",
    "resp = chat_with_message_history.invoke(input={\"messages1\": [(\"user\", \"我之前说我周五晚上准备去干什么\")]}, config=config)\n",
    "print(resp.content)"
   ],
   "id": "728f4a856d8a6134",
   "outputs": [
    {
     "name": "stdout",
     "output_type": "stream",
     "text": [
      "听起来很不错！你打算看什么电影呢？有什么特别想看的类型吗？ \n",
      "\n",
      "你提到你准备去看电影。你已经决定好要看哪部电影了吗？或者你有什么想看的电影推荐吗？\n"
     ]
    }
   ],
   "execution_count": 51
  },
  {
   "metadata": {
    "ExecuteTime": {
     "end_time": "2024-12-25T12:48:08.620419Z",
     "start_time": "2024-12-25T12:48:04.227351Z"
    }
   },
   "cell_type": "code",
   "source": [
    "from langchain_core.chat_history import InMemoryChatMessageHistory\n",
    "from langchain_core.prompts import ChatPromptTemplate, MessagesPlaceholder\n",
    "from langchain_core.runnables import RunnableWithMessageHistory\n",
    "from langchain_core.messages import HumanMessage\n",
    "from langchain_openai import ChatOpenAI\n",
    "\n",
    "prompt = ChatPromptTemplate.from_messages([\n",
    "    (\"system\", \"You are a helpful assistant. Answer all questions to the best of your ability.\",),\n",
    "    MessagesPlaceholder(variable_name=\"messages2\"),\n",
    "])\n",
    "\n",
    "chat_model = ChatOpenAI(model_name=\"openai/gpt-4o-mini\")\n",
    "\n",
    "store = {}\n",
    "\n",
    "chat_with_message_history = RunnableWithMessageHistory(\n",
    "    prompt | chat_model,\n",
    "    lambda session_id: store.setdefault(session_id, InMemoryChatMessageHistory()),\n",
    "    # input_messages_key=\"messages2\", # Template 的这种写法，MessagesPlaceholder(variable_name=\"messages2\")，这里无需再声明\n",
    ")\n",
    "config = {\"configurable\": {\"session_id\": \"example3\"}}\n",
    "resp = chat_with_message_history.invoke(input={\"messages2\": [HumanMessage(content=\"我周五晚上准备去看电影\")]}, config=config)\n",
    "print(resp.content, \"\\n\")\n",
    "resp = chat_with_message_history.invoke(input={\"messages2\": [(\"user\", \"我之前说我周五晚上准备去干什么\")]}, config=config)\n",
    "print(resp.content)"
   ],
   "id": "fc6d53f806c0ee4d",
   "outputs": [
    {
     "name": "stdout",
     "output_type": "stream",
     "text": [
      "听起来不错！你已经选好要看的电影了吗？或者你有什么类型的电影特别感兴趣？ \n",
      "\n",
      "你之前提到你准备去看电影。如果你需要推荐电影或是讨论一下具体的计划，随时告诉我！\n"
     ]
    }
   ],
   "execution_count": 55
  },
  {
   "metadata": {
    "ExecuteTime": {
     "end_time": "2024-12-25T12:49:26.370654Z",
     "start_time": "2024-12-25T12:49:20.398065Z"
    }
   },
   "cell_type": "code",
   "source": [
    "from langchain_core.chat_history import InMemoryChatMessageHistory\n",
    "from langchain_core.prompts import ChatPromptTemplate, MessagesPlaceholder\n",
    "from langchain_core.runnables import RunnableWithMessageHistory\n",
    "from langchain_core.messages import HumanMessage\n",
    "from langchain_openai import ChatOpenAI\n",
    "\n",
    "prompt = ChatPromptTemplate.from_messages([\n",
    "    (\"system\", \"You are a helpful assistant. Answer all questions to the best of your ability.\",),\n",
    "    MessagesPlaceholder(variable_name=\"messages2\"),\n",
    "])\n",
    "\n",
    "chat_model = ChatOpenAI(model_name=\"openai/gpt-4o-mini\")\n",
    "\n",
    "store = {}\n",
    "\n",
    "chat_with_message_history = RunnableWithMessageHistory(\n",
    "    prompt | chat_model,\n",
    "    lambda session_id: store.setdefault(session_id, InMemoryChatMessageHistory()),\n",
    ")\n",
    "config = {\"configurable\": {\"session_id\": \"example3\"}}\n",
    "resp = chat_with_message_history.invoke(input={\"messages2\": HumanMessage(content=\"我周五晚上准备去看电影\")}, config=config)\n",
    "print(resp.content, \"\\n\")\n",
    "resp = chat_with_message_history.invoke(input={\"messages2\": (\"user\", \"我之前说我周五晚上准备去干什么\")}, config=config)\n",
    "print(resp.content)"
   ],
   "id": "483749bd5e4652a4",
   "outputs": [
    {
     "name": "stdout",
     "output_type": "stream",
     "text": [
      "那听起来很不错！你已经决定好要看哪部电影了吗？或者你在考虑哪种类型的电影？ \n",
      "\n",
      "你之前提到你周五晚上准备去看电影。你已经决定好要看哪部电影了吗？或者有想要一起去的人吗？\n"
     ]
    }
   ],
   "execution_count": 56
  },
  {
   "metadata": {
    "ExecuteTime": {
     "end_time": "2024-12-24T12:51:52.624191Z",
     "start_time": "2024-12-24T12:51:52.621130Z"
    }
   },
   "cell_type": "code",
   "source": [
    "history = store.get(\"example3\")\n",
    "# print(store)\n",
    "assert isinstance(history, InMemoryChatMessageHistory)\n",
    "# history.messages\n",
    "print(len(history.messages))\n",
    "print(history.messages)"
   ],
   "id": "52e314dcd4c8797",
   "outputs": [
    {
     "name": "stdout",
     "output_type": "stream",
     "text": [
      "4\n",
      "[HumanMessage(content='我周五晚上准备去看电影', additional_kwargs={}, response_metadata={}), AIMessage(content='那听起来很不错！你已经决定要看哪部电影了吗？或者你有什么类型的电影偏好吗？', additional_kwargs={'refusal': ''}, response_metadata={'token_usage': {'completion_tokens': 26, 'prompt_tokens': 35, 'total_tokens': 61, 'completion_tokens_details': None, 'prompt_tokens_details': None}, 'model_name': 'openai/gpt-4o-mini', 'system_fingerprint': 'fp_d02d531b47', 'finish_reason': 'stop', 'logprobs': None}, id='run-ac9dd930-44c0-42dc-98a3-e171bab6b23d-0', usage_metadata={'input_tokens': 35, 'output_tokens': 26, 'total_tokens': 61, 'input_token_details': {}, 'output_token_details': {}}), ('user', '我之前说我周五晚上准备去干什么'), AIMessage(content='是的，你提到你周五晚上准备去看电影。你对这部电影有什么期待吗，或者你已经选好想看的电影了吗？', additional_kwargs={'refusal': ''}, response_metadata={'token_usage': {'completion_tokens': 34, 'prompt_tokens': 79, 'total_tokens': 113, 'completion_tokens_details': None, 'prompt_tokens_details': None}, 'model_name': 'openai/gpt-4o-mini', 'system_fingerprint': 'fp_d02d531b47', 'finish_reason': 'stop', 'logprobs': None}, id='run-58bf3d31-d0e6-4b6e-961f-3337b6c37cc6-0', usage_metadata={'input_tokens': 79, 'output_tokens': 34, 'total_tokens': 113, 'input_token_details': {}, 'output_token_details': {}})]\n"
     ]
    }
   ],
   "execution_count": 24
  },
  {
   "metadata": {},
   "cell_type": "markdown",
   "source": [
    "# 控制历史记录的大小\n",
    "\n",
    "https://python.langchain.com/v0.2/docs/how_to/chatbots_memory/"
   ],
   "id": "bc980d2ca65b05fe"
  },
  {
   "metadata": {
    "ExecuteTime": {
     "end_time": "2024-12-25T11:57:54.711349Z",
     "start_time": "2024-12-25T11:57:49.336360Z"
    }
   },
   "cell_type": "code",
   "source": [
    "from langchain_core.chat_history import InMemoryChatMessageHistory\n",
    "from langchain_core.prompts import ChatPromptTemplate, MessagesPlaceholder\n",
    "from langchain_core.runnables import RunnableWithMessageHistory\n",
    "from langchain_core.messages import HumanMessage\n",
    "from langchain_openai import ChatOpenAI\n",
    "\n",
    "prompt = ChatPromptTemplate.from_messages([\n",
    "    (\"system\", \"You are a helpful assistant. Answer all questions to the best of your ability.\",),\n",
    "    MessagesPlaceholder(variable_name=\"messages\"),\n",
    "])\n",
    "\n",
    "chat_model = ChatOpenAI(model_name=\"openai/gpt-4o-mini\")\n",
    "\n",
    "history = InMemoryChatMessageHistory()\n",
    "\n",
    "chat_with_message_history = RunnableWithMessageHistory(\n",
    "    prompt | chat_model,\n",
    "    lambda session_id: history,\n",
    ")\n",
    "config = {\"configurable\": {\"session_id\": \"example3\"}}\n",
    "resp = chat_with_message_history.invoke(input={\"messages\": [HumanMessage(content=\"我周五晚上准备去看电影\")]}, config=config)\n",
    "print(resp.content, \"\\n\")\n",
    "resp = chat_with_message_history.invoke(input={\"messages\": [HumanMessage(content=\"我之前说我周五晚上准备去干什么\")]}, config=config)\n",
    "print(resp.content)"
   ],
   "id": "fc887d08e5903772",
   "outputs": [
    {
     "name": "stdout",
     "output_type": "stream",
     "text": [
      "那听起来很不错！你已经决定看哪部电影了吗？如果需要推荐，可以告诉我你喜欢的类型或者演员，我可以帮你推荐一些不错的选择。 \n",
      "\n",
      "你之前提到你周五晚上准备去看电影。如果你有其他的计划或者想聊聊电影的选择，随时告诉我！\n"
     ]
    }
   ],
   "execution_count": 6
  },
  {
   "metadata": {
    "ExecuteTime": {
     "end_time": "2024-12-25T11:58:04.723929Z",
     "start_time": "2024-12-25T11:58:04.721557Z"
    }
   },
   "cell_type": "code",
   "source": [
    "print(len(history.messages))\n",
    "for msg in history.messages:\n",
    "    print(msg.content)"
   ],
   "id": "cbcff02a98525590",
   "outputs": [
    {
     "name": "stdout",
     "output_type": "stream",
     "text": [
      "4\n",
      "我周五晚上准备去看电影\n",
      "那听起来很不错！你已经决定看哪部电影了吗？如果需要推荐，可以告诉我你喜欢的类型或者演员，我可以帮你推荐一些不错的选择。\n",
      "我之前说我周五晚上准备去干什么\n",
      "你之前提到你周五晚上准备去看电影。如果你有其他的计划或者想聊聊电影的选择，随时告诉我！\n"
     ]
    }
   ],
   "execution_count": 8
  },
  {
   "metadata": {
    "ExecuteTime": {
     "end_time": "2024-12-25T12:22:24.778363Z",
     "start_time": "2024-12-25T12:22:16.107071Z"
    }
   },
   "cell_type": "code",
   "source": [
    "from langchain_core.chat_history import InMemoryChatMessageHistory\n",
    "from langchain_core.prompts import ChatPromptTemplate, MessagesPlaceholder\n",
    "from langchain_core.runnables import RunnableWithMessageHistory\n",
    "from langchain_core.messages import HumanMessage, trim_messages\n",
    "from langchain_openai import ChatOpenAI\n",
    "\n",
    "prompt = ChatPromptTemplate.from_messages([\n",
    "    (\"system\", \"You are a helpful assistant. Answer all questions to the best of your ability.\",),\n",
    "    MessagesPlaceholder(variable_name=\"messages\"),\n",
    "])\n",
    "\n",
    "chat_model = ChatOpenAI(model_name=\"openai/gpt-4o-mini\")\n",
    "\n",
    "history = InMemoryChatMessageHistory()\n",
    "\n",
    "trimmer = trim_messages(max_tokens= 3, token_counter=len, strategy=\"first\")\n",
    "\n",
    "chat_with_message_history = RunnableWithMessageHistory(\n",
    "    trimmer | prompt | chat_model,\n",
    "    lambda session_id: history,\n",
    ")\n",
    "config = {\"configurable\": {\"session_id\": \"example3\"}}\n",
    "resp = chat_with_message_history.invoke(input={\"messages\": [HumanMessage(content=\"我周五晚上准备去看电影\")]}, config=config)\n",
    "print(resp.content, \"\\n\")\n",
    "resp = chat_with_message_history.invoke(input={\"messages\": [HumanMessage(content=\"我之前说我周五晚上准备去干什么？\")]}, config=config)\n",
    "print(resp.content)\n",
    "resp = chat_with_message_history.invoke(input={\"messages\": [HumanMessage(content=\"我之前说我周五晚上准备去干什么？\")]}, config=config)\n",
    "print(resp.content)\n",
    "resp = chat_with_message_history.invoke(input={\"messages\": [HumanMessage(content=\"我之前说我周五晚上准备去干什么？\")]}, config=config)\n",
    "print(resp.content)"
   ],
   "id": "34073bff6deb7c7b",
   "outputs": [
    {
     "name": "stdout",
     "output_type": "stream",
     "text": [
      "那听起来不错！你打算看哪部电影呢？或者你在找推荐吗？ \n",
      "\n",
      "你之前提到你准备去看电影。你已经选好电影了吗？\n",
      "你说你准备去看电影。你已经选好电影了吗？\n",
      "你之前提到你准备去看电影。如果你有特定的电影或者类型想要讨论，欢迎分享！\n"
     ]
    }
   ],
   "execution_count": 39
  },
  {
   "metadata": {
    "ExecuteTime": {
     "end_time": "2024-12-25T12:23:03.907813Z",
     "start_time": "2024-12-25T12:23:03.904997Z"
    }
   },
   "cell_type": "code",
   "source": [
    "print(len(history.messages))\n",
    "for msg in history.messages:\n",
    "    print(msg.content)"
   ],
   "id": "b7dad317c5188663",
   "outputs": [
    {
     "name": "stdout",
     "output_type": "stream",
     "text": [
      "8\n",
      "我周五晚上准备去看电影\n",
      "那听起来不错！你打算看哪部电影呢？或者你在找推荐吗？\n",
      "我之前说我周五晚上准备去干什么？\n",
      "你之前提到你准备去看电影。你已经选好电影了吗？\n",
      "我之前说我周五晚上准备去干什么？\n",
      "你说你准备去看电影。你已经选好电影了吗？\n",
      "我之前说我周五晚上准备去干什么？\n",
      "你之前提到你准备去看电影。如果你有特定的电影或者类型想要讨论，欢迎分享！\n"
     ]
    }
   ],
   "execution_count": 40
  },
  {
   "metadata": {},
   "cell_type": "markdown",
   "source": [
    "# Todo\n",
    "\n",
    "把基于内存的历史换成下面的：\n",
    "\n",
    "- FileChatMessageHistory\n",
    "- RedisChatMessageHistory\n",
    "\n",
    "```py\n",
    "from langchain_community.chat_message_histories import FileChatMessageHistory\n",
    "```\n",
    "\n",
    "如何有效管理 session\n",
    "\n"
   ],
   "id": "3fb6d8902e57da3c"
  }
 ],
 "metadata": {
  "kernelspec": {
   "display_name": "Python 3",
   "language": "python",
   "name": "python3"
  },
  "language_info": {
   "codemirror_mode": {
    "name": "ipython",
    "version": 2
   },
   "file_extension": ".py",
   "mimetype": "text/x-python",
   "name": "python",
   "nbconvert_exporter": "python",
   "pygments_lexer": "ipython2",
   "version": "2.7.6"
  }
 },
 "nbformat": 4,
 "nbformat_minor": 5
}
