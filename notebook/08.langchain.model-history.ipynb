{
 "cells": [
  {
   "metadata": {},
   "cell_type": "markdown",
   "source": "# 1. 原始方法",
   "id": "391c58beaad1b490"
  },
  {
   "metadata": {
    "ExecuteTime": {
     "end_time": "2024-12-23T07:49:20.695159Z",
     "start_time": "2024-12-23T07:49:18.072871Z"
    }
   },
   "cell_type": "code",
   "source": [
    "from langchain_core.prompts import ChatPromptTemplate\n",
    "from langchain_openai import ChatOpenAI\n",
    "from langchain_core.output_parsers import StrOutputParser\n",
    "\n",
    "\n",
    "template = ChatPromptTemplate([\n",
    "    (\"system\", \"\"\"The following is a friendly conversation between a human and an AI. The AI is talkative and provides lots of specific details from its context. If the AI does not know the answer to a question, it truthfully says it does not know.\n",
    "\n",
    "Current conversation: \"\"\"),\n",
    "    (\"placeholder\", \"{history}\"),\n",
    "    (\"user\", \"{input}\"),\n",
    "    (\"ai\", \"\")\n",
    "])\n",
    "\n",
    "\n",
    "chat = ChatOpenAI(model_name=\"openai/gpt-4o-mini\")\n",
    "chain = template | chat | StrOutputParser()\n",
    "\n",
    "resp = chain.invoke({\n",
    "    \"history\": [\n",
    "        (\"human\", \"我周五晚上要去看电影\"),\n",
    "    ],\n",
    "    \"input\": \"我周五要去做什么\"\n",
    "})\n",
    "\n",
    "print(resp)\n"
   ],
   "id": "9cad851667da133d",
   "outputs": [
    {
     "name": "stdout",
     "output_type": "stream",
     "text": [
      "你提到你周五晚上要去看电影，所以可以推测你周五会去电影院享受一部电影！你已经决定看哪部电影了吗？或者你是跟朋友一起去吗？\n"
     ]
    }
   ],
   "execution_count": 4
  },
  {
   "metadata": {
    "ExecuteTime": {
     "end_time": "2024-12-23T13:20:11.728768Z",
     "start_time": "2024-12-23T13:20:04.319604Z"
    }
   },
   "cell_type": "code",
   "source": [
    "# Deprecated\n",
    "from langchain.chains.conversation.base import ConversationChain\n",
    "from langchain_openai import ChatOpenAI\n",
    "\n",
    "llm = ChatOpenAI(model_name=\"openai/gpt-4o-mini\")\n",
    "conversation = ConversationChain(llm=llm)\n",
    "resp = conversation.invoke({\"input\":\"我周五晚上要去看电影\"})\n",
    "print(resp.get(\"response\"), \"\\n\\n\", conversation.memory, \"\\n\\n\\n\")\n",
    "resp = conversation.invoke({\"input\":\"我周五晚上要做什么？\"})\n",
    "print(resp.get(\"response\"), \"\\n\\n\", conversation.memory)\n",
    "\n"
   ],
   "id": "541c7b70cb5819ab",
   "outputs": [
    {
     "name": "stdout",
     "output_type": "stream",
     "text": [
      "那听起来很不错！你打算看哪部电影呢？最近有很多新片上映，比如《沙丘：第二部》和《黑豹：瓦坎达永存》。如果你喜欢科幻或者超级英雄电影，这些都是不错的选择！或者，你更喜欢其他类型的电影，比如喜剧或爱情片？ \n",
      "\n",
      " chat_memory=InMemoryChatMessageHistory(messages=[HumanMessage(content='我周五晚上要去看电影', additional_kwargs={}, response_metadata={}), AIMessage(content='那听起来很不错！你打算看哪部电影呢？最近有很多新片上映，比如《沙丘：第二部》和《黑豹：瓦坎达永存》。如果你喜欢科幻或者超级英雄电影，这些都是不错的选择！或者，你更喜欢其他类型的电影，比如喜剧或爱情片？', additional_kwargs={}, response_metadata={})]) \n",
      "\n",
      "\n",
      "\n",
      "你周五晚上计划去看电影，所以可以期待一个愉快的夜晚！看完电影后，你可能会想去吃点东西或者和朋友聊聊电影的情节和角色。你有没有想过看完电影后要去哪里？有些人喜欢去咖啡馆或餐厅放松一下。你有什么特别的计划吗？ \n",
      "\n",
      " chat_memory=InMemoryChatMessageHistory(messages=[HumanMessage(content='我周五晚上要去看电影', additional_kwargs={}, response_metadata={}), AIMessage(content='那听起来很不错！你打算看哪部电影呢？最近有很多新片上映，比如《沙丘：第二部》和《黑豹：瓦坎达永存》。如果你喜欢科幻或者超级英雄电影，这些都是不错的选择！或者，你更喜欢其他类型的电影，比如喜剧或爱情片？', additional_kwargs={}, response_metadata={}), HumanMessage(content='我周五晚上要做什么？', additional_kwargs={}, response_metadata={}), AIMessage(content='你周五晚上计划去看电影，所以可以期待一个愉快的夜晚！看完电影后，你可能会想去吃点东西或者和朋友聊聊电影的情节和角色。你有没有想过看完电影后要去哪里？有些人喜欢去咖啡馆或餐厅放松一下。你有什么特别的计划吗？', additional_kwargs={}, response_metadata={})])\n"
     ]
    }
   ],
   "execution_count": 15
  },
  {
   "metadata": {
    "ExecuteTime": {
     "end_time": "2024-12-23T15:36:41.903379Z",
     "start_time": "2024-12-23T15:36:36.335323Z"
    }
   },
   "cell_type": "code",
   "source": [
    "from langchain_core.chat_history import BaseChatMessageHistory, InMemoryChatMessageHistory\n",
    "from langchain_core.runnables import RunnableWithMessageHistory\n",
    "from langchain_openai import ChatOpenAI\n",
    "\n",
    "chat_model = ChatOpenAI(model_name=\"openai/gpt-4o-mini\")\n",
    "\n",
    "store = {}\n",
    "\n",
    "def get_session_with_history(session_id:str) -> BaseChatMessageHistory:\n",
    "    return store.setdefault(session_id, InMemoryChatMessageHistory())\n",
    "\n",
    "chat_with_message_history = RunnableWithMessageHistory(chat_model,\n",
    "                                                       get_session_with_history)\n",
    "\n",
    "config = {\"configurable\": {\"session_id\": \"example1\"}}\n",
    "\n",
    "resp = chat_with_message_history.invoke(input=\"我周五晚上准备去看电影\", config=config)\n",
    "print(resp.content, \"\\n\")\n",
    "resp = chat_with_message_history.invoke(input=\"我周五晚上准备去干什么\", config=config)\n",
    "print(resp.content)"
   ],
   "id": "f8a60375098e59b7",
   "outputs": [
    {
     "name": "stdout",
     "output_type": "stream",
     "text": [
      "听起来很不错！你打算看什么电影呢？也许可以和朋友一起去，或者选择一部你一直想看的影片。 \n",
      "\n",
      "除了看电影，你还有其他的计划吗？比如和朋友聚会、去吃饭、还是参加一些活动？如果需要建议或者想讨论计划，随时告诉我！\n"
     ]
    }
   ],
   "execution_count": 21
  },
  {
   "metadata": {
    "ExecuteTime": {
     "end_time": "2024-12-23T15:37:52.199040Z",
     "start_time": "2024-12-23T15:37:47.441813Z"
    }
   },
   "cell_type": "code",
   "source": [
    "from langchain_core.chat_history import BaseChatMessageHistory, InMemoryChatMessageHistory\n",
    "from langchain_core.runnables import RunnableWithMessageHistory\n",
    "from langchain_core.messages import HumanMessage\n",
    "from langchain_openai import ChatOpenAI\n",
    "\n",
    "chat_model = ChatOpenAI(model_name=\"openai/gpt-4o-mini\")\n",
    "\n",
    "store = {}\n",
    "\n",
    "def get_session_with_history(session_id:str) -> BaseChatMessageHistory:\n",
    "    return store.setdefault(session_id, InMemoryChatMessageHistory())\n",
    "\n",
    "chat_with_message_history = RunnableWithMessageHistory(chat_model,\n",
    "                                                       get_session_with_history)\n",
    "\n",
    "config = {\"configurable\": {\"session_id\": \"example1\"}}\n",
    "\n",
    "resp = chat_with_message_history.invoke(input=[HumanMessage(content=\"我周五晚上准备去看电影\")], config=config)\n",
    "print(resp.content, \"\\n\")\n",
    "resp = chat_with_message_history.invoke(input=[HumanMessage(content=\"我周五晚上准备去干什么\")], config=config)\n",
    "print(resp.content)"
   ],
   "id": "2d8fffc203361252",
   "outputs": [
    {
     "name": "stdout",
     "output_type": "stream",
     "text": [
      "听起来很不错！你已经决定好要看哪部电影了吗？或者有什么类型的电影特别想看？ \n",
      "\n",
      "除了看电影，你还有其他的计划吗？比如和朋友聚会、去吃晚餐，或者做些其他的活动？如果需要建议，我很乐意帮忙！\n"
     ]
    }
   ],
   "execution_count": 24
  }
 ],
 "metadata": {
  "kernelspec": {
   "display_name": "Python 3",
   "language": "python",
   "name": "python3"
  },
  "language_info": {
   "codemirror_mode": {
    "name": "ipython",
    "version": 2
   },
   "file_extension": ".py",
   "mimetype": "text/x-python",
   "name": "python",
   "nbconvert_exporter": "python",
   "pygments_lexer": "ipython2",
   "version": "2.7.6"
  }
 },
 "nbformat": 4,
 "nbformat_minor": 5
}
