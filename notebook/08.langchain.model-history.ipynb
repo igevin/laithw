{
 "cells": [
  {
   "metadata": {},
   "cell_type": "markdown",
   "source": "# 1. 原始方法",
   "id": "391c58beaad1b490"
  },
  {
   "metadata": {
    "ExecuteTime": {
     "end_time": "2024-12-23T07:49:20.695159Z",
     "start_time": "2024-12-23T07:49:18.072871Z"
    }
   },
   "cell_type": "code",
   "source": [
    "from langchain_core.prompts import ChatPromptTemplate\n",
    "from langchain_openai import ChatOpenAI\n",
    "from langchain_core.output_parsers import StrOutputParser\n",
    "\n",
    "\n",
    "template = ChatPromptTemplate([\n",
    "    (\"system\", \"\"\"The following is a friendly conversation between a human and an AI. The AI is talkative and provides lots of specific details from its context. If the AI does not know the answer to a question, it truthfully says it does not know.\n",
    "\n",
    "Current conversation: \"\"\"),\n",
    "    (\"placeholder\", \"{history}\"),\n",
    "    (\"user\", \"{input}\"),\n",
    "    (\"ai\", \"\")\n",
    "])\n",
    "\n",
    "\n",
    "chat = ChatOpenAI(model_name=\"openai/gpt-4o-mini\")\n",
    "chain = template | chat | StrOutputParser()\n",
    "\n",
    "resp = chain.invoke({\n",
    "    \"history\": [\n",
    "        (\"human\", \"我周五晚上要去看电影\"),\n",
    "    ],\n",
    "    \"input\": \"我周五要去做什么\"\n",
    "})\n",
    "\n",
    "print(resp)\n"
   ],
   "id": "9cad851667da133d",
   "outputs": [
    {
     "name": "stdout",
     "output_type": "stream",
     "text": [
      "你提到你周五晚上要去看电影，所以可以推测你周五会去电影院享受一部电影！你已经决定看哪部电影了吗？或者你是跟朋友一起去吗？\n"
     ]
    }
   ],
   "execution_count": 4
  },
  {
   "metadata": {},
   "cell_type": "code",
   "outputs": [],
   "execution_count": null,
   "source": "",
   "id": "541c7b70cb5819ab"
  }
 ],
 "metadata": {
  "kernelspec": {
   "display_name": "Python 3",
   "language": "python",
   "name": "python3"
  },
  "language_info": {
   "codemirror_mode": {
    "name": "ipython",
    "version": 2
   },
   "file_extension": ".py",
   "mimetype": "text/x-python",
   "name": "python",
   "nbconvert_exporter": "python",
   "pygments_lexer": "ipython2",
   "version": "2.7.6"
  }
 },
 "nbformat": 4,
 "nbformat_minor": 5
}
