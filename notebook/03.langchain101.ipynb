{
 "cells": [
  {
   "metadata": {},
   "cell_type": "markdown",
   "source": "# Quick Start",
   "id": "c6735e99f338ace8"
  },
  {
   "metadata": {},
   "cell_type": "code",
   "source": [
    "!pip install openai==1.57.0\n",
    "!pip install langchain==0.3.10\n",
    "!pip install langchain-community==0.3.10\n",
    "!pip install langchain-core==0.3.22\n",
    "!pip install langchain-openai==0.2.11"
   ],
   "id": "686cfcbb0f14da20",
   "outputs": [],
   "execution_count": null
  },
  {
   "metadata": {},
   "cell_type": "markdown",
   "source": "## 典型用法",
   "id": "125313536ecd556f"
  },
  {
   "metadata": {
    "ExecuteTime": {
     "end_time": "2024-12-08T03:45:11.220880Z",
     "start_time": "2024-12-08T03:45:06.746603Z"
    }
   },
   "cell_type": "code",
   "source": [
    "from langchain_core.prompts import ChatPromptTemplate\n",
    "from langchain_core.output_parsers import StrOutputParser\n",
    "from langchain_openai import ChatOpenAI\n",
    "\n",
    "prompt = ChatPromptTemplate.from_template(\"对技术术语做名词解释：{name}?\")\n",
    "chat = ChatOpenAI(model_name=\"openai/gpt-4o-mini\")\n",
    "parser = StrOutputParser()\n",
    "\n",
    "chain = prompt | chat | parser\n",
    "\n",
    "res = chain.invoke({\"name\": \"微服务架构\"})\n",
    "print(res)"
   ],
   "id": "cd70b47ba9ddd115",
   "outputs": [
    {
     "name": "stdout",
     "output_type": "stream",
     "text": [
      "微服务架构是一种软件架构风格，它将应用程序拆分成一系列小的、独立的服务，每个服务都围绕特定的业务功能构建。这些服务可以独立部署、扩展和更新，并通过轻量级的通信协议（如HTTP/REST、消息队列等）进行交互。\n",
      "\n",
      "微服务架构的主要特点包括：\n",
      "\n",
      "1. **模块化**：每个微服务都专注于某一特定的功能，具有清晰的边界和职责，便于理解和维护。\n",
      "\n",
      "2. **独立性**：各个微服务可以独立开发、测试和部署，不会影响到其他服务。\n",
      "\n",
      "3. **技术多样性**：不同的微服务可以使用不同的编程语言、框架和技术栈，从而选择最适合特定需求的工具。\n",
      "\n",
      "4. **弹性和可扩展性**：微服务可以根据负载进行水平扩展，能够更好地应对流量变化。\n",
      "\n",
      "5. **持续交付**：微服务架构支持持续集成和持续交付（CI/CD），使得新功能和修复能够快速发布。\n",
      "\n",
      "6. **故障隔离**：由于服务之间的独立性，某个服务的故障不会直接影响到整个应用，这提高了系统的稳定性和可靠性。\n",
      "\n",
      "微服务架构常用于构建复杂的分布式系统，尤其适合需要快速迭代和频繁发布的场景。\n"
     ]
    }
   ],
   "execution_count": 14
  },
  {
   "metadata": {},
   "cell_type": "markdown",
   "source": "## 基本使用",
   "id": "68ca702f93d6df79"
  },
  {
   "metadata": {
    "ExecuteTime": {
     "end_time": "2024-12-07T15:28:43.716420Z",
     "start_time": "2024-12-07T15:28:41.176169Z"
    }
   },
   "cell_type": "code",
   "source": [
    "# 将 OpenAI API 的调用经验迁移过来\n",
    "\n",
    "from langchain_core.messages import HumanMessage, SystemMessage\n",
    "from langchain_openai import ChatOpenAI\n",
    "\n",
    "model_name = \"openai/gpt-4o-mini\"\n",
    "llm = ChatOpenAI(model_name=model_name, temperature=0.8)\n",
    "\n",
    "messages = [\n",
    "    SystemMessage(content=\"You are an excellent translator, you are very at translating between English and Chinese\"),\n",
    "    # HumanMessage(content=\"Welcome to LLM development with langchain\"),\n",
    "    HumanMessage(content=\"欢迎使用 Langchain 进行大模型开发\")\n",
    "]\n",
    "\n",
    "# 常规输出\n",
    "res = llm.invoke(messages)\n",
    "\n",
    "print(res.content)"
   ],
   "id": "f58febb030b5abec",
   "outputs": [
    {
     "name": "stdout",
     "output_type": "stream",
     "text": [
      "Welcome to using Langchain for large model development!\n"
     ]
    }
   ],
   "execution_count": 5
  },
  {
   "metadata": {
    "ExecuteTime": {
     "end_time": "2024-12-07T15:36:34.046775Z",
     "start_time": "2024-12-07T15:36:31.712850Z"
    }
   },
   "cell_type": "code",
   "source": [
    "# 流式输出\n",
    "res = llm.stream(messages)\n",
    "\n",
    "for chunk in res:\n",
    "    print(chunk.content, end=\"|\")\n"
   ],
   "id": "ca87ceb44d11811",
   "outputs": [
    {
     "name": "stdout",
     "output_type": "stream",
     "text": [
      "|Welcome| to| using| Lang|chain| for| large| model| development|!|||"
     ]
    }
   ],
   "execution_count": 7
  },
  {
   "metadata": {
    "ExecuteTime": {
     "end_time": "2024-12-08T03:15:06.128500Z",
     "start_time": "2024-12-08T03:15:01.437064Z"
    }
   },
   "cell_type": "code",
   "source": [
    "# PromptTemplate\n",
    "\n",
    "from langchain_core.prompts import ChatPromptTemplate\n",
    "from langchain_openai import ChatOpenAI\n",
    "\n",
    "prompt_template = ChatPromptTemplate.from_messages(\n",
    "    [\n",
    "        (\"system\", \"你是一个优秀的翻译专家，非常擅长把中文翻译为{language}\"),\n",
    "        (\"user\", \"{text}\")\n",
    "    ]\n",
    ")\n",
    "\n",
    "prompt = prompt_template.invoke({\"language\": \"英文\", \"text\": \"欢迎使用 Langchain 进行大模型开发\"})\n",
    "\n",
    "print(prompt, \"\\n\")\n",
    "\n",
    "# prompt.to_messages() 返回符合上一节预期的 message\n",
    "print(prompt.to_messages(), \"\\n\")\n",
    "\n",
    "model_name = \"openai/gpt-4o-mini\"\n",
    "chat = ChatOpenAI(model_name=model_name)\n",
    "\n",
    "# 用于上一节相同的方式进行问答\n",
    "res = chat.invoke(prompt.to_messages())\n",
    "print(res.content, \"\\n\")\n",
    "\n",
    "# 简化写法\n",
    "res = chat.invoke(prompt)\n",
    "print(res.content, \"\\n\")\n"
   ],
   "id": "78f7af2efc0f2a7c",
   "outputs": [
    {
     "name": "stdout",
     "output_type": "stream",
     "text": [
      "messages=[SystemMessage(content='你是一个优秀的翻译专家，非常擅长把中文翻译为英文', additional_kwargs={}, response_metadata={}), HumanMessage(content='欢迎使用 Langchain 进行大模型开发', additional_kwargs={}, response_metadata={})] \n",
      "\n",
      "[SystemMessage(content='你是一个优秀的翻译专家，非常擅长把中文翻译为英文', additional_kwargs={}, response_metadata={}), HumanMessage(content='欢迎使用 Langchain 进行大模型开发', additional_kwargs={}, response_metadata={})] \n",
      "\n",
      "Welcome to using Langchain for large model development! \n",
      "\n",
      "Welcome to using Langchain for large model development! \n",
      "\n"
     ]
    }
   ],
   "execution_count": 10
  },
  {
   "metadata": {},
   "cell_type": "markdown",
   "source": "## Structured Output",
   "id": "87c902a320071113"
  },
  {
   "metadata": {},
   "cell_type": "markdown",
   "source": "### Using Json Mode",
   "id": "68b7f8ff52513879"
  },
  {
   "metadata": {
    "ExecuteTime": {
     "end_time": "2024-12-08T11:36:28.537731Z",
     "start_time": "2024-12-08T11:36:25.624262Z"
    }
   },
   "cell_type": "code",
   "source": [
    "from langchain_core.messages import SystemMessage, HumanMessage\n",
    "from langchain_openai import ChatOpenAI\n",
    "\n",
    "model_name = \"openai/gpt-4o-mini\"\n",
    "chat = ChatOpenAI(\n",
    "    model_name=model_name,\n",
    "    model_kwargs={\n",
    "        \"response_format\": {\n",
    "            \"type\": \"json_schema\",\n",
    "            \"json_schema\": {\n",
    "                \"name\": \"email_schema\",\n",
    "                \"schema\": {\n",
    "                    \"type\": \"object\",\n",
    "                    \"properties\": {\n",
    "                        \"email\": {\n",
    "                            \"description\": \"The email address that appears in the input\",\n",
    "                            \"type\": \"string\"\n",
    "                        },\n",
    "                        \"additionalProperties\": False\n",
    "                    }\n",
    "                }\n",
    "            }\n",
    "        }\n",
    "    }\n",
    ")\n",
    "\n",
    "resp = chat.invoke([\n",
    "    SystemMessage(content=\"You extract email addresses into JSON data.\"),\n",
    "    HumanMessage(content=\"Feeling stuck? Send a message to help@mycompany.com.\")\n",
    "])\n",
    "\n",
    "print(resp.content)"
   ],
   "id": "4daff72268b519e0",
   "outputs": [
    {
     "name": "stdout",
     "output_type": "stream",
     "text": [
      "{\"email\":\"help@mycompany.com\"}\n"
     ]
    }
   ],
   "execution_count": 14
  },
  {
   "metadata": {
    "ExecuteTime": {
     "end_time": "2024-12-08T11:38:15.106928Z",
     "start_time": "2024-12-08T11:38:12.651338Z"
    }
   },
   "cell_type": "code",
   "source": [
    "from langchain_core.messages import SystemMessage, HumanMessage\n",
    "from langchain_openai import ChatOpenAI\n",
    "\n",
    "chat = ChatOpenAI(model_name=\"openai/gpt-4o-mini\")\n",
    "chat.bind(response_format={\n",
    "    \"type\": \"json_schema\",\n",
    "    \"json_schema\": {\n",
    "        \"name\": \"email_schema\",\n",
    "        \"schema\": {\n",
    "            \"type\": \"object\",\n",
    "            \"properties\": {\n",
    "                \"email\": {\n",
    "                    \"description\": \"The email address that appears in the input\",\n",
    "                    \"type\": \"string\"\n",
    "                },\n",
    "                \"additionalProperties\": False\n",
    "            }\n",
    "        }\n",
    "    }\n",
    "})\n",
    "\n",
    "resp = chat.invoke([\n",
    "    SystemMessage(content=\"You extract email addresses into JSON data.\"),\n",
    "    HumanMessage(content=\"Feeling stuck? Send a message to help@mycompany.com.\")\n",
    "])\n",
    "\n",
    "print(resp.content)"
   ],
   "id": "731c397cebf1a4de",
   "outputs": [
    {
     "name": "stdout",
     "output_type": "stream",
     "text": [
      "```json\n",
      "{\n",
      "  \"email\": \"help@mycompany.com\"\n",
      "}\n",
      "```\n"
     ]
    }
   ],
   "execution_count": 18
  },
  {
   "metadata": {
    "ExecuteTime": {
     "end_time": "2024-12-08T11:38:04.060158Z",
     "start_time": "2024-12-08T11:38:00.602345Z"
    }
   },
   "cell_type": "code",
   "source": [
    "from langchain_core.messages import SystemMessage, HumanMessage\n",
    "from langchain_openai import ChatOpenAI\n",
    "\n",
    "chat = ChatOpenAI(model_name=\"openai/gpt-4o-mini\")\n",
    "chat.bind(response_format={\"type\": \"json_object\"})\n",
    "\n",
    "resp = chat.invoke([\n",
    "    SystemMessage(content=\"You extract email addresses into JSON data.\"),\n",
    "    HumanMessage(content=\"Feeling stuck? Send a message to help@mycompany.com.\")\n",
    "])\n",
    "\n",
    "print(resp.content)"
   ],
   "id": "94d3ec3a73ab8f06",
   "outputs": [
    {
     "name": "stdout",
     "output_type": "stream",
     "text": [
      "```json\n",
      "{\n",
      "  \"email\": \"help@mycompany.com\"\n",
      "}\n",
      "```\n"
     ]
    }
   ],
   "execution_count": 17
  },
  {
   "metadata": {
    "ExecuteTime": {
     "end_time": "2024-12-08T11:38:25.666947Z",
     "start_time": "2024-12-08T11:38:23.452199Z"
    }
   },
   "cell_type": "code",
   "source": [
    "from langchain_core.messages import SystemMessage, HumanMessage\n",
    "from langchain_openai import ChatOpenAI\n",
    "\n",
    "chat = ChatOpenAI(model_name=\"openai/gpt-4o-mini\",\n",
    "                  model_kwargs={\n",
    "                      \"response_format\": {\"type\": \"json_object\"}\n",
    "                  })\n",
    "chat.bind(response_format={\"type\": \"json_object\"})\n",
    "\n",
    "resp = chat.invoke([\n",
    "    SystemMessage(content=\"You extract email addresses into JSON data.\"),\n",
    "    HumanMessage(content=\"Feeling stuck? Send a message to help@mycompany.com.\")\n",
    "])\n",
    "\n",
    "print(resp.content)"
   ],
   "id": "fbc5d79a4ac6e7d1",
   "outputs": [
    {
     "name": "stdout",
     "output_type": "stream",
     "text": [
      "{\n",
      "  \"email_addresses\": [\n",
      "    \"help@mycompany.com\"\n",
      "  ]\n",
      "}\n"
     ]
    }
   ],
   "execution_count": 19
  },
  {
   "metadata": {},
   "cell_type": "markdown",
   "source": "### Using Structured Output",
   "id": "3743f75a716a57f9"
  },
  {
   "metadata": {
    "ExecuteTime": {
     "end_time": "2024-12-08T12:08:17.681975Z",
     "start_time": "2024-12-08T12:08:15.384022Z"
    }
   },
   "cell_type": "code",
   "source": [
    "from langchain_core.messages import SystemMessage, HumanMessage\n",
    "from langchain_openai import ChatOpenAI\n",
    "from pydantic import BaseModel\n",
    "\n",
    "class Email(BaseModel):\n",
    "    email: str\n",
    "\n",
    "chat = ChatOpenAI(model_name=\"openai/gpt-4o-mini\").with_structured_output(Email)\n",
    "\n",
    "resp = chat.invoke([\n",
    "    SystemMessage(content=\"You extract email addresses into JSON data.\"),\n",
    "    HumanMessage(content=\"Feeling stuck? Send a message to help@mycompany.com.\")\n",
    "])\n",
    "\n",
    "print(resp, \"\\n\\n\", type(resp))"
   ],
   "id": "f51d5bdd2abe2b45",
   "outputs": [
    {
     "name": "stdout",
     "output_type": "stream",
     "text": [
      "email='help@mycompany.com' \n",
      "\n",
      " <class '__main__.Email'>\n"
     ]
    }
   ],
   "execution_count": 21
  },
  {
   "metadata": {
    "ExecuteTime": {
     "end_time": "2024-12-08T12:05:47.406067Z",
     "start_time": "2024-12-08T12:05:42.125012Z"
    }
   },
   "cell_type": "code",
   "source": [
    "from langchain_openai import ChatOpenAI\n",
    "from pydantic import BaseModel\n",
    "\n",
    "\n",
    "class Step(BaseModel):\n",
    "    explanation: str\n",
    "    output: str\n",
    "\n",
    "\n",
    "class MathReasoning(BaseModel):\n",
    "    steps: list[Step]\n",
    "    final_output: str\n",
    "\n",
    "\n",
    "chat = ChatOpenAI(model_name=\"openai/gpt-4o-mini\").with_structured_output(MathReasoning)\n",
    "resp = chat.invoke([\n",
    "    {\"role\": \"system\",\n",
    "     \"content\": \"You are a helpful math tutor. Guide the user through the solution step by step.\"},\n",
    "    {\"role\": \"user\", \"content\": \"how can I solve 8x + 7 = -25\"}\n",
    "])\n",
    "\n",
    "print(resp, \"\\n\", type(resp))\n"
   ],
   "id": "9a3f3a75f3fa5fec",
   "outputs": [
    {
     "name": "stdout",
     "output_type": "stream",
     "text": [
      "steps=[Step(explanation='Subtract 7 from both sides of the equation to isolate the term with x.', output='8x + 7 - 7 = -25 - 7'), Step(explanation='This simplifies to 8x = -32.', output='8x = -32'), Step(explanation='Now, divide both sides by 8 to solve for x.', output='x = -32 / 8'), Step(explanation='This simplifies to x = -4.', output='x = -4')] final_output='The solution to the equation 8x + 7 = -25 is x = -4.' \n",
      " <class '__main__.MathReasoning'>\n"
     ]
    }
   ],
   "execution_count": 20
  },
  {
   "metadata": {},
   "cell_type": "markdown",
   "source": "### Using Tool calling",
   "id": "a09e95a489e19196"
  },
  {
   "metadata": {
    "ExecuteTime": {
     "end_time": "2024-12-08T13:08:15.046794Z",
     "start_time": "2024-12-08T13:08:12.079050Z"
    }
   },
   "cell_type": "code",
   "source": [
    "from langchain_core.messages import SystemMessage, HumanMessage\n",
    "from langchain_openai import ChatOpenAI\n",
    "from pydantic import BaseModel, Field\n",
    "\n",
    "class Email(BaseModel):\n",
    "    \"\"\"Use this tool to get email structure\"\"\"\n",
    "    email: str = Field(description=\"input email address here\")\n",
    "\n",
    "chat = ChatOpenAI(model_name=\"openai/gpt-4o-mini\", temperature=0).bind_tools([Email])\n",
    "\n",
    "resp = chat.invoke([\n",
    "    SystemMessage(content=\"You extract email addresses into JSON data.\"),\n",
    "    HumanMessage(content=\"Feeling stuck? Send a message to help@mycompany.com.\")\n",
    "])\n",
    "\n",
    "print(resp, \"\\n\\n\", type(resp))"
   ],
   "id": "38faebf9235b74d",
   "outputs": [
    {
     "name": "stdout",
     "output_type": "stream",
     "text": [
      "content='' additional_kwargs={'tool_calls': [{'id': 'call_ICigxmfrtzPCXUIjW9awzIBD', 'function': {'arguments': '{\"email\":\"help@mycompany.com\"}', 'name': 'Email'}, 'type': 'function', 'index': 0}], 'refusal': None} response_metadata={'token_usage': {'completion_tokens': 17, 'prompt_tokens': 71, 'total_tokens': 88, 'completion_tokens_details': None, 'prompt_tokens_details': None}, 'model_name': 'openai/gpt-4o-mini', 'system_fingerprint': 'fp_818c284075', 'finish_reason': 'tool_calls', 'logprobs': None} id='run-737bb30a-56c4-48ef-9ee5-6fb0c279a893-0' tool_calls=[{'name': 'Email', 'args': {'email': 'help@mycompany.com'}, 'id': 'call_ICigxmfrtzPCXUIjW9awzIBD', 'type': 'tool_call'}] usage_metadata={'input_tokens': 71, 'output_tokens': 17, 'total_tokens': 88, 'input_token_details': {}, 'output_token_details': {}} \n",
      "\n",
      " <class 'langchain_core.messages.ai.AIMessage'>\n"
     ]
    }
   ],
   "execution_count": 33
  },
  {
   "metadata": {
    "ExecuteTime": {
     "end_time": "2024-12-08T13:31:10.804872Z",
     "start_time": "2024-12-08T13:31:10.802505Z"
    }
   },
   "cell_type": "code",
   "source": [
    "print(resp.additional_kwargs[\"tool_calls\"][0])\n",
    "args = resp.additional_kwargs[\"tool_calls\"][0][\"function\"][\"arguments\"]\n",
    "print(args)"
   ],
   "id": "76551bb9ca60983f",
   "outputs": [
    {
     "name": "stdout",
     "output_type": "stream",
     "text": [
      "{'id': 'call_Z082gPUmHrMaToAC4uAuyVvp', 'function': {'arguments': '{\"steps\":[{\"explanation\":\"Subtract 7 from both sides: 8x + 7 - 7 = -25 - 7\",\"output\":\"8x = -32\"},{\"explanation\":\"Divide both sides by 8: x = -32 / 8\",\"output\":\"x = -4\"}],\"final_output\":\"x = -4\"}', 'name': 'MathReasons'}, 'type': 'function', 'index': 0}\n",
      "{\"steps\":[{\"explanation\":\"Subtract 7 from both sides: 8x + 7 - 7 = -25 - 7\",\"output\":\"8x = -32\"},{\"explanation\":\"Divide both sides by 8: x = -32 / 8\",\"output\":\"x = -4\"}],\"final_output\":\"x = -4\"}\n"
     ]
    }
   ],
   "execution_count": 44
  },
  {
   "metadata": {
    "ExecuteTime": {
     "end_time": "2024-12-08T13:31:43.347754Z",
     "start_time": "2024-12-08T13:31:37.078516Z"
    }
   },
   "cell_type": "code",
   "source": [
    "from langchain_openai import ChatOpenAI\n",
    "from pydantic import BaseModel, Field\n",
    "\n",
    "\n",
    "class MathStep(BaseModel):\n",
    "    explanation: str\n",
    "    output: str\n",
    "\n",
    "\n",
    "class MathReasons(BaseModel):\n",
    "    \"\"\"Use this tool to explain math steps and get final result\"\"\"\n",
    "    steps: list[MathStep] = Field(description=\"record every math step here\")\n",
    "    final_output: str = Field(description=\"record the final result\")\n",
    "\n",
    "\n",
    "chat = ChatOpenAI(model_name=\"openai/gpt-4o-mini\").bind_tools([MathReasons])\n",
    "resp = chat.invoke([\n",
    "    {\"role\": \"system\",\n",
    "     \"content\": \"You are a helpful math tutor. Guide the user through the solution step by step.\"},\n",
    "    {\"role\": \"user\", \"content\": \"how can I solve 8x + 7 = -25\"}\n",
    "])\n",
    "\n",
    "print(resp, \"\\n\\n\", type(resp))"
   ],
   "id": "11183ffabefc0030",
   "outputs": [
    {
     "name": "stdout",
     "output_type": "stream",
     "text": [
      "content=\"To solve the equation \\\\(8x + 7 = -25\\\\), we can follow these steps:\\n\\n1. **Subtract 7 from both sides**: This will help isolate the term with \\\\(x\\\\) on one side of the equation.\\n   \\n   \\\\[\\n   8x + 7 - 7 = -25 - 7\\n   \\\\]\\n\\n2. **Simplify both sides**: After performing the subtraction, simplify the equation.\\n\\n3. **Divide by 8**: Once \\\\(x\\\\) is isolated, divide both sides by 8 to solve for \\\\(x\\\\).\\n\\nLet's go through these steps one by one. \\n\\n1. Subtract 7 from both sides:\\n\\n   \\\\[\\n   8x = -25 - 7\\n   \\\\]\\n\\n2. Simplifying the right side:\\n\\n   \\\\[\\n   8x = -32\\n   \\\\]\\n\\n3. Now, divide both sides by 8:\\n\\n   \\\\[\\n   x = \\\\frac{-32}{8}\\n   \\\\]\\n\\n4. Simplifying the fraction:\\n\\n   \\\\[\\n   x = -4\\n   \\\\]\\n\\nThus, the solution to the equation \\\\(8x + 7 = -25\\\\) is \\\\(x = -4\\\\).\\n\\nNow, let's record these steps and the final result.\" additional_kwargs={'tool_calls': [{'id': 'call_BEIqQsiQx5e23GqBn0CbxTqr', 'function': {'arguments': '{\"steps\":[{\"explanation\":\"Subtract 7 from both sides of the equation: 8x + 7 - 7 = -25 - 7\",\"output\":\"8x = -32\"},{\"explanation\":\"Simplify the right side of the equation: 8x = -32\",\"output\":\"8x = -32\"},{\"explanation\":\"Divide both sides by 8 to isolate x: x = -32 / 8\",\"output\":\"x = -4\"}],\"final_output\":\"x = -4\"}', 'name': 'MathReasons'}, 'type': 'function', 'index': 0}], 'refusal': None} response_metadata={'token_usage': {'completion_tokens': 379, 'prompt_tokens': 105, 'total_tokens': 484, 'completion_tokens_details': None, 'prompt_tokens_details': None}, 'model_name': 'openai/gpt-4o-mini', 'system_fingerprint': 'fp_818c284075', 'finish_reason': 'tool_calls', 'logprobs': None} id='run-fc7b2733-ef46-4718-8161-3c2a6c528fc0-0' tool_calls=[{'name': 'MathReasons', 'args': {'steps': [{'explanation': 'Subtract 7 from both sides of the equation: 8x + 7 - 7 = -25 - 7', 'output': '8x = -32'}, {'explanation': 'Simplify the right side of the equation: 8x = -32', 'output': '8x = -32'}, {'explanation': 'Divide both sides by 8 to isolate x: x = -32 / 8', 'output': 'x = -4'}], 'final_output': 'x = -4'}, 'id': 'call_BEIqQsiQx5e23GqBn0CbxTqr', 'type': 'tool_call'}] usage_metadata={'input_tokens': 105, 'output_tokens': 379, 'total_tokens': 484, 'input_token_details': {}, 'output_token_details': {}} \n",
      "\n",
      " <class 'langchain_core.messages.ai.AIMessage'>\n"
     ]
    }
   ],
   "execution_count": 45
  },
  {
   "metadata": {
    "ExecuteTime": {
     "end_time": "2024-12-08T13:38:17.442530Z",
     "start_time": "2024-12-08T13:38:17.439892Z"
    }
   },
   "cell_type": "code",
   "source": [
    "args = resp.additional_kwargs[\"tool_calls\"][0][\"function\"][\"arguments\"]\n",
    "print(args)\n",
    "\n",
    "# MathStep.model_validate(obj)"
   ],
   "id": "b80089c474e39771",
   "outputs": [
    {
     "name": "stdout",
     "output_type": "stream",
     "text": [
      "{\"steps\":[{\"explanation\":\"Subtract 7 from both sides of the equation: 8x + 7 - 7 = -25 - 7\",\"output\":\"8x = -32\"},{\"explanation\":\"Simplify the right side of the equation: 8x = -32\",\"output\":\"8x = -32\"},{\"explanation\":\"Divide both sides by 8 to isolate x: x = -32 / 8\",\"output\":\"x = -4\"}],\"final_output\":\"x = -4\"}\n"
     ]
    }
   ],
   "execution_count": 55
  },
  {
   "metadata": {},
   "cell_type": "markdown",
   "source": [
    "# ModelIO\n",
    "\n",
    "- Format: PromptTemplate\n",
    "- Predict: ChatModel/LLM\n",
    "- Parse: OutputParser"
   ],
   "id": "46c78917f3223e51"
  },
  {
   "metadata": {},
   "cell_type": "code",
   "outputs": [],
   "execution_count": null,
   "source": "## Quick Start",
   "id": "fddbe24e2d8b0600"
  },
  {
   "metadata": {},
   "cell_type": "markdown",
   "source": "## PromptTemplate",
   "id": "6c143496c16cc268"
  },
  {
   "metadata": {},
   "cell_type": "code",
   "outputs": [],
   "execution_count": null,
   "source": "",
   "id": "3b6a36e4fa10ffc3"
  },
  {
   "metadata": {},
   "cell_type": "markdown",
   "source": "## ChatModel",
   "id": "b06139ca93ad1fa4"
  },
  {
   "metadata": {},
   "cell_type": "code",
   "outputs": [],
   "execution_count": null,
   "source": "",
   "id": "9014d4dfc27b4aae"
  },
  {
   "metadata": {},
   "cell_type": "markdown",
   "source": "## OutputParser",
   "id": "a9fcf4254f1d12b4"
  },
  {
   "metadata": {},
   "cell_type": "code",
   "outputs": [],
   "execution_count": null,
   "source": "",
   "id": "6f5d952544e1beb9"
  }
 ],
 "metadata": {
  "kernelspec": {
   "display_name": "Python 3",
   "language": "python",
   "name": "python3"
  },
  "language_info": {
   "codemirror_mode": {
    "name": "ipython",
    "version": 2
   },
   "file_extension": ".py",
   "mimetype": "text/x-python",
   "name": "python",
   "nbconvert_exporter": "python",
   "pygments_lexer": "ipython2",
   "version": "2.7.6"
  }
 },
 "nbformat": 4,
 "nbformat_minor": 5
}
