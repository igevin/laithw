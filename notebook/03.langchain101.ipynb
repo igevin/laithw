{
 "cells": [
  {
   "metadata": {},
   "cell_type": "markdown",
   "source": "# Quick Start",
   "id": "c6735e99f338ace8"
  },
  {
   "metadata": {
    "ExecuteTime": {
     "end_time": "2024-12-07T15:23:35.018318Z",
     "start_time": "2024-12-07T15:23:33.149425Z"
    }
   },
   "cell_type": "code",
   "source": [
    "from langchain_core.messages import HumanMessage, SystemMessage\n",
    "from langchain_openai import ChatOpenAI\n",
    "\n",
    "model_name = \"openai/gpt-4o-mini\"\n",
    "llm = ChatOpenAI(model_name=model_name, temperature=0.8)\n",
    "\n",
    "messages = [\n",
    "    SystemMessage(content=\"You are an excellent translator, you are very at translating between English and Chinese\"),\n",
    "    # HumanMessage(content=\"Welcome to LLM development with langchain\"),\n",
    "    HumanMessage(content=\"欢迎使用 Langchain 进行大模型开发\")\n",
    "]\n",
    "\n",
    "res = llm.invoke(messages)\n",
    "\n",
    "print(res.content)"
   ],
   "id": "f58febb030b5abec",
   "outputs": [
    {
     "name": "stdout",
     "output_type": "stream",
     "text": [
      "Welcome to using Langchain for large model development!\n"
     ]
    }
   ],
   "execution_count": 3
  }
 ],
 "metadata": {
  "kernelspec": {
   "display_name": "Python 3",
   "language": "python",
   "name": "python3"
  },
  "language_info": {
   "codemirror_mode": {
    "name": "ipython",
    "version": 2
   },
   "file_extension": ".py",
   "mimetype": "text/x-python",
   "name": "python",
   "nbconvert_exporter": "python",
   "pygments_lexer": "ipython2",
   "version": "2.7.6"
  }
 },
 "nbformat": 4,
 "nbformat_minor": 5
}
