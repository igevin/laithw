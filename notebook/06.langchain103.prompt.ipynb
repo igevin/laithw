{
 "cells": [
  {
   "metadata": {},
   "cell_type": "markdown",
   "source": "# Few Shot Prompt Template\n",
   "id": "a26415c8ab32135b"
  },
  {
   "metadata": {
    "ExecuteTime": {
     "end_time": "2024-12-18T06:37:32.880952Z",
     "start_time": "2024-12-18T06:37:30.292767Z"
    }
   },
   "cell_type": "code",
   "source": [
    "from langchain_core.prompts import  FewShotPromptTemplate, PromptTemplate\n",
    "from langchain_openai import ChatOpenAI\n",
    "from transformers.models.cvt.convert_cvt_original_pytorch_checkpoint_to_pytorch import embeddings\n",
    "\n",
    "chat = ChatOpenAI(model_name=\"openai/gpt-4o-mini\")\n",
    "\n",
    "samples = [\n",
    "  {\n",
    "    \"flower_type\": \"玫瑰\",\n",
    "    \"occasion\": \"爱情\",\n",
    "    \"ad_copy\": \"玫瑰，浪漫的象征，是你向心爱的人表达爱意的最佳选择。\"\n",
    "  },\n",
    "  {\n",
    "    \"flower_type\": \"康乃馨\",\n",
    "    \"occasion\": \"母亲节\",\n",
    "    \"ad_copy\": \"康乃馨代表着母爱的纯洁与伟大，是母亲节赠送给母亲的完美礼物。\"\n",
    "  },\n",
    "  {\n",
    "    \"flower_type\": \"百合\",\n",
    "    \"occasion\": \"庆祝\",\n",
    "    \"ad_copy\": \"百合象征着纯洁与高雅，是你庆祝特殊时刻的理想选择。\"\n",
    "  },\n",
    "  {\n",
    "    \"flower_type\": \"向日葵\",\n",
    "    \"occasion\": \"鼓励\",\n",
    "    \"ad_copy\": \"向日葵象征着坚韧和乐观，是你鼓励亲朋好友的最好方式。\"\n",
    "  }\n",
    "]\n",
    "\n",
    "template=\"鲜花类型: {flower_type}\\n场合: {occasion}\\n文案: {ad_copy}\"\n",
    "\n",
    "prompt = FewShotPromptTemplate(\n",
    "    example_prompt=PromptTemplate.from_template(template),\n",
    "    examples=samples,\n",
    "    suffix=\"鲜花类型: {flower_type}\\n场合: {occasion}\",\n",
    ")\n",
    "res = prompt.invoke({\"flower_type\": \"野玫瑰\", \"occasion\": \"爱情\"})\n",
    "\n",
    "print(res.to_string(), \"\\n\\n\\n\")\n",
    "\n",
    "print(chat.invoke(res).content)"
   ],
   "id": "c5b24ca404a5881f",
   "outputs": [
    {
     "name": "stdout",
     "output_type": "stream",
     "text": [
      "鲜花类型: 玫瑰\n",
      "场合: 爱情\n",
      "文案: 玫瑰，浪漫的象征，是你向心爱的人表达爱意的最佳选择。\n",
      "\n",
      "鲜花类型: 康乃馨\n",
      "场合: 母亲节\n",
      "文案: 康乃馨代表着母爱的纯洁与伟大，是母亲节赠送给母亲的完美礼物。\n",
      "\n",
      "鲜花类型: 百合\n",
      "场合: 庆祝\n",
      "文案: 百合象征着纯洁与高雅，是你庆祝特殊时刻的理想选择。\n",
      "\n",
      "鲜花类型: 向日葵\n",
      "场合: 鼓励\n",
      "文案: 向日葵象征着坚韧和乐观，是你鼓励亲朋好友的最好方式。\n",
      "\n",
      "鲜花类型: 野玫瑰\n",
      "场合: 爱情 \n",
      "\n",
      "\n",
      "\n",
      "文案: 野玫瑰，代表着自由与真实的爱情，是你向独特的心爱之人表达真挚情感的绝佳选择。\n"
     ]
    }
   ],
   "execution_count": 5
  },
  {
   "metadata": {},
   "cell_type": "markdown",
   "source": "## 使用示例选择器",
   "id": "ab5ff270d8fa139a"
  },
  {
   "metadata": {
    "ExecuteTime": {
     "end_time": "2024-12-18T12:27:03.439858Z",
     "start_time": "2024-12-18T12:26:58.064707Z"
    }
   },
   "cell_type": "code",
   "source": [
    "from langchain_core.prompts import  FewShotPromptTemplate, PromptTemplate\n",
    "from langchain.prompts.example_selector import SemanticSimilarityExampleSelector\n",
    "from langchain_qdrant import QdrantVectorStore\n",
    "from langchain_openai import ChatOpenAI\n",
    "from langchain_ollama import OllamaEmbeddings\n",
    "\n",
    "chat = ChatOpenAI(model_name=\"openai/gpt-4o-mini\")\n",
    "embedding = OllamaEmbeddings(model=\"nomic-embed-text\", base_url=\"http://localhost:11434\")\n",
    "\n",
    "samples = [\n",
    "  {\n",
    "    \"flower_type\": \"玫瑰\",\n",
    "    \"occasion\": \"爱情\",\n",
    "    \"ad_copy\": \"玫瑰，浪漫的象征，是你向心爱的人表达爱意的最佳选择。\"\n",
    "  },\n",
    "  {\n",
    "    \"flower_type\": \"康乃馨\",\n",
    "    \"occasion\": \"母亲节\",\n",
    "    \"ad_copy\": \"康乃馨代表着母爱的纯洁与伟大，是母亲节赠送给母亲的完美礼物。\"\n",
    "  },\n",
    "  {\n",
    "    \"flower_type\": \"百合\",\n",
    "    \"occasion\": \"庆祝\",\n",
    "    \"ad_copy\": \"百合象征着纯洁与高雅，是你庆祝特殊时刻的理想选择。\"\n",
    "  },\n",
    "  {\n",
    "    \"flower_type\": \"向日葵\",\n",
    "    \"occasion\": \"鼓励\",\n",
    "    \"ad_copy\": \"向日葵象征着坚韧和乐观，是你鼓励亲朋好友的最好方式。\"\n",
    "  }\n",
    "]\n",
    "\n",
    "template=\"鲜花类型: {flower_type}\\n场合: {occasion}\\n文案: {ad_copy}\"\n",
    "example_selector = SemanticSimilarityExampleSelector.from_examples(samples, embedding, QdrantVectorStore, k=1)\n",
    "\n",
    "prompt = FewShotPromptTemplate(\n",
    "    example_prompt=PromptTemplate.from_template(template),\n",
    "    example_selector= example_selector,\n",
    "    suffix=\"鲜花类型: {flower_type}\\n场合: {occasion}\",\n",
    ")\n",
    "res = prompt.invoke({\"flower_type\": \"野玫瑰\", \"occasion\": \"爱情\"})\n",
    "\n",
    "print(res.to_string(), \"\\n\\n\\n\")\n",
    "\n",
    "print(chat.invoke(res).content)"
   ],
   "id": "20ceca45dd55ff59",
   "outputs": [
    {
     "name": "stdout",
     "output_type": "stream",
     "text": [
      "鲜花类型: 玫瑰\n",
      "场合: 爱情\n",
      "文案: 玫瑰，浪漫的象征，是你向心爱的人表达爱意的最佳选择。\n",
      "\n",
      "鲜花类型: 野玫瑰\n",
      "场合: 爱情 \n",
      "\n",
      "\n",
      "\n",
      "文案: 野玫瑰，虽不如红玫瑰般夺目，却散发着自然的纯真与坚韧，寓意着真实而不拘一格的爱情。送上一束野玫瑰，让心爱的人感受到你对她独特而深沉的爱意。\n"
     ]
    }
   ],
   "execution_count": 17
  },
  {
   "metadata": {
    "ExecuteTime": {
     "end_time": "2024-12-18T14:26:31.577880Z",
     "start_time": "2024-12-18T14:25:33.679066Z"
    }
   },
   "cell_type": "code",
   "source": [
    "from langchain_huggingface import HuggingFaceEmbeddings\n",
    "\n",
    "embedding = HuggingFaceEmbeddings(model_name=\"sentence-transformers/all-mpnet-base-v2\")\n",
    "\n",
    "example_selector = SemanticSimilarityExampleSelector.from_examples(samples, embedding, QdrantVectorStore, k=1)\n",
    "\n",
    "prompt = FewShotPromptTemplate(\n",
    "    example_prompt=PromptTemplate.from_template(template),\n",
    "    example_selector= example_selector,\n",
    "    suffix=\"鲜花类型: {flower_type}\\n场合: {occasion}\",\n",
    ")\n",
    "res = prompt.invoke({\"flower_type\": \"野玫瑰\", \"occasion\": \"爱情\"})\n",
    "\n",
    "print(res.to_string(), \"\\n\\n\\n\")\n",
    "\n",
    "print(chat.invoke(res).content)"
   ],
   "id": "82a8c75db0b7127d",
   "outputs": [
    {
     "name": "stdout",
     "output_type": "stream",
     "text": [
      "鲜花类型: 康乃馨\n",
      "场合: 母亲节\n",
      "文案: 康乃馨代表着母爱的纯洁与伟大，是母亲节赠送给母亲的完美礼物。\n",
      "\n",
      "鲜花类型: 野玫瑰\n",
      "场合: 爱情 \n",
      "\n",
      "\n",
      "\n",
      "文案: 野玫瑰象征着热烈与自由，传达出真挚的爱意，是表达爱情的最佳选择。在这个特别的时刻，让野玫瑰为你的心声添上浪漫的色彩。\n"
     ]
    }
   ],
   "execution_count": 19
  }
 ],
 "metadata": {
  "kernelspec": {
   "display_name": "Python 3",
   "language": "python",
   "name": "python3"
  },
  "language_info": {
   "codemirror_mode": {
    "name": "ipython",
    "version": 2
   },
   "file_extension": ".py",
   "mimetype": "text/x-python",
   "name": "python",
   "nbconvert_exporter": "python",
   "pygments_lexer": "ipython2",
   "version": "2.7.6"
  }
 },
 "nbformat": 4,
 "nbformat_minor": 5
}
