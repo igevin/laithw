{
 "cells": [
  {
   "metadata": {},
   "cell_type": "markdown",
   "source": "# LangChain Expression Language (LCEL)",
   "id": "b28baa3d53f24d59"
  },
  {
   "metadata": {},
   "cell_type": "markdown",
   "source": "# RunnableLambda",
   "id": "e823f6b13a9fb5b4"
  },
  {
   "metadata": {
    "ExecuteTime": {
     "end_time": "2025-01-02T07:55:36.366369Z",
     "start_time": "2025-01-02T07:55:36.354896Z"
    }
   },
   "cell_type": "code",
   "source": [
    "from langchain_core.runnables import RunnableLambda, RunnableParallel\n",
    "\n",
    "def some_func_x(x):\n",
    "    return x\n",
    "\n",
    "def some_func_y(y):\n",
    "    return 2*y\n",
    "\n",
    "def some_func_z(z):\n",
    "    return z\n",
    "\n",
    "runnable_func_x = RunnableLambda(some_func_x)\n",
    "print(runnable_func_x.invoke(\"x\"))\n",
    "# print(runnable_func_x.invoke({\"x\": \"x\"}))\n",
    "# print(runnable_func_x.invoke({\"x\"}))\n",
    "# print(runnable_func_x.invoke(input=\"x\"))\n",
    "\n",
    "\n",
    "chain = RunnableLambda(some_func_x) | RunnableLambda(some_func_y)\n",
    "print(chain.invoke(\"x\"))\n",
    "chain = RunnableLambda(some_func_x) | some_func_y\n",
    "print(chain.invoke(\"x\"))\n",
    "chain = some_func_x | RunnableLambda(some_func_y)\n",
    "print(chain.invoke(\"x\"))\n",
    "\n",
    "chain = RunnableParallel({\"x\": RunnableLambda(some_func_x), \"y\": RunnableLambda(some_func_y)})\n",
    "print(chain.invoke(\"x\"))\n",
    "\n",
    "chain = RunnableParallel({\"x\": RunnableLambda(some_func_x), \"y\": RunnableLambda(some_func_y)}) | RunnableLambda(some_func_z)\n",
    "print(chain.invoke(\"x\"))\n",
    "\n",
    "chain = {\"x\": RunnableLambda(some_func_x), \"y\": RunnableLambda(some_func_y)} | RunnableLambda(some_func_z)\n",
    "print(chain.invoke(\"x\"))\n",
    "\n",
    "chain = {\"x\": some_func_x, \"y\": some_func_y} | RunnableLambda(some_func_z)\n",
    "print(chain.invoke(\"x\"))"
   ],
   "id": "119738d2854234bd",
   "outputs": [
    {
     "name": "stdout",
     "output_type": "stream",
     "text": [
      "x\n",
      "xx\n",
      "xx\n",
      "xx\n",
      "{'x': 'x', 'y': 'xx'}\n",
      "{'x': 'x', 'y': 'xx'}\n",
      "{'x': 'x', 'y': 'xx'}\n",
      "{'x': 'x', 'y': 'xx'}\n"
     ]
    }
   ],
   "execution_count": 23
  },
  {
   "metadata": {},
   "cell_type": "code",
   "outputs": [],
   "execution_count": null,
   "source": "",
   "id": "44fd11fb4706af1d"
  }
 ],
 "metadata": {
  "kernelspec": {
   "display_name": "Python 3",
   "language": "python",
   "name": "python3"
  },
  "language_info": {
   "codemirror_mode": {
    "name": "ipython",
    "version": 2
   },
   "file_extension": ".py",
   "mimetype": "text/x-python",
   "name": "python",
   "nbconvert_exporter": "python",
   "pygments_lexer": "ipython2",
   "version": "2.7.6"
  }
 },
 "nbformat": 4,
 "nbformat_minor": 5
}
