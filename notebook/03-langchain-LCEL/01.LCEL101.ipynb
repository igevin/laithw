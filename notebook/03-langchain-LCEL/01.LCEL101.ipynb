{
 "cells": [
  {
   "metadata": {},
   "cell_type": "markdown",
   "source": [
    "# LangChain Expression Language (LCEL)\n",
    "\n",
    "LangChain Expression Language (LCEL)，是 Langchain 自定义的一种表达式语言，主要用于各种 “链”(chain) 的构建和组合，通过 LCEL 定义链，表达简洁清晰，易于理解。\n",
    "\n",
    "LCEL 是这样实现的：\n",
    "\n",
    "1. 定义了基础抽象，即 `Runnable` 接口类型，LCEL 定义的链，每个组成部分，本质都是 `Runnable` 类型的对象\n",
    "2. 定义了构建链的基础规则：“顺序链”和“并行链”，分别用于 Runnable 对象的顺序执行和并行执行，其定义的类，分别为 `RunnableSequence` 和 `RunnableParallel`，其他形态的链或链的组成部件，都是这两个基础规则的衍生或组合\n",
    "3. Langchain 通过运算符重载，重载了管道符（`|`），并通过隐式的强制转换，让 python 的函数(function) 和字典(dict) 自动转换为 Runnable 类型的对象，让链的编排更加简洁\n",
    "\n",
    "\n"
   ],
   "id": "b28baa3d53f24d59"
  },
  {
   "metadata": {},
   "cell_type": "markdown",
   "source": [
    "## LCEL Get Started\n",
    "\n",
    "为了演示 LCEL 的使用，我们首先要有几个 Runnable 类型的对象，为便于理解，我们通过 Langchain 的 `RunnableLambda` 定义几个简单的 Runnable 对象出来\n",
    "\n",
    "\n"
   ],
   "id": "8d28885d65a57848"
  },
  {
   "metadata": {
    "ExecuteTime": {
     "end_time": "2025-01-03T02:14:20.279938Z",
     "start_time": "2025-01-03T02:14:20.276927Z"
    }
   },
   "cell_type": "code",
   "source": [
    "from langchain_core.runnables import RunnableLambda\n",
    "\n",
    "def some_func_x(x):\n",
    "    return 2*x\n",
    "\n",
    "def some_func_y(y):\n",
    "    return 4*y\n",
    "\n",
    "runnable1 = RunnableLambda(some_func_x) # 把输入翻倍\n",
    "runnable2 = RunnableLambda(some_func_y) # 把输入翻4倍\n",
    "runnable3 = RunnableLambda(lambda x: x) # 原封不动返回输入\n",
    "\n",
    "print(runnable1.invoke(\"x\"))\n",
    "print(runnable2.invoke(\"y\"))\n",
    "print(runnable3.invoke(\"z\"))"
   ],
   "id": "7039734c3aae1b81",
   "outputs": [
    {
     "name": "stdout",
     "output_type": "stream",
     "text": [
      "xx\n",
      "yyyy\n",
      "z\n"
     ]
    }
   ],
   "execution_count": 25
  },
  {
   "metadata": {},
   "cell_type": "markdown",
   "source": [
    "### RunnableSequence\n",
    "\n",
    "RunnableSequence，即顺序链，就是把一组 Runnable 对象从左往右串起来一次执行，第一个的输出，作为第二个的结果，像我们之前用过的 `prompt | llm | parser`，就是顺序链，其本质是：\n",
    "\n",
    "```python\n",
    "chain = RunnableSequence([runnable1, runnable2])\n",
    "```\n",
    "\n",
    "当我们定义如下一个 `chain`，并执行 `chain.invoke(\"x\")` 时，具体执行逻辑为：\n",
    "\n",
    "```python\n",
    "chain = runnable1 | runnable2 | runnable3\n",
    "chain.invoke(\"x\")\n",
    "\n",
    "# 上述代码等价于：\n",
    "output1 = runnable1.invoke(\"x\")\n",
    "output2 = runnable2.invoke(output1)\n",
    "final_output = runnable3.invoke(output2)\n",
    "```\n",
    "\n"
   ],
   "id": "54fe6fe987299892"
  },
  {
   "metadata": {
    "ExecuteTime": {
     "end_time": "2025-01-03T02:21:37.730877Z",
     "start_time": "2025-01-03T02:21:37.727091Z"
    }
   },
   "cell_type": "code",
   "source": [
    "from langchain_core.runnables import RunnableSequence\n",
    "chain = runnable1 | runnable2\n",
    "print(chain)\n",
    "print(chain.invoke(\"xy,\"))\n",
    "\n",
    "chain2 = RunnableSequence(runnable1, runnable2)\n",
    "assert chain2 == chain\n",
    "print(chain2.invoke(\"xy,\"))"
   ],
   "id": "236e5d9ea50bcecc",
   "outputs": [
    {
     "name": "stdout",
     "output_type": "stream",
     "text": [
      "first=RunnableLambda(some_func_x) middle=[] last=RunnableLambda(some_func_y)\n",
      "xy,xy,xy,xy,xy,xy,xy,xy,\n",
      "xy,xy,xy,xy,xy,xy,xy,xy,\n"
     ]
    }
   ],
   "execution_count": 33
  },
  {
   "metadata": {},
   "cell_type": "markdown",
   "source": [
    "### RunnableParallel\n",
    "\n",
    "RunnableParallel 会把参数传递给 dict 中的每一组，其返回结果是一个 dict，该 dict 的每一组 (key, value)，分别为一个chain 的输出\n"
   ],
   "id": "8f3529b7c01803e3"
  },
  {
   "metadata": {
    "ExecuteTime": {
     "end_time": "2025-01-03T03:26:49.159908Z",
     "start_time": "2025-01-03T03:26:49.156608Z"
    }
   },
   "cell_type": "code",
   "source": [
    "from langchain_core.runnables import RunnableParallel\n",
    "\n",
    "chain = RunnableParallel({\n",
    "    \"first\": runnable1,\n",
    "    \"second\": runnable2,\n",
    "})\n",
    "\n",
    "res = chain.invoke(\"abc,\")\n",
    "assert type(res) == dict\n",
    "print(res)"
   ],
   "id": "c919f3902e835fae",
   "outputs": [
    {
     "name": "stdout",
     "output_type": "stream",
     "text": [
      "{'first': 'abc,abc,', 'second': 'abc,abc,abc,abc,'}\n"
     ]
    }
   ],
   "execution_count": 36
  },
  {
   "metadata": {},
   "cell_type": "markdown",
   "source": [
    "## Runnable 的组合及强制转换\n",
    "\n",
    "Runnable 可以随意组合，强制转换，主要是 python 的 dict ，可以隐式转换为 RunnableParallel，python 的 function，可以隐式转换为 RunnableLambda\n",
    "\n",
    "值得注意的是，强制转换的条件是，dict 或 function 要在管道符的一侧，而另一侧必须是一个 Runnable 对象。\n"
   ],
   "id": "4ab847fd26eefc14"
  },
  {
   "metadata": {
    "ExecuteTime": {
     "end_time": "2025-01-03T05:49:03.392850Z",
     "start_time": "2025-01-03T05:49:03.389127Z"
    }
   },
   "cell_type": "code",
   "source": [
    "def func1(x):\n",
    "    return x\n",
    "\n",
    "chain = func1 | runnable1 | {\"first\": runnable2, \"second\": runnable3}\n",
    "res = chain.invoke(\"abc,\")\n",
    "assert type(res) == dict\n",
    "print(res)"
   ],
   "id": "540df9911b06984b",
   "outputs": [
    {
     "name": "stdout",
     "output_type": "stream",
     "text": [
      "{'first': 'abc,abc,abc,abc,abc,abc,abc,abc,', 'second': 'abc,abc,'}\n"
     ]
    }
   ],
   "execution_count": 55
  },
  {
   "metadata": {
    "ExecuteTime": {
     "end_time": "2025-01-03T05:49:10.621226Z",
     "start_time": "2025-01-03T05:49:10.617540Z"
    }
   },
   "cell_type": "code",
   "source": [
    "chain =  {\"first\": runnable1, \"second\": runnable2} | runnable3 | (lambda x: x)\n",
    "res = chain.invoke(\"abc,\")\n",
    "print(res)"
   ],
   "id": "3e2e5168d3e27c96",
   "outputs": [
    {
     "name": "stdout",
     "output_type": "stream",
     "text": [
      "{'first': 'abc,abc,', 'second': 'abc,abc,abc,abc,'}\n"
     ]
    }
   ],
   "execution_count": 56
  },
  {
   "metadata": {},
   "cell_type": "markdown",
   "source": "# RunnableLambda",
   "id": "e823f6b13a9fb5b4"
  },
  {
   "metadata": {
    "ExecuteTime": {
     "end_time": "2025-01-02T07:55:36.366369Z",
     "start_time": "2025-01-02T07:55:36.354896Z"
    }
   },
   "cell_type": "code",
   "source": [
    "from langchain_core.runnables import RunnableLambda, RunnableParallel\n",
    "\n",
    "def some_func_x(x):\n",
    "    return x\n",
    "\n",
    "def some_func_y(y):\n",
    "    return 2*y\n",
    "\n",
    "def some_func_z(z):\n",
    "    return z\n",
    "\n",
    "runnable_func_x = RunnableLambda(some_func_x)\n",
    "print(runnable_func_x.invoke(\"x\"))\n",
    "# print(runnable_func_x.invoke({\"x\": \"x\"}))\n",
    "# print(runnable_func_x.invoke({\"x\"}))\n",
    "# print(runnable_func_x.invoke(input=\"x\"))\n",
    "\n",
    "\n",
    "chain = RunnableLambda(some_func_x) | RunnableLambda(some_func_y)\n",
    "print(chain.invoke(\"x\"))\n",
    "chain = RunnableLambda(some_func_x) | some_func_y\n",
    "print(chain.invoke(\"x\"))\n",
    "chain = some_func_x | RunnableLambda(some_func_y)\n",
    "print(chain.invoke(\"x\"))\n",
    "\n",
    "chain = RunnableParallel({\"x\": RunnableLambda(some_func_x), \"y\": RunnableLambda(some_func_y)})\n",
    "print(chain.invoke(\"x\"))\n",
    "\n",
    "chain = RunnableParallel({\"x\": RunnableLambda(some_func_x), \"y\": RunnableLambda(some_func_y)}) | RunnableLambda(some_func_z)\n",
    "print(chain.invoke(\"x\"))\n",
    "\n",
    "chain = {\"x\": RunnableLambda(some_func_x), \"y\": RunnableLambda(some_func_y)} | RunnableLambda(some_func_z)\n",
    "print(chain.invoke(\"x\"))\n",
    "\n",
    "chain = {\"x\": some_func_x, \"y\": some_func_y} | RunnableLambda(some_func_z)\n",
    "print(chain.invoke(\"x\"))"
   ],
   "id": "119738d2854234bd",
   "outputs": [
    {
     "name": "stdout",
     "output_type": "stream",
     "text": [
      "x\n",
      "xx\n",
      "xx\n",
      "xx\n",
      "{'x': 'x', 'y': 'xx'}\n",
      "{'x': 'x', 'y': 'xx'}\n",
      "{'x': 'x', 'y': 'xx'}\n",
      "{'x': 'x', 'y': 'xx'}\n"
     ]
    }
   ],
   "execution_count": 23
  },
  {
   "metadata": {},
   "cell_type": "code",
   "outputs": [],
   "execution_count": null,
   "source": "",
   "id": "44fd11fb4706af1d"
  }
 ],
 "metadata": {
  "kernelspec": {
   "display_name": "Python 3",
   "language": "python",
   "name": "python3"
  },
  "language_info": {
   "codemirror_mode": {
    "name": "ipython",
    "version": 2
   },
   "file_extension": ".py",
   "mimetype": "text/x-python",
   "name": "python",
   "nbconvert_exporter": "python",
   "pygments_lexer": "ipython2",
   "version": "2.7.6"
  }
 },
 "nbformat": 4,
 "nbformat_minor": 5
}
