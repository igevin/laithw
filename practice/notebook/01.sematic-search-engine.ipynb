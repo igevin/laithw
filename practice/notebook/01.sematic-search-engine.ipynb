{
 "cells": [
  {
   "metadata": {},
   "cell_type": "markdown",
   "source": [
    "# Loading Document\n",
    "\n",
    "Load a PDF into a sequence of `Document` objects.\n",
    "\n",
    "The type of `Document` is `langchain_core.documents.Document`\n",
    "\n",
    "通过这行代码，可以实现把 PDF 的每一页转换分别转换为一个`Document`对象：\n",
    "\n",
    "```\n",
    "docs = loader.load()\n",
    "```"
   ],
   "id": "de9deb80645c1b50"
  },
  {
   "metadata": {
    "ExecuteTime": {
     "end_time": "2024-12-20T12:28:27.979211Z",
     "start_time": "2024-12-20T12:28:22.380995Z"
    }
   },
   "cell_type": "code",
   "source": [
    "from langchain_community.document_loaders import PyPDFLoader\n",
    "\n",
    "file_path = \"../data/nke-10k-2023.pdf\"\n",
    "loader = PyPDFLoader(file_path)\n",
    "\n",
    "docs = loader.load()\n",
    "\n",
    "# 每个一个 document 对象\n",
    "print(len(docs))"
   ],
   "id": "e76bfbfc4e9f30e6",
   "outputs": [
    {
     "name": "stdout",
     "output_type": "stream",
     "text": [
      "107\n"
     ]
    }
   ],
   "execution_count": 6
  },
  {
   "metadata": {
    "ExecuteTime": {
     "end_time": "2024-12-20T12:36:20.323033Z",
     "start_time": "2024-12-20T12:36:20.319558Z"
    }
   },
   "cell_type": "code",
   "source": [
    "print(docs[0].metadata, \"\\n\\n\")\n",
    "print(docs[0].page_content[:200])\n",
    "# dir(docs[0])"
   ],
   "id": "cfaf7640d847fccd",
   "outputs": [
    {
     "name": "stdout",
     "output_type": "stream",
     "text": [
      "{'source': '../data/nke-10k-2023.pdf', 'page': 0} \n",
      "\n",
      "\n",
      "Table of Contents\n",
      "UNITED STATES\n",
      "SECURITIES AND EXCHANGE COMMISSION\n",
      "Washington, D.C. 20549\n",
      "FORM 10-K\n",
      "(Mark One)\n",
      "☑  ANNUAL REPORT PURSUANT TO SECTION 13 OR 15(D) OF THE SECURITIES EXCHANGE ACT OF 1934\n",
      "F\n"
     ]
    }
   ],
   "execution_count": 13
  },
  {
   "metadata": {},
   "cell_type": "markdown",
   "source": [
    "# Splitting\n",
    "\n",
    "不管取数据还是做问答，"
   ],
   "id": "a752e4721861a443"
  },
  {
   "metadata": {
    "ExecuteTime": {
     "end_time": "2024-12-20T12:33:45.825601Z",
     "start_time": "2024-12-20T12:33:45.807585Z"
    }
   },
   "cell_type": "code",
   "source": [
    "from langchain_text_splitters import RecursiveCharacterTextSplitter\n",
    "\n",
    "text_splitter = RecursiveCharacterTextSplitter(chunk_size=1000,\n",
    "                                               chunk_overlap=200,\n",
    "                                               add_start_index=True)\n",
    "\n",
    "all_splits = text_splitter.split_documents(docs)\n",
    "print(len(all_splits))"
   ],
   "id": "9bb4f500a3e05c1e",
   "outputs": [
    {
     "name": "stdout",
     "output_type": "stream",
     "text": [
      "516\n"
     ]
    }
   ],
   "execution_count": 9
  },
  {
   "metadata": {
    "ExecuteTime": {
     "end_time": "2024-12-20T12:44:42.831941Z",
     "start_time": "2024-12-20T12:44:42.829323Z"
    }
   },
   "cell_type": "code",
   "source": [
    "split = all_splits[0]\n",
    "print(split.metadata, \"\\n\\n\",\n",
    "      len(split.page_content))"
   ],
   "id": "6f389bff63f500",
   "outputs": [
    {
     "name": "stdout",
     "output_type": "stream",
     "text": [
      "{'source': '../data/nke-10k-2023.pdf', 'page': 0, 'start_index': 0} \n",
      "\n",
      " 972\n"
     ]
    }
   ],
   "execution_count": 34
  },
  {
   "metadata": {
    "ExecuteTime": {
     "end_time": "2024-12-20T12:42:48.590982Z",
     "start_time": "2024-12-20T12:42:48.588319Z"
    }
   },
   "cell_type": "code",
   "source": [
    "print(len(docs[0].page_content), \"\\t\", len(split.page_content), \"\\n\\n\")\n",
    "\n",
    "print(docs[0].page_content[900:972], \"\\n\")\n",
    "print(split.page_content[900:972])\n"
   ],
   "id": "50fb11883e247de3",
   "outputs": [
    {
     "name": "stdout",
     "output_type": "stream",
     "text": [
      "3646 \t 972 \n",
      "\n",
      "\n",
      "each class) (Trading symbol) (Name of each exchange on which registered) \n",
      "\n",
      "each class) (Trading symbol) (Name of each exchange on which registered)\n"
     ]
    }
   ],
   "execution_count": 33
  },
  {
   "metadata": {},
   "cell_type": "markdown",
   "source": [
    "# Embeddings\n",
    "\n",
    "把文本变成向量，然后可以进行向量搜索"
   ],
   "id": "14a37035e487cdef"
  },
  {
   "metadata": {
    "ExecuteTime": {
     "end_time": "2024-12-20T14:56:43.000251Z",
     "start_time": "2024-12-20T14:56:39.443474Z"
    }
   },
   "cell_type": "code",
   "source": [
    "from langchain_huggingface import HuggingFaceEmbeddings\n",
    "embeddings = HuggingFaceEmbeddings(model_name=\"sentence-transformers/all-mpnet-base-v2\")"
   ],
   "id": "7a487c4ca11875d0",
   "outputs": [],
   "execution_count": 36
  },
  {
   "metadata": {
    "ExecuteTime": {
     "end_time": "2024-12-20T14:57:29.546970Z",
     "start_time": "2024-12-20T14:57:26.134255Z"
    }
   },
   "cell_type": "code",
   "source": [
    "vector_1 = embeddings.embed_query(all_splits[0].page_content)\n",
    "vector_2 = embeddings.embed_query(all_splits[1].page_content)\n",
    "\n",
    "assert len(vector_1) == len(vector_2)\n",
    "print(f\"Generated vectors of length {len(vector_1)}\\n\")\n",
    "print(vector_1[:10])"
   ],
   "id": "c70dfd8c5f518850",
   "outputs": [
    {
     "name": "stdout",
     "output_type": "stream",
     "text": [
      "Generated vectors of length 768\n",
      "\n",
      "[0.047472357749938965, 0.021675849333405495, -0.009018078446388245, 0.005356733687222004, 0.025557702407240868, -0.010230264626443386, -0.008413944393396378, 0.03930392488837242, 0.02157050184905529, -0.024095406755805016]\n"
     ]
    }
   ],
   "execution_count": 37
  }
 ],
 "metadata": {
  "kernelspec": {
   "display_name": "Python 3",
   "language": "python",
   "name": "python3"
  },
  "language_info": {
   "codemirror_mode": {
    "name": "ipython",
    "version": 2
   },
   "file_extension": ".py",
   "mimetype": "text/x-python",
   "name": "python",
   "nbconvert_exporter": "python",
   "pygments_lexer": "ipython2",
   "version": "2.7.6"
  }
 },
 "nbformat": 4,
 "nbformat_minor": 5
}
