{
 "cells": [
  {
   "metadata": {},
   "cell_type": "markdown",
   "source": [
    "# Loading Document\n",
    "\n",
    "Load a PDF into a sequence of `Document` objects.\n",
    "\n",
    "The type of `Document` is `langchain_core.documents.Document`\n",
    "\n",
    "通过这行代码，可以实现把 PDF 的每一页转换分别转换为一个`Document`对象：\n",
    "\n",
    "```\n",
    "docs = loader.load()\n",
    "```"
   ],
   "id": "de9deb80645c1b50"
  },
  {
   "metadata": {
    "ExecuteTime": {
     "end_time": "2024-12-20T12:28:27.979211Z",
     "start_time": "2024-12-20T12:28:22.380995Z"
    }
   },
   "cell_type": "code",
   "source": [
    "from langchain_community.document_loaders import PyPDFLoader\n",
    "from uvloop.includes.stdlib import aio_wait\n",
    "\n",
    "file_path = \"../data/nke-10k-2023.pdf\"\n",
    "loader = PyPDFLoader(file_path)\n",
    "\n",
    "docs = loader.load()\n",
    "\n",
    "# 每个一个 document 对象\n",
    "print(len(docs))"
   ],
   "id": "e76bfbfc4e9f30e6",
   "outputs": [
    {
     "name": "stdout",
     "output_type": "stream",
     "text": [
      "107\n"
     ]
    }
   ],
   "execution_count": 6
  },
  {
   "metadata": {
    "ExecuteTime": {
     "end_time": "2024-12-20T12:36:20.323033Z",
     "start_time": "2024-12-20T12:36:20.319558Z"
    }
   },
   "cell_type": "code",
   "source": [
    "print(docs[0].metadata, \"\\n\\n\")\n",
    "print(docs[0].page_content[:200])\n",
    "# dir(docs[0])"
   ],
   "id": "cfaf7640d847fccd",
   "outputs": [
    {
     "name": "stdout",
     "output_type": "stream",
     "text": [
      "{'source': '../data/nke-10k-2023.pdf', 'page': 0} \n",
      "\n",
      "\n",
      "Table of Contents\n",
      "UNITED STATES\n",
      "SECURITIES AND EXCHANGE COMMISSION\n",
      "Washington, D.C. 20549\n",
      "FORM 10-K\n",
      "(Mark One)\n",
      "☑  ANNUAL REPORT PURSUANT TO SECTION 13 OR 15(D) OF THE SECURITIES EXCHANGE ACT OF 1934\n",
      "F\n"
     ]
    }
   ],
   "execution_count": 13
  },
  {
   "metadata": {},
   "cell_type": "markdown",
   "source": [
    "# Splitting\n",
    "\n",
    "不管取数据还是做问答，"
   ],
   "id": "a752e4721861a443"
  },
  {
   "metadata": {
    "ExecuteTime": {
     "end_time": "2024-12-20T12:33:45.825601Z",
     "start_time": "2024-12-20T12:33:45.807585Z"
    }
   },
   "cell_type": "code",
   "source": [
    "from langchain_text_splitters import RecursiveCharacterTextSplitter\n",
    "\n",
    "text_splitter = RecursiveCharacterTextSplitter(chunk_size=1000,\n",
    "                                               chunk_overlap=200,\n",
    "                                               add_start_index=True)\n",
    "\n",
    "all_splits = text_splitter.split_documents(docs)\n",
    "print(len(all_splits))"
   ],
   "id": "9bb4f500a3e05c1e",
   "outputs": [
    {
     "name": "stdout",
     "output_type": "stream",
     "text": [
      "516\n"
     ]
    }
   ],
   "execution_count": 9
  },
  {
   "metadata": {
    "ExecuteTime": {
     "end_time": "2024-12-20T12:44:42.831941Z",
     "start_time": "2024-12-20T12:44:42.829323Z"
    }
   },
   "cell_type": "code",
   "source": [
    "split = all_splits[0]\n",
    "print(split.metadata, \"\\n\\n\",\n",
    "      len(split.page_content))"
   ],
   "id": "6f389bff63f500",
   "outputs": [
    {
     "name": "stdout",
     "output_type": "stream",
     "text": [
      "{'source': '../data/nke-10k-2023.pdf', 'page': 0, 'start_index': 0} \n",
      "\n",
      " 972\n"
     ]
    }
   ],
   "execution_count": 34
  },
  {
   "metadata": {
    "ExecuteTime": {
     "end_time": "2024-12-20T12:42:48.590982Z",
     "start_time": "2024-12-20T12:42:48.588319Z"
    }
   },
   "cell_type": "code",
   "source": [
    "print(len(docs[0].page_content), \"\\t\", len(split.page_content), \"\\n\\n\")\n",
    "\n",
    "print(docs[0].page_content[900:972], \"\\n\")\n",
    "print(split.page_content[900:972])\n"
   ],
   "id": "50fb11883e247de3",
   "outputs": [
    {
     "name": "stdout",
     "output_type": "stream",
     "text": [
      "3646 \t 972 \n",
      "\n",
      "\n",
      "each class) (Trading symbol) (Name of each exchange on which registered) \n",
      "\n",
      "each class) (Trading symbol) (Name of each exchange on which registered)\n"
     ]
    }
   ],
   "execution_count": 33
  },
  {
   "metadata": {},
   "cell_type": "markdown",
   "source": [
    "# Embeddings\n",
    "\n",
    "把文本变成向量，然后可以进行向量搜索"
   ],
   "id": "14a37035e487cdef"
  },
  {
   "metadata": {
    "ExecuteTime": {
     "end_time": "2024-12-21T02:57:36.191336Z",
     "start_time": "2024-12-21T02:57:32.202493Z"
    }
   },
   "cell_type": "code",
   "source": [
    "from langchain_huggingface import HuggingFaceEmbeddings\n",
    "embeddings = HuggingFaceEmbeddings(model_name=\"sentence-transformers/all-mpnet-base-v2\")"
   ],
   "id": "7a487c4ca11875d0",
   "outputs": [],
   "execution_count": 39
  },
  {
   "metadata": {
    "ExecuteTime": {
     "end_time": "2024-12-21T02:57:38.212046Z",
     "start_time": "2024-12-21T02:57:38.108126Z"
    }
   },
   "cell_type": "code",
   "source": [
    "vector_1 = embeddings.embed_query(all_splits[0].page_content)\n",
    "vector_2 = embeddings.embed_query(all_splits[1].page_content)\n",
    "\n",
    "assert len(vector_1) == len(vector_2)\n",
    "print(f\"Generated vectors of length {len(vector_1)}\\n\")\n",
    "print(vector_1[:10])"
   ],
   "id": "c70dfd8c5f518850",
   "outputs": [
    {
     "name": "stdout",
     "output_type": "stream",
     "text": [
      "Generated vectors of length 768\n",
      "\n",
      "[0.047472357749938965, 0.021675849333405495, -0.009018078446388245, 0.005356733687222004, 0.025557702407240868, -0.010230264626443386, -0.008413944393396378, 0.03930392488837242, 0.02157050184905529, -0.024095406755805016]\n"
     ]
    }
   ],
   "execution_count": 40
  },
  {
   "metadata": {},
   "cell_type": "markdown",
   "source": "# Vector Store",
   "id": "32318c6ce9af9b54"
  },
  {
   "metadata": {
    "ExecuteTime": {
     "end_time": "2024-12-21T03:17:39.322817Z",
     "start_time": "2024-12-21T03:17:29.057664Z"
    }
   },
   "cell_type": "code",
   "source": [
    "from langchain_qdrant import QdrantVectorStore\n",
    "from qdrant_client import QdrantClient\n",
    "from qdrant_client.http.models import VectorParams, Distance\n",
    "\n",
    "client = QdrantClient(\":memory:\")\n",
    "collection_name = \"test\"\n",
    "if not client.collection_exists(collection_name):\n",
    "    client.create_collection(\"test\", vectors_config=VectorParams(size=768, distance=Distance.COSINE))\n",
    "vector_store = QdrantVectorStore(\n",
    "    client=client,\n",
    "    collection_name=\"test\",\n",
    "    embedding=embeddings,\n",
    ")\n",
    "\n",
    "ids = vector_store.add_documents(documents=all_splits)"
   ],
   "id": "1797b448c474d837",
   "outputs": [],
   "execution_count": 55
  },
  {
   "metadata": {
    "ExecuteTime": {
     "end_time": "2024-12-21T03:14:07.223112Z",
     "start_time": "2024-12-21T03:14:07.219857Z"
    }
   },
   "cell_type": "code",
   "source": [
    "print(len(ids))\n",
    "print(ids[:3])"
   ],
   "id": "10b86427e55def1b",
   "outputs": [
    {
     "name": "stdout",
     "output_type": "stream",
     "text": [
      "516\n",
      "['899e7c374ca94fea95cd42a3eb2f79a2', 'd9564a67d3f542a2a7e5c7c9d52123a6', '706550bd7aa64cd4a90975f758bb8be1']\n"
     ]
    }
   ],
   "execution_count": 51
  },
  {
   "metadata": {
    "ExecuteTime": {
     "end_time": "2024-12-21T03:21:43.088996Z",
     "start_time": "2024-12-21T03:21:42.274788Z"
    }
   },
   "cell_type": "code",
   "source": [
    "results = vector_store.similarity_search(\"How many distribution centers does Nike have in the US?\")\n",
    "print(len(results), \"\\n\\n\", results[0])"
   ],
   "id": "2e52844bbacfdaf1",
   "outputs": [
    {
     "name": "stdout",
     "output_type": "stream",
     "text": [
      "4 \n",
      "\n",
      " page_content='operations. We also lease an office complex in Shanghai, China, our headquarters for our Greater China geography, occupied by employees focused on implementing our\n",
      "wholesale, NIKE Direct and merchandising strategies in the region, among other functions.\n",
      "In the United States, NIKE has eight significant distribution centers. Five are located in or near Memphis, Tennessee, two of which are owned and three of which are\n",
      "leased. Two other distribution centers, one located in Indianapolis, Indiana and one located in Dayton, Tennessee, are leased and operated by third-party logistics\n",
      "providers. One distribution center for Converse is located in Ontario, California, which is leased. NIKE has a number of distribution facilities outside the United States,\n",
      "some of which are leased and operated by third-party logistics providers. The most significant distribution facilities outside the United States are located in Laakdal,' metadata={'source': '../data/nke-10k-2023.pdf', 'page': 26, 'start_index': 804, '_id': '6c33199bafc445c5a0ffd198a23f4bde', '_collection_name': 'test'}\n"
     ]
    }
   ],
   "execution_count": 56
  },
  {
   "metadata": {
    "ExecuteTime": {
     "end_time": "2024-12-21T03:36:53.007951Z",
     "start_time": "2024-12-21T03:36:52.925301Z"
    }
   },
   "cell_type": "code",
   "source": [
    "results = await vector_store.asimilarity_search(\"How many distribution centers does Nike have in the US?\")\n",
    "print(len(results), \"\\n\\n\", results[0])"
   ],
   "id": "cb3476c576e0f24b",
   "outputs": [
    {
     "name": "stdout",
     "output_type": "stream",
     "text": [
      "4 \n",
      "\n",
      " page_content='operations. We also lease an office complex in Shanghai, China, our headquarters for our Greater China geography, occupied by employees focused on implementing our\n",
      "wholesale, NIKE Direct and merchandising strategies in the region, among other functions.\n",
      "In the United States, NIKE has eight significant distribution centers. Five are located in or near Memphis, Tennessee, two of which are owned and three of which are\n",
      "leased. Two other distribution centers, one located in Indianapolis, Indiana and one located in Dayton, Tennessee, are leased and operated by third-party logistics\n",
      "providers. One distribution center for Converse is located in Ontario, California, which is leased. NIKE has a number of distribution facilities outside the United States,\n",
      "some of which are leased and operated by third-party logistics providers. The most significant distribution facilities outside the United States are located in Laakdal,' metadata={'source': '../data/nke-10k-2023.pdf', 'page': 26, 'start_index': 804, '_id': '6c33199bafc445c5a0ffd198a23f4bde', '_collection_name': 'test'}\n"
     ]
    }
   ],
   "execution_count": 65
  },
  {
   "metadata": {
    "ExecuteTime": {
     "end_time": "2024-12-21T03:37:20.369961Z",
     "start_time": "2024-12-21T03:37:19.937412Z"
    }
   },
   "cell_type": "code",
   "source": [
    "results = vector_store.similarity_search_with_score(\"What was Nike's revenue in 2023?\")\n",
    "doc, score = results[0]\n",
    "print(f\"Score: {score}\\n\")\n",
    "print(doc)"
   ],
   "id": "c36bf4346fa228db",
   "outputs": [
    {
     "name": "stdout",
     "output_type": "stream",
     "text": [
      "Score: 0.8137388363352561\n",
      "\n",
      "page_content='Table of Contents\n",
      "YEAR ENDED MAY 31,\n",
      "(Dollars in millions) 2023 2022 2021\n",
      "REVENUES\n",
      "North America $ 21,608 $ 18,353 $ 17,179 \n",
      "Europe, Middle East & Africa 13,418 12,479 11,456 \n",
      "Greater China 7,248 7,547 8,290 \n",
      "Asia Pacific & Latin America 6,431 5,955 5,343 \n",
      "Global Brand Divisions 58 102 25 \n",
      "Total NIKE Brand 48,763 44,436 42,293 \n",
      "Converse 2,427 2,346 2,205 \n",
      "Corporate 27 (72) 40 \n",
      "TOTAL NIKE, INC. REVENUES $ 51,217 $ 46,710 $ 44,538 \n",
      "EARNINGS BEFORE INTEREST AND TAXES\n",
      "North America $ 5,454 $ 5,114 $ 5,089 \n",
      "Europe, Middle East & Africa 3,531 3,293 2,435 \n",
      "Greater China 2,283 2,365 3,243 \n",
      "Asia Pacific & Latin America 1,932 1,896 1,530 \n",
      "Global Brand Divisions (4,841) (4,262) (3,656)\n",
      "Converse 676 669 543 \n",
      "Corporate (2,840) (2,219) (2,261)\n",
      "Interest expense (income), net (6) 205 262 \n",
      "TOTAL NIKE, INC. INCOME BEFORE INCOME TAXES $ 6,201 $ 6,651 $ 6,661 \n",
      "ADDITIONS TO PROPERTY, PLANT AND EQUIPMENT\n",
      "North America $ 283 $ 146 $ 98 \n",
      "Europe, Middle East & Africa 215 197 153 \n",
      "Greater China 56 78 94' metadata={'source': '../data/nke-10k-2023.pdf', 'page': 88, 'start_index': 0, '_id': 'bed1b12627294bdd8842807e818cf9f5', '_collection_name': 'test'}\n"
     ]
    }
   ],
   "execution_count": 66
  },
  {
   "metadata": {
    "ExecuteTime": {
     "end_time": "2024-12-21T03:46:43.544287Z",
     "start_time": "2024-12-21T03:46:43.460073Z"
    }
   },
   "cell_type": "code",
   "source": [
    "embedding = embeddings.embed_query(\"How were Nike's margins impacted in 2023?\")\n",
    "\n",
    "results = vector_store.similarity_search_by_vector(embedding)\n",
    "print(results[0])"
   ],
   "id": "c714364a50aa307c",
   "outputs": [
    {
     "name": "stdout",
     "output_type": "stream",
     "text": [
      "page_content='Table of Contents\n",
      "GROSS MARGIN\n",
      "FISCAL 2023 COMPARED TO FISCAL 2022\n",
      "For fiscal 2023, our consolidated gross profit increased 4% to $22,292 million compared to $21,479 million for fiscal 2022. Gross margin decreased 250 basis points to\n",
      "43.5% for fiscal 2023 compared to 46.0% for fiscal 2022 due to the following:\n",
      "*Wholesale equivalent\n",
      "The decrease in gross margin for fiscal 2023 was primarily due to:\n",
      "• Higher NIKE Brand product costs, on a wholesale equivalent basis, primarily due to higher input costs and elevated inbound freight and logistics costs as well as\n",
      "product mix;\n",
      "• Lower margin in our NIKE Direct business, driven by higher promotional activity to liquidate inventory in the current period compared to lower promotional activity in\n",
      "the prior period resulting from lower available inventory supply;\n",
      "• Unfavorable changes in net foreign currency exchange rates, including hedges; and\n",
      "• Lower off-price margin, on a wholesale equivalent basis.\n",
      "This was partially offset by:' metadata={'source': '../data/nke-10k-2023.pdf', 'page': 36, 'start_index': 0, '_id': '154f977aac8645e99f38df8599c93c76', '_collection_name': 'test'}\n"
     ]
    }
   ],
   "execution_count": 67
  },
  {
   "metadata": {},
   "cell_type": "markdown",
   "source": [
    "# Retrievers\n",
    "\n",
    "由于 Langchain 的 `Vector Store` 对象没有继承 `Runnable` 接口，但 `Retriever` 是 Runnable 类型的，所以需要把 Vector Store 转换为 Runnable 对象，再作为 Retriever 使用。\n",
    "\n",
    "转换有两种常见方式：\n",
    "\n",
    "1. @chain 装饰器\n",
    "2. VectorStore 的 `as_retriever()` 方法"
   ],
   "id": "f2af4f43509e927b"
  },
  {
   "metadata": {},
   "cell_type": "markdown",
   "source": "##  1. 使用装饰器",
   "id": "e533476a4e9299c0"
  },
  {
   "metadata": {
    "ExecuteTime": {
     "end_time": "2024-12-21T04:09:48.668089Z",
     "start_time": "2024-12-21T04:09:48.594068Z"
    }
   },
   "cell_type": "code",
   "source": [
    "from typing import List\n",
    "from langchain_core.documents import Document\n",
    "from langchain_core.runnables import chain\n",
    "\n",
    "@chain\n",
    "def retriever(query: str) -> List[Document]:\n",
    "    return vector_store.similarity_search(query, k=1)\n",
    "\n",
    "\n",
    "\n",
    "\n",
    "results = retriever.batch(\n",
    "    [\n",
    "        \"How many distribution centers does Nike have in the US?\",\n",
    "        \"When was Nike incorporated?\",\n",
    "    ],\n",
    ")\n",
    "res = results[1]\n",
    "print(res[0].metadata, \"\\n\\n\", res[0].page_content[:100])\n"
   ],
   "id": "d2663a0185284f0f",
   "outputs": [
    {
     "name": "stdout",
     "output_type": "stream",
     "text": [
      "{'source': '../data/nke-10k-2023.pdf', 'page': 3, 'start_index': 0, '_id': '382ef9330fb54a59bc58fb3218ff668f', '_collection_name': 'test'} \n",
      "\n",
      " Table of Contents\n",
      "PART I\n",
      "ITEM 1. BUSINESS\n",
      "GENERAL\n",
      "NIKE, Inc. was incorporated in 1967 under the laws\n"
     ]
    }
   ],
   "execution_count": 74
  },
  {
   "metadata": {
    "ExecuteTime": {
     "end_time": "2024-12-21T04:08:20.654406Z",
     "start_time": "2024-12-21T04:08:20.584135Z"
    }
   },
   "cell_type": "code",
   "source": [
    "from typing import List\n",
    "from langchain_core.documents import Document\n",
    "from langchain_core.vectorstores import VectorStore\n",
    "from langchain_core.runnables import chain\n",
    "\n",
    "\n",
    "@chain\n",
    "def retriever2(params:dict[str, int, VectorStore]) -> List[Document]:\n",
    "    query, k, store = params[\"query\"], params[\"k\"], params[\"store\"]\n",
    "    return store.similarity_search(query, k=k)\n",
    "\n",
    "\n",
    "\n",
    "\n",
    "res = retriever2.invoke({\n",
    "    \"query\": \"How many distribution centers does Nike have in the US?\",\n",
    "    \"k\":1,\n",
    "    \"store\": vector_store\n",
    "})\n",
    "print(res[0].metadata, \"\\n\\n\", res[0].page_content[:100])\n"
   ],
   "id": "ca035263d505fde7",
   "outputs": [
    {
     "name": "stdout",
     "output_type": "stream",
     "text": [
      "{'source': '../data/nke-10k-2023.pdf', 'page': 26, 'start_index': 804, '_id': '6c33199bafc445c5a0ffd198a23f4bde', '_collection_name': 'test'} \n",
      "\n",
      " operations. We also lease an office complex in Shanghai, China, our headquarters for our Greater Chi\n"
     ]
    }
   ],
   "execution_count": 72
  },
  {
   "metadata": {},
   "cell_type": "markdown",
   "source": "## 使用 `as_retriever()`",
   "id": "fb84830fa9ba7054"
  },
  {
   "metadata": {
    "ExecuteTime": {
     "end_time": "2024-12-21T04:15:39.469868Z",
     "start_time": "2024-12-21T04:15:39.028885Z"
    }
   },
   "cell_type": "code",
   "source": [
    "retriever = vector_store.as_retriever(\n",
    "    search_type=\"similarity\",\n",
    "    search_kwargs={\"k\": 1},\n",
    ")\n",
    "\n",
    "results = retriever.batch(\n",
    "    [\n",
    "        \"How many distribution centers does Nike have in the US?\",\n",
    "        \"When was Nike incorporated?\",\n",
    "    ],\n",
    ")\n",
    "res = results[1]\n",
    "print(res[0].metadata, \"\\n\\n\", res[0].page_content[:100])"
   ],
   "id": "1c04c8083c16935",
   "outputs": [
    {
     "name": "stdout",
     "output_type": "stream",
     "text": [
      "{'source': '../data/nke-10k-2023.pdf', 'page': 3, 'start_index': 0, '_id': '382ef9330fb54a59bc58fb3218ff668f', '_collection_name': 'test'} \n",
      "\n",
      " Table of Contents\n",
      "PART I\n",
      "ITEM 1. BUSINESS\n",
      "GENERAL\n",
      "NIKE, Inc. was incorporated in 1967 under the laws\n"
     ]
    }
   ],
   "execution_count": 75
  },
  {
   "metadata": {
    "ExecuteTime": {
     "end_time": "2024-12-21T04:17:57.456871Z",
     "start_time": "2024-12-21T04:17:57.382685Z"
    }
   },
   "cell_type": "code",
   "source": [
    "retriever = vector_store.as_retriever(\n",
    "    search_type=\"similarity_score_threshold\",\n",
    "    search_kwargs={\"k\": 1, \"score_threshold\":0.85},\n",
    ")\n",
    "\n",
    "results = retriever.batch(\n",
    "    [\n",
    "        \"How many distribution centers does Nike have in the US?\",\n",
    "        \"When was Nike incorporated?\",\n",
    "    ],\n",
    ")\n",
    "res = results[1]\n",
    "if len(res) > 0:\n",
    "    print(res[0].metadata, \"\\n\\n\", res[0].page_content[:100])"
   ],
   "id": "b1f3025724b8d609",
   "outputs": [
    {
     "name": "stdout",
     "output_type": "stream",
     "text": [
      "{'source': '../data/nke-10k-2023.pdf', 'page': 3, 'start_index': 0, '_id': '382ef9330fb54a59bc58fb3218ff668f', '_collection_name': 'test'} \n",
      "\n",
      " Table of Contents\n",
      "PART I\n",
      "ITEM 1. BUSINESS\n",
      "GENERAL\n",
      "NIKE, Inc. was incorporated in 1967 under the laws\n"
     ]
    }
   ],
   "execution_count": 80
  },
  {
   "metadata": {},
   "cell_type": "markdown",
   "source": [
    "# 总结\n",
    "\n",
    "实现一个语意检索引擎，包含以下步骤：\n",
    "\n",
    "1. 通过 DocumentLoader 把文件转换为 langchain 的 `Document` 对象\n",
    "2. 通过 `TextSplitter` 对象把 Document 切成小片\n",
    "3. 创建 embedding 对象，用于把小片文本转换为向量，以便进行向量的相似性检索\n",
    "4. 创建 vector store 对象，把小片文本以向量形式存入数据库\n",
    "5. 创建 retriever 对象，用于检索\n"
   ],
   "id": "202007566d230397"
  },
  {
   "metadata": {},
   "cell_type": "code",
   "outputs": [],
   "execution_count": null,
   "source": "",
   "id": "e0a5b9a98be6598"
  }
 ],
 "metadata": {
  "kernelspec": {
   "display_name": "Python 3",
   "language": "python",
   "name": "python3"
  },
  "language_info": {
   "codemirror_mode": {
    "name": "ipython",
    "version": 2
   },
   "file_extension": ".py",
   "mimetype": "text/x-python",
   "name": "python",
   "nbconvert_exporter": "python",
   "pygments_lexer": "ipython2",
   "version": "2.7.6"
  }
 },
 "nbformat": 4,
 "nbformat_minor": 5
}
